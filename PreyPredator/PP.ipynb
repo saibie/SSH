{
 "cells": [
  {
   "cell_type": "code",
   "execution_count": 1,
   "metadata": {},
   "outputs": [],
   "source": [
    "import os\n",
    "import time\n",
    "import numpy as np\n",
    "import matplotlib.pyplot as plt"
   ]
  },
  {
   "cell_type": "raw",
   "metadata": {},
   "source": [
    "%matplotlib inline\n",
    "fig, ax = plt.subplots(figsize=(10, 10))\n",
    "s = ((ax.get_window_extent().width  / (201.) * 72./fig.dpi) ** 2)\n",
    "ax.scatter(0, 0, s=s*(2*50)**2, marker='s')\n",
    "ax.set_xlim([-100, 100])\n",
    "ax.set_ylim([-100, 100])"
   ]
  },
  {
   "cell_type": "raw",
   "metadata": {},
   "source": [
    "plt.figure(figsize=(10, 10))\n",
    "plt.scatter(0, 0, s=100000, marker='s')"
   ]
  },
  {
   "cell_type": "code",
   "execution_count": 2,
   "metadata": {},
   "outputs": [],
   "source": [
    "class objs():\n",
    "    def __init__(self, x = 250, y = 250, max_bare = 60, size = 10, max_age = 300, moving = 10):\n",
    "        self.x, self.y = x, y\n",
    "        self.size = size\n",
    "        self.bare = max_bare\n",
    "        self.max_bare = max_bare\n",
    "        self.age = max_age\n",
    "        self.max_age = max_age\n",
    "        self.moving = moving\n",
    "\n",
    "class predator(objs):\n",
    "    def __init__(self, x = 250, y = 250, max_bare = 100, size = 25, max_age = 500, moving = 1, feeding = 100):\n",
    "        super().__init__(x, y, max_bare, size, max_age, moving)\n",
    "        self.feeding = feeding"
   ]
  },
  {
   "cell_type": "code",
   "execution_count": 3,
   "metadata": {},
   "outputs": [],
   "source": [
    "t = 0\n",
    "boundary = 2000"
   ]
  },
  {
   "cell_type": "code",
   "execution_count": 4,
   "metadata": {},
   "outputs": [],
   "source": [
    "As = [objs(x = int(np.random.random()*boundary), y = int(np.random.random()*boundary), moving = 10+10*(np.random.random()-.5)) for i in range(100)]"
   ]
  },
  {
   "cell_type": "code",
   "execution_count": 5,
   "metadata": {},
   "outputs": [],
   "source": [
    "Bs = [predator(x = int(np.random.random()*boundary), y = int(np.random.random()*boundary), moving = 4) for i in range(5)]"
   ]
  },
  {
   "cell_type": "code",
   "execution_count": 6,
   "metadata": {},
   "outputs": [],
   "source": [
    "%matplotlib qt"
   ]
  },
  {
   "cell_type": "code",
   "execution_count": null,
   "metadata": {},
   "outputs": [],
   "source": [
    "fig, ax = plt.subplots(figsize = (10, 10))\n",
    "while True:\n",
    "    for A in As:\n",
    "        if A.age < 0:\n",
    "            As.remove(A)\n",
    "        else:\n",
    "            # A.age -= 1\n",
    "            \n",
    "            if A.bare < 0:\n",
    "                if len(As) < 1000:\n",
    "                    A.bare = A.max_bare\n",
    "                    As.append(objs(x = A.x, y = A.y, max_bare = (1+np.random.normal(0, .09))*A.max_bare, \n",
    "                                   size = (1+np.random.normal(0, .09))*A.size, max_age = (1+np.random.normal(0, .09))*A.max_age, \n",
    "                                   moving = (1+np.random.normal(0, .09))*A.moving))\n",
    "            else:\n",
    "                A.bare -= 1\n",
    "            A.x = A.x+int(A.moving*np.trunc(np.random.normal(0, 2)))\n",
    "            A.y = A.y+int(A.moving*np.trunc(np.random.normal(0, 2)))\n",
    "            A.x = max(A.x, 0)\n",
    "            A.x = min(A.x, boundary)\n",
    "            A.y = max(A.y, 0)\n",
    "            A.y = min(A.y, boundary)\n",
    "            \n",
    "    for A in Bs:\n",
    "        if A.age < 0:\n",
    "            Bs.remove(A)\n",
    "        else:\n",
    "            # A.age -= 1\n",
    "            if A.feeding <= 0:\n",
    "                Bs.remove(A)\n",
    "            else:\n",
    "                A.feeding -= 1\n",
    "                if A.bare < 0:\n",
    "                    if A.feeding > 300:\n",
    "                        A.feeding -= 150\n",
    "                        A.bare = A.max_bare\n",
    "                        Bs.append(predator(x = A.x, y = A.y, max_bare = (1+np.random.normal(0, .09))*A.max_bare, \n",
    "                                           size = (1+np.random.normal(0, .09))*A.size, max_age = (1+np.random.normal(0, .09))*A.max_age, \n",
    "                                           moving = (1+np.random.normal(0, .09))*A.moving))\n",
    "                else:\n",
    "                    A.bare -= 1\n",
    "                if A.feeding > 250:\n",
    "                    A.x = A.x+int(np.trunc(A.moving*np.random.normal(0, 2)))\n",
    "                    A.y = A.y+int(np.trunc(A.moving*np.random.normal(0, 2)))\n",
    "                else:\n",
    "                    long = int(np.trunc(A.moving*np.random.random()*3))\n",
    "                    if As:\n",
    "                        near_i = np.argmin([np.linalg.norm([i.x - A.x, i.y - A.y]) for i in As])\n",
    "                        prey_mean_x = (As[near_i].x - A.x)\n",
    "                        prey_mean_y = (As[near_i].y - A.y)\n",
    "                        A.x = A.x + long*((prey_mean_x) / np.linalg.norm([prey_mean_x, prey_mean_y]))\n",
    "                        A.y = A.y + long*((prey_mean_y) / np.linalg.norm([prey_mean_x, prey_mean_y]))\n",
    "                A.x = max(A.x, 0)\n",
    "                A.x = min(A.x, boundary)\n",
    "                A.y = max(A.y, 0)\n",
    "                A.y = min(A.y, boundary)\n",
    "        for prey in As:\n",
    "            if (np.abs(A.x - prey.x) < (A.size + prey.size)) and (np.abs(A.y - prey.y) < (A.size + prey.size)) and (A.feeding < 500):\n",
    "                A.feeding += 10\n",
    "                As.remove(prey)\n",
    "                \n",
    "    if t % 1 == 0:\n",
    "        ax.clear()\n",
    "        s = ((ax.get_window_extent().width  / (boundary+1.) * 72./fig.dpi) ** 2)\n",
    "        ax.set_title('Time : {:d}, Preys : {:d}, Predators : {:d}'.format(t, len(As), len(Bs)))\n",
    "        ax.scatter([i.x for i in As], [i.y for i in As], c = 'b', s = s*np.array([4*i.size**2 for i in As]), marker = 's', edgecolors='k', linewidth = 1)\n",
    "        ax.scatter([i.x for i in Bs], [i.y for i in Bs], c = 'r', s = s*np.array([4*i.size**2 for i in Bs]), marker = 's', edgecolors='k', linewidth = 1)\n",
    "        for i in Bs:\n",
    "            ax.text(i.x, i.y, '$\\\\bf {:d}$'.format(i.feeding), color='w', ha='center', va='center')\n",
    "            if As:\n",
    "                near_i = np.argmin([np.linalg.norm([j.x - i.x, j.y - i.y]) for j in As])\n",
    "                ax.scatter(As[near_i].x, As[near_i].y, c = 'k', s = s*5**2, marker = 's')\n",
    "        ax.set_xlim([0, boundary])\n",
    "        ax.set_ylim([0, boundary])\n",
    "        ax.set_xticks([0, boundary]), ax.set_yticks([0, boundary])\n",
    "        plt.pause(.1)\n",
    "    t += 1\n",
    "    if not Bs:\n",
    "        break\n",
    "    if not As:\n",
    "        break"
   ]
  },
  {
   "cell_type": "code",
   "execution_count": null,
   "metadata": {},
   "outputs": [],
   "source": [
    "plt.close()"
   ]
  }
 ],
 "metadata": {
  "kernelspec": {
   "display_name": "Python 3",
   "language": "python",
   "name": "python3"
  },
  "language_info": {
   "codemirror_mode": {
    "name": "ipython",
    "version": 3
   },
   "file_extension": ".py",
   "mimetype": "text/x-python",
   "name": "python",
   "nbconvert_exporter": "python",
   "pygments_lexer": "ipython3",
   "version": "3.7.7"
  }
 },
 "nbformat": 4,
 "nbformat_minor": 4
}
