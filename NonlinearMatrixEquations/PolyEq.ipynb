{
 "cells": [
  {
   "cell_type": "code",
   "execution_count": 1,
   "metadata": {},
   "outputs": [],
   "source": [
    "%matplotlib inline\n",
    "\n",
    "import numpy as np\n",
    "from numpy import linalg as nla\n",
    "import numpy.polynomial.polynomial as npoly\n",
    "import scipy as sp\n",
    "from scipy import linalg as sla\n",
    "from matplotlib import pyplot as plt\n",
    "from mpl_toolkits.mplot3d import Axes3D\n",
    "from time import time\n",
    "import SHFunctions as shf\n",
    "import os"
   ]
  },
  {
   "cell_type": "code",
   "execution_count": 2,
   "metadata": {},
   "outputs": [
    {
     "name": "stdout",
     "output_type": "stream",
     "text": [
      "0.9999900000995858 1.0000100001004142\n"
     ]
    }
   ],
   "source": [
    "    a = [1, -2, (1 - 1e-10)]\n",
    "    Ts = npoly.polyroots(a)\n",
    "    print(Ts[0], Ts[1])"
   ]
  },
  {
   "cell_type": "code",
   "execution_count": 3,
   "metadata": {},
   "outputs": [],
   "source": [
    "    x0 = 0\n",
    "    tol = 1e-15\n",
    "    maxiter = 100\n",
    "    xs = [x0]\n",
    "    hs = []\n",
    "    ds = []\n",
    "    errs = []"
   ]
  },
  {
   "cell_type": "code",
   "execution_count": 4,
   "metadata": {},
   "outputs": [],
   "source": [
    "    i = 0\n",
    "    err = 1\n",
    "    while (i < maxiter) and (err > tol):\n",
    "        D = npoly.polyval(x0, npoly.polyder(a))\n",
    "        h = (npoly.polyval(x0,a)) / (D)\n",
    "        x0 = x0 - h\n",
    "        xs.append(x0)\n",
    "        ds.append(D)\n",
    "        hs.append(h)\n",
    "        err = np.absolute(npoly.polyval(x0,a))\n",
    "        errs.append(err)\n",
    "        i += 1"
   ]
  },
  {
   "cell_type": "code",
   "execution_count": 5,
   "metadata": {},
   "outputs": [
    {
     "name": "stdout",
     "output_type": "stream",
     "text": [
      "0.9999900000943738\n"
     ]
    },
    {
     "data": {
      "image/png": "[encoded data removed]",
      "text/plain": [
       "<Figure size 432x288 with 1 Axes>"
      ]
     },
     "metadata": {
      "needs_background": "light"
     },
     "output_type": "display_data"
    }
   ],
   "source": [
    "    S = xs[-1]\n",
    "    ax = plt.subplot(111)\n",
    "    ax.semilogy(errs,'-o')\n",
    "    print(S)"
   ]
  },
  {
   "cell_type": "code",
   "execution_count": 25,
   "metadata": {},
   "outputs": [
    {
     "name": "stdout",
     "output_type": "stream",
     "text": [
      "Tangent at approximated solution : -2.0001121411317158e-05\n",
      "Tangent at True solution 1       : -2.0000000826358999e-05\n",
      "Tangent at True solution 2       : +2.0000000826136954e-05\n"
     ]
    },
    {
     "data": {
      "image/png": "[encoded data removed]",
      "text/plain": [
       "<Figure size 720x288 with 2 Axes>"
      ]
     },
     "metadata": {
      "needs_background": "light"
     },
     "output_type": "display_data"
    }
   ],
   "source": [
    "    fig, axes = plt.subplots(1, 2,figsize=(10, 4))\n",
    "    axes[0].plot(ds,'o')\n",
    "    axes[1].semilogy(np.absolute(ds),'o')\n",
    "    print(\"Tangent at approximated solution : {:+.16e}\".format(ds[-1]))\n",
    "    print(\"Tangent at True solution 1       : {:+.16e}\".format(npoly.polyval(Ts[0], npoly.polyder(a))))\n",
    "    print(\"Tangent at True solution 2       : {:+.16e}\".format(npoly.polyval(Ts[1], npoly.polyder(a))))"
   ]
  },
  {
   "cell_type": "code",
   "execution_count": 7,
   "metadata": {},
   "outputs": [
    {
     "data": {
      "text/plain": [
       "[-0.5,\n",
       " -0.24999999995,\n",
       " -0.12499999987499999,\n",
       " -0.06249999973749987,\n",
       " -0.03124999946875007,\n",
       " -0.015624998934378168,\n",
       " -0.007812497867184645,\n",
       " -0.0039062457336079253,\n",
       " -0.0019531164668140533,\n",
       " -0.0009765454336153302,\n",
       " -0.00048824711833982316,\n",
       " -0.00024407237166761047,\n",
       " -0.00012193388602006954,\n",
       " -6.076294206931269e-05,\n",
       " -2.9978209354307687e-05,\n",
       " -1.4218878601869205e-05,\n",
       " -5.815278362347729e-06,\n",
       " -1.4616801598511868e-06,\n",
       " -1.0570786810641359e-07,\n",
       " -5.550803886410905e-10]"
      ]
     },
     "execution_count": 7,
     "metadata": {},
     "output_type": "execute_result"
    }
   ],
   "source": [
    "    hs"
   ]
  }
 ],
 "metadata": {
  "kernelspec": {
   "display_name": "Python 3",
   "language": "python",
   "name": "python3"
  },
  "language_info": {
   "codemirror_mode": {
    "name": "ipython",
    "version": 3
   },
   "file_extension": ".py",
   "mimetype": "text/x-python",
   "name": "python",
   "nbconvert_exporter": "python",
   "pygments_lexer": "ipython3",
   "version": "3.7.1"
  }
 },
 "nbformat": 4,
 "nbformat_minor": 2
}
