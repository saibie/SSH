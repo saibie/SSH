{
 "cells": [
  {
   "cell_type": "code",
   "execution_count": 1,
   "metadata": {},
   "outputs": [
    {
     "data": {
      "text/html": [
       "<style>.container { width:95% !important; }</style>"
      ],
      "text/plain": [
       "<IPython.core.display.HTML object>"
      ]
     },
     "metadata": {},
     "output_type": "display_data"
    }
   ],
   "source": [
    "%matplotlib inline\n",
    "\n",
    "import numpy as np\n",
    "from numpy import linalg as nla\n",
    "import scipy as sp\n",
    "from scipy import linalg as sla\n",
    "from matplotlib import pyplot as plt\n",
    "from mpl_toolkits.mplot3d import Axes3D\n",
    "from time import time\n",
    "import SHFunctions as shf\n",
    "import os\n",
    "\n",
    "from IPython.core.display import display, HTML\n",
    "display(HTML(\"<style>.container { width:95% !important; }</style>\"))\n",
    "np.set_printoptions(linewidth = 200)"
   ]
  },
  {
   "cell_type": "raw",
   "metadata": {},
   "source": [
    "A = shf.MakeStochA(4,6)"
   ]
  },
  {
   "cell_type": "code",
   "execution_count": 2,
   "metadata": {},
   "outputs": [],
   "source": [
    "A = shf.MakeSingularA(5, 2, delta = .00010)"
   ]
  },
  {
   "cell_type": "raw",
   "metadata": {},
   "source": [
    "A = np.array([[[0, 1/3, 1/3],\n",
    "               [1/3, 0, 1/3],\n",
    "               [1/3, 1/3, 0]],\n",
    "              [[-2, 1/3, 1/3],\n",
    "               [1/3, -2, 1/3],\n",
    "               [1/3, 1/3, -2]],\n",
    "              [[0, 1/3, 1/3],\n",
    "               [1/3, 0, 1/3],\n",
    "               [1/3, 1/3, 0]]])"
   ]
  },
  {
   "cell_type": "raw",
   "metadata": {},
   "source": [
    "A = np.array([[[1, 0, 0],\n",
    "               [0, 2, 0],\n",
    "               [0, 0, 2]],\n",
    "              [[-2, 0, 0],\n",
    "               [0, -3, 0],\n",
    "               [0, 0, -3]],\n",
    "              [[1, 0, 0],\n",
    "               [0, 1, 0],\n",
    "               [0, 0, 1]]])"
   ]
  },
  {
   "cell_type": "code",
   "execution_count": 3,
   "metadata": {},
   "outputs": [
    {
     "data": {
      "text/plain": [
       "[<matplotlib.lines.Line2D at 0x1b0986b6128>]"
      ]
     },
     "execution_count": 3,
     "metadata": {},
     "output_type": "execute_result"
    },
    {
     "data": {
      "image/png": "[encoded data removed]",
      "text/plain": [
       "<Figure size 432x288 with 1 Axes>"
      ]
     },
     "metadata": {
      "needs_background": "light"
     },
     "output_type": "display_data"
    }
   ],
   "source": [
    "Ss = shf.NewtonPoly(A)\n",
    "ax = plt.subplot(111)\n",
    "ax.semilogy(Ss['errs'],'-o')"
   ]
  },
  {
   "cell_type": "raw",
   "metadata": {
    "scrolled": false
   },
   "source": [
    "# Derivative에 대한 eigenvalues와 vectors\n",
    "Ds = []\n",
    "EVs = []\n",
    "for i in range(len(Ss['P_Xs'])):\n",
    "    d, ev = nla.eig(Ss['P_Xs'][i])\n",
    "    Ds.append(d)\n",
    "    EVs.append(ev)\n",
    "\n",
    "for i in range(len(Ds)):\n",
    "    print(Ds[i])\n",
    "    print(EVs[i])"
   ]
  },
  {
   "cell_type": "raw",
   "metadata": {},
   "source": [
    "coeffi = np.zeros((Ss['Hs'][i].shape[0] * Ss['Hs'][i].shape[1],len(EVs)))\n",
    "for i in range(len(EVs)):\n",
    "    h = nla.solve(EVs[i], np.reshape(Ss['Hs'][i], (Ss['Hs'][i].shape[0] * Ss['Hs'][i].shape[1],1), order='F'))\n",
    "    coeffi[:,i] = np.squeeze(h)\n",
    "coeffi.transpose()"
   ]
  },
  {
   "cell_type": "raw",
   "metadata": {
    "scrolled": false
   },
   "source": [
    "fig = plt.figure(figsize=(14,5))\n",
    "ax1 = fig.add_subplot(121)\n",
    "ax2 = fig.add_subplot(122)\n",
    "for i in range(coeffi.shape[0]):\n",
    "    ax1.plot(coeffi[i,:],'-o')\n",
    "    ax2.semilogy(np.abs(coeffi[i,:]),'-o')        "
   ]
  },
  {
   "cell_type": "code",
   "execution_count": 4,
   "metadata": {
    "scrolled": false
   },
   "outputs": [
    {
     "name": "stdout",
     "output_type": "stream",
     "text": [
      "[0. 0. 0. 0. 0.]\n",
      "[[1. 0. 0. 0. 0.]\n",
      " [0. 1. 0. 0. 0.]\n",
      " [0. 0. 1. 0. 0.]\n",
      " [0. 0. 0. 1. 0.]\n",
      " [0. 0. 0. 0. 1.]]\n",
      "[ 0.499925   -0.1384481  -0.01286427 -0.10096509 -0.04513462]\n",
      "[[ 0.4472136   0.53189733  0.31129547  0.15122555  0.31517214]\n",
      " [ 0.4472136   0.49777657 -0.91843048 -0.6746908  -0.93025042]\n",
      " [ 0.4472136   0.05985234 -0.19120901 -0.03681359  0.08419751]\n",
      " [ 0.4472136  -0.04222717  0.02087147 -0.45814781 -0.06004251]\n",
      " [ 0.4472136  -0.68113015  0.15028     0.55737645  0.15686414]]\n",
      "[ 0.74988749 -0.14120586 -0.01286638 -0.10201479 -0.04522675]\n",
      "[[ 0.4472136   0.53189733 -0.31129547  0.15122555 -0.31517214]\n",
      " [ 0.4472136   0.49777657  0.91843048 -0.6746908   0.93025042]\n",
      " [ 0.4472136   0.05985234  0.19120901 -0.03681359 -0.08419751]\n",
      " [ 0.4472136  -0.04222717 -0.02087147 -0.45814781  0.06004251]\n",
      " [ 0.4472136  -0.68113015 -0.15028     0.55737645 -0.15686414]]\n",
      "[ 0.87486872 -0.14120695 -0.01286638 -0.1020149  -0.04522675]\n",
      "[[ 0.4472136   0.53189733 -0.31129547  0.15122555 -0.31517214]\n",
      " [ 0.4472136   0.49777657  0.91843048 -0.6746908   0.93025042]\n",
      " [ 0.4472136   0.05985234  0.19120901 -0.03681359 -0.08419751]\n",
      " [ 0.4472136  -0.04222717 -0.02087147 -0.45814781  0.06004251]\n",
      " [ 0.4472136  -0.68113015 -0.15028     0.55737645 -0.15686414]]\n",
      "[ 0.93735928 -0.14120695 -0.01286638 -0.1020149  -0.04522675]\n",
      "[[ 0.4472136   0.53189733 -0.31129547  0.15122555 -0.31517214]\n",
      " [ 0.4472136   0.49777657  0.91843048 -0.6746908   0.93025042]\n",
      " [ 0.4472136   0.05985234  0.19120901 -0.03681359 -0.08419751]\n",
      " [ 0.4472136  -0.04222717 -0.02087147 -0.45814781  0.06004251]\n",
      " [ 0.4472136  -0.68113015 -0.15028     0.55737645 -0.15686414]]\n",
      "[ 0.96860448 -0.14120695 -0.01286638 -0.1020149  -0.04522675]\n",
      "[[-0.4472136  -0.53189733 -0.31129547  0.15122555 -0.31517214]\n",
      " [-0.4472136  -0.49777657  0.91843048 -0.6746908   0.93025042]\n",
      " [-0.4472136  -0.05985234  0.19120901 -0.03681359 -0.08419751]\n",
      " [-0.4472136   0.04222717 -0.02087147 -0.45814781  0.06004251]\n",
      " [-0.4472136   0.68113015 -0.15028     0.55737645 -0.15686414]]\n",
      "[ 0.98422689 -0.14120695 -0.01286638 -0.1020149  -0.04522675]\n",
      "[[-0.4472136   0.53189733  0.31129547  0.15122555 -0.31517214]\n",
      " [-0.4472136   0.49777657 -0.91843048 -0.6746908   0.93025042]\n",
      " [-0.4472136   0.05985234 -0.19120901 -0.03681359 -0.08419751]\n",
      " [-0.4472136  -0.04222717  0.02087147 -0.45814781  0.06004251]\n",
      " [-0.4472136  -0.68113015  0.15028     0.55737645 -0.15686414]]\n",
      "[ 0.99203774 -0.14120695 -0.01286638 -0.1020149  -0.04522675]\n",
      "[[-0.4472136   0.53189733  0.31129547  0.15122555 -0.31517214]\n",
      " [-0.4472136   0.49777657 -0.91843048 -0.6746908   0.93025042]\n",
      " [-0.4472136   0.05985234 -0.19120901 -0.03681359 -0.08419751]\n",
      " [-0.4472136  -0.04222717  0.02087147 -0.45814781  0.06004251]\n",
      " [-0.4472136  -0.68113015  0.15028     0.55737645 -0.15686414]]\n",
      "[ 0.99594245 -0.14120695 -0.01286638 -0.1020149  -0.04522675]\n",
      "[[-0.4472136   0.53189733  0.31129547  0.15122555 -0.31517214]\n",
      " [-0.4472136   0.49777657 -0.91843048 -0.6746908   0.93025042]\n",
      " [-0.4472136   0.05985234 -0.19120901 -0.03681359 -0.08419751]\n",
      " [-0.4472136  -0.04222717  0.02087147 -0.45814781  0.06004251]\n",
      " [-0.4472136  -0.68113015  0.15028     0.55737645 -0.15686414]]\n",
      "[ 0.99789336 -0.14120695 -0.01286638 -0.1020149  -0.04522675]\n",
      "[[-0.4472136   0.53189733  0.31129547  0.15122555 -0.31517214]\n",
      " [-0.4472136   0.49777657 -0.91843048 -0.6746908   0.93025042]\n",
      " [-0.4472136   0.05985234 -0.19120901 -0.03681359 -0.08419751]\n",
      " [-0.4472136  -0.04222717  0.02087147 -0.45814781  0.06004251]\n",
      " [-0.4472136  -0.68113015  0.15028     0.55737645 -0.15686414]]\n",
      "[ 0.99886595 -0.14120695 -0.01286638 -0.1020149  -0.04522675]\n",
      "[[-0.4472136   0.53189733  0.31129547  0.15122555 -0.31517214]\n",
      " [-0.4472136   0.49777657 -0.91843048 -0.6746908   0.93025042]\n",
      " [-0.4472136   0.05985234 -0.19120901 -0.03681359 -0.08419751]\n",
      " [-0.4472136  -0.04222717  0.02087147 -0.45814781  0.06004251]\n",
      " [-0.4472136  -0.68113015  0.15028     0.55737645 -0.15686414]]\n",
      "[ 0.99934656 -0.14120695 -0.01286638 -0.1020149  -0.04522675]\n",
      "[[-0.4472136   0.53189733  0.31129547  0.15122555 -0.31517214]\n",
      " [-0.4472136   0.49777657 -0.91843048 -0.6746908   0.93025042]\n",
      " [-0.4472136   0.05985234 -0.19120901 -0.03681359 -0.08419751]\n",
      " [-0.4472136  -0.04222717  0.02087147 -0.45814781  0.06004251]\n",
      " [-0.4472136  -0.68113015  0.15028     0.55737645 -0.15686414]]\n",
      "[ 0.99957596 -0.14120695 -0.01286638 -0.1020149  -0.04522675]\n",
      "[[-0.4472136   0.53189733  0.31129547  0.15122555 -0.31517214]\n",
      " [-0.4472136   0.49777657 -0.91843048 -0.6746908   0.93025042]\n",
      " [-0.4472136   0.05985234 -0.19120901 -0.03681359 -0.08419751]\n",
      " [-0.4472136  -0.04222717  0.02087147 -0.45814781  0.06004251]\n",
      " [-0.4472136  -0.68113015  0.15028     0.55737645 -0.15686414]]\n",
      "[ 0.99967196 -0.14120695 -0.01286638 -0.1020149  -0.04522675]\n",
      "[[-0.4472136   0.53189733  0.31129547  0.15122555 -0.31517214]\n",
      " [-0.4472136   0.49777657 -0.91843048 -0.6746908   0.93025042]\n",
      " [-0.4472136   0.05985234 -0.19120901 -0.03681359 -0.08419751]\n",
      " [-0.4472136  -0.04222717  0.02087147 -0.45814781  0.06004251]\n",
      " [-0.4472136  -0.68113015  0.15028     0.55737645 -0.15686414]]\n",
      "[ 0.99969784 -0.14120695 -0.01286638 -0.1020149  -0.04522675]\n",
      "[[-0.4472136   0.53189733  0.31129547  0.15122555 -0.31517214]\n",
      " [-0.4472136   0.49777657 -0.91843048 -0.6746908   0.93025042]\n",
      " [-0.4472136   0.05985234 -0.19120901 -0.03681359 -0.08419751]\n",
      " [-0.4472136  -0.04222717  0.02087147 -0.45814781  0.06004251]\n",
      " [-0.4472136  -0.68113015  0.15028     0.55737645 -0.15686414]]\n",
      "[ 0.99970004 -0.14120695 -0.01286638 -0.1020149  -0.04522675]\n",
      "[[-0.4472136   0.53189733  0.31129547  0.15122555 -0.31517214]\n",
      " [-0.4472136   0.49777657 -0.91843048 -0.6746908   0.93025042]\n",
      " [-0.4472136   0.05985234 -0.19120901 -0.03681359 -0.08419751]\n",
      " [-0.4472136  -0.04222717  0.02087147 -0.45814781  0.06004251]\n",
      " [-0.4472136  -0.68113015  0.15028     0.55737645 -0.15686414]]\n",
      "[ 0.99970006 -0.14120695 -0.01286638 -0.1020149  -0.04522675]\n",
      "[[-0.4472136   0.53189733  0.31129547  0.15122555 -0.31517214]\n",
      " [-0.4472136   0.49777657 -0.91843048 -0.6746908   0.93025042]\n",
      " [-0.4472136   0.05985234 -0.19120901 -0.03681359 -0.08419751]\n",
      " [-0.4472136  -0.04222717  0.02087147 -0.45814781  0.06004251]\n",
      " [-0.4472136  -0.68113015  0.15028     0.55737645 -0.15686414]]\n"
     ]
    }
   ],
   "source": [
    "# X_{i}에 대한 eigenvalues와 vectors\n",
    "Ds = []\n",
    "EVs = []\n",
    "for i in range(len(Ss['Xs'])):\n",
    "    d, ev = nla.eig(Ss['Xs'][i])\n",
    "    Ds.append(d)\n",
    "    EVs.append(ev)\n",
    "\n",
    "for i in range(len(Ds)):\n",
    "    print(Ds[i])\n",
    "    print(EVs[i])"
   ]
  },
  {
   "cell_type": "code",
   "execution_count": 5,
   "metadata": {},
   "outputs": [
    {
     "name": "stdout",
     "output_type": "stream",
     "text": [
      "3.0192947175507037\n",
      "5.2535538407379956e-15\n",
      "3.4003783906256627e-15\n",
      "4.476318050547057e-15\n",
      "2.9547326559206556e-15\n",
      "3.7867436065173596e-15\n",
      "3.0436602105439486e-15\n",
      "4.849563362995048e-15\n",
      "4.267330898287705e-15\n",
      "6.332857465586424e-15\n",
      "6.6578171741597175e-15\n",
      "5.617312121254918e-15\n",
      "6.031951575168916e-15\n",
      "5.117616543860323e-15\n",
      "5.752260390042828e-15\n",
      "2.721072889725067e-15\n"
     ]
    }
   ],
   "source": [
    "for i in range(len(EVs)-1):\n",
    "    Pre, Nex = EVs[i], EVs[i+1]\n",
    "    for j in range(Pre.shape[1]):\n",
    "        if np.sign(np.real(Pre[0,j])) != np.sign(np.real(Nex[0,j])):\n",
    "            Nex[:,j] = -Nex[:,j]\n",
    "    print(nla.norm(Pre - Nex, 'fro'))"
   ]
  },
  {
   "cell_type": "code",
   "execution_count": 6,
   "metadata": {},
   "outputs": [
    {
     "data": {
      "text/plain": [
       "array([[[ 1.49056291e-01+0.j,  8.54738676e-02+0.j,  4.05677616e-03+0.j,  1.69832128e-02+0.j,  1.48975718e-02+0.j],\n",
       "        [ 1.49056291e-01+0.j,  7.99907917e-02+0.j, -1.19689082e-02+0.j, -7.57703810e-02+0.j, -4.39711217e-02+0.j],\n",
       "        [ 1.49056291e-01+0.j,  9.61804197e-03+0.j, -2.49181962e-03+0.j, -4.13430877e-03+0.j,  3.97985186e-03+0.j],\n",
       "        [ 1.49056291e-01+0.j, -6.78574538e-03+0.j,  2.71995274e-04+0.j, -5.14517670e-02+0.j, -2.83809211e-03+0.j],\n",
       "        [ 1.49056291e-01+0.j, -1.09455010e-01+0.j,  1.95843616e-03+0.j,  6.25955270e-02+0.j,  7.41466156e-03+0.j]],\n",
       "\n",
       "       [[-2.98157304e-01+0.j,  6.17371200e-01+0.j,  3.15352245e-01+0.j,  1.68208761e-01+0.j,  3.30069709e-01+0.j],\n",
       "        [-2.98157304e-01+0.j,  5.77767363e-01+0.j, -9.30399390e-01+0.j, -7.50461179e-01+0.j, -9.74221541e-01+0.j],\n",
       "        [-2.98157304e-01+0.j,  6.94703806e-02+0.j, -1.93700831e-01+0.j, -4.09479033e-02+0.j,  8.81773597e-02+0.j],\n",
       "        [-2.98157304e-01+0.j, -4.90129193e-02+0.j,  2.11434688e-02+0.j, -5.09599572e-01+0.j, -6.28805989e-02+0.j],\n",
       "        [-2.98157304e-01+0.j, -7.90585157e-01+0.j,  1.52238431e-01+0.j,  6.19971978e-01+0.j,  1.64278798e-01+0.j]],\n",
       "\n",
       "       [[ 1.49101013e-01+0.j,  8.54206778e-02+0.j,  4.02564662e-03+0.j,  1.69680903e-02+0.j,  1.48660546e-02+0.j],\n",
       "        [ 1.49101013e-01+0.j,  7.99410141e-02+0.j, -1.18770651e-02+0.j, -7.57029119e-02+0.j, -4.38780966e-02+0.j],\n",
       "        [ 1.49101013e-01+0.j,  9.61205674e-03+0.j, -2.47269872e-03+0.j, -4.13062741e-03+0.j,  3.97143211e-03+0.j],\n",
       "        [ 1.49101013e-01+0.j, -6.78152267e-03+0.j,  2.69908126e-04+0.j, -5.14059523e-02+0.j, -2.83208785e-03+0.j],\n",
       "        [ 1.49101013e-01+0.j, -1.09386897e-01+0.j,  1.94340816e-03+0.j,  6.25397894e-02+0.j,  7.39897514e-03+0.j]]])"
      ]
     },
     "execution_count": 6,
     "metadata": {},
     "output_type": "execute_result"
    }
   ],
   "source": [
    "B = np.zeros(A.shape)\n",
    "B = B.astype(complex)\n",
    "for i in range(A.shape[0]):\n",
    "    B[i,:,:] = np.dot(A[i,:,:], EVs[-1])\n",
    "B"
   ]
  },
  {
   "cell_type": "code",
   "execution_count": 7,
   "metadata": {},
   "outputs": [],
   "source": [
    "BSs = shf.NewtonPoly(B)"
   ]
  },
  {
   "cell_type": "code",
   "execution_count": 8,
   "metadata": {},
   "outputs": [
    {
     "name": "stdout",
     "output_type": "stream",
     "text": [
      "[[ 0.99970006+0.j  0.        +0.j  0.        +0.j  0.        +0.j  0.        +0.j]\n",
      " [ 0.        +0.j -0.14120695+0.j  0.        +0.j  0.        +0.j  0.        +0.j]\n",
      " [ 0.        +0.j  0.        +0.j -0.01286638+0.j  0.        +0.j  0.        +0.j]\n",
      " [ 0.        +0.j  0.        +0.j  0.        +0.j -0.1020149 +0.j  0.        +0.j]\n",
      " [ 0.        +0.j  0.        +0.j  0.        +0.j  0.        +0.j -0.04522675+0.j]]\n",
      "[ 0.99970006+0.j -0.14120695+0.j -0.1020149 +0.j -0.04522675+0.j -0.01286638+0.j]\n",
      "[[ 1.00000000e+00+0.j  0.00000000e+00+0.j  0.00000000e+00+0.j  0.00000000e+00+0.j  0.00000000e+00+0.j]\n",
      " [ 0.00000000e+00+0.j  1.00000000e+00+0.j -1.54782636e-15-0.j  0.00000000e+00+0.j  0.00000000e+00+0.j]\n",
      " [ 0.00000000e+00+0.j -1.08792876e-15+0.j  1.98272724e-15-0.j  5.71424269e-15+0.j  1.00000000e+00+0.j]\n",
      " [ 0.00000000e+00+0.j -2.08166817e-15+0.j  1.00000000e+00+0.j  1.28417992e-15+0.j  0.00000000e+00+0.j]\n",
      " [ 0.00000000e+00+0.j  3.95490970e-15+0.j -2.50192928e-15-0.j  1.00000000e+00+0.j  1.86261262e-15+0.j]]\n"
     ]
    }
   ],
   "source": [
    "d, v = nla.eig(BSs['sol'])\n",
    "BSs['sol'][abs(BSs['sol']) < 1e-15] = 0\n",
    "d[abs(d) < 1e-15] = 0\n",
    "v[abs(v) < 1e-15] = 0\n",
    "print(BSs['sol'])\n",
    "print(d)\n",
    "print(v)"
   ]
  }
 ],
 "metadata": {
  "kernelspec": {
   "display_name": "Python 3",
   "language": "python",
   "name": "python3"
  },
  "language_info": {
   "codemirror_mode": {
    "name": "ipython",
    "version": 3
   },
   "file_extension": ".py",
   "mimetype": "text/x-python",
   "name": "python",
   "nbconvert_exporter": "python",
   "pygments_lexer": "ipython3",
   "version": "3.7.1"
  }
 },
 "nbformat": 4,
 "nbformat_minor": 2
}
