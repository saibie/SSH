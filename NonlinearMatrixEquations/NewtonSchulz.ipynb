{
 "cells": [
  {
   "cell_type": "code",
   "execution_count": 48,
   "metadata": {},
   "outputs": [],
   "source": [
    "%matplotlib inline\n",
    "\n",
    "import numpy as np\n",
    "from numpy import linalg as nla\n",
    "import scipy as sp\n",
    "from scipy import linalg as sla\n",
    "from matplotlib import pyplot as plt\n",
    "from mpl_toolkits.mplot3d import Axes3D\n",
    "from time import time\n",
    "import SHFunctions as shf\n",
    "import os"
   ]
  },
  {
   "cell_type": "code",
   "execution_count": 53,
   "metadata": {},
   "outputs": [],
   "source": [
    "def NewtonSchulz(p, A, Q, X0 = np.NAN, maxiter = 100, tol = np.NAN):\n",
    "    if np.sum(np.isnan(X0)) > 0: # X0가 주어지지 않았을 때 m by m zero 행렬 처리\n",
    "        X0 = np.eye(A.shape[0])\n",
    "    \n",
    "    if (p <= 0) or (not isinstance(p, int)): # p가 positive integer가 아닐 때 예외처리\n",
    "        raise ValueError('p가 양의 정수가 아닙니다.')\n",
    "        \n",
    "    if A.shape[0] != A.shape[1]: # A가 square matrices의 모음이 아닐 때 예외처리\n",
    "        raise ValueError('A가 정방행렬이 아닙니다.')\n",
    "        \n",
    "    if Q.shape[0] != Q.shape[1]: # Q가 square matrices의 모음이 아닐 때 예외처리\n",
    "        raise ValueError('Q가 정방행렬이 아닙니다.')\n",
    "        \n",
    "    if (Q.shape[0] != A.shape[0]) or (A.shape[1] != Q.shape[1]): # A와 Q가 같은 크기 아닐 때 예외처리\n",
    "        raise ValueError('A, Q가 같은 크기가 아닙니다.')\n",
    "        \n",
    "    m = A.shape[1] # m 초기화\n",
    "    \n",
    "    if np.isnan(tol): # tol이 주어지지 않았을 때 초기화\n",
    "        tol = m * 1e-15\n",
    "        \n",
    "    Xs = [X0] # Xs는 X들을 담은 리스트로 초기화\n",
    "    errs = [] # err 리스트 초기화\n",
    "    S = np.zeros((A.shape[0],A.shape[1]))\n",
    "    \n",
    "    iter = 0\n",
    "    err = 1e10 # error 초기화\n",
    "    \n",
    "    # Newton Iteration 시작\n",
    "    t = time() # 시간체크\n",
    "    while (err > tol) and (iter < maxiter):\n",
    "        X0 = (1/p)*((p-1)*X0 + (Q - A.conj().transpose() @ X0 @ A)@nla.inv(nla.matrix_power(X0,p-1))) # Newton Sequence 적용\n",
    "        err = nla.norm(nla.matrix_power(X0, p) - (Q - (A.conj()).transpose() @ X0 @ A), 'fro') # err 계산\n",
    "\n",
    "        Xs.append(X0) # X_i 저장\n",
    "        errs.append(err) # err 저장\n",
    "        \n",
    "        iter += 1\n",
    "    \n",
    "    calcultime = time() - t\n",
    "    S = Xs[-1] # Solution\n",
    "    \n",
    "    # Vectorize of S - X_{i}와 X_{i+1} - X_{i} : cos 계산\n",
    "    vSmX = []\n",
    "    vXmX = []\n",
    "    for i in range(len(Xs)-1):\n",
    "        vSmX.append(np.reshape(S - Xs[i], S.shape[0]*S.shape[1], order='F'))\n",
    "        vXmX.append(np.reshape(Xs[i+1] - Xs[i], S.shape[0]*S.shape[1], order='F'))\n",
    "    cSX = []\n",
    "    cXX = []\n",
    "    for i in range(len(vSmX)-1):\n",
    "        x1, y1 = vSmX[i+1], vSmX[i]\n",
    "        x2, y2 = vXmX[i+1], vXmX[i]\n",
    "        c1 = np.dot(x1,y1) / (nla.norm(x1,2)*nla.norm(y1,2))\n",
    "        c2 = np.dot(x2,y2) / (nla.norm(x2,2)*nla.norm(y2,2))\n",
    "        cSX.append(c1)\n",
    "        cXX.append(c2)\n",
    "    return {'sol':S, 'Xs':Xs, 'errs':errs, 'time':calcultime, 'SmX':vSmX, 'XmX':vXmX, 'csSmX':cSX, 'csXmX':cXX}"
   ]
  },
  {
   "cell_type": "code",
   "execution_count": 54,
   "metadata": {},
   "outputs": [],
   "source": [
    "p = 2\n",
    "A = np.array([[0.5, -0.45],[0.45, 0]]);\n",
    "Q = 0.8*np.eye(2);"
   ]
  },
  {
   "cell_type": "code",
   "execution_count": 55,
   "metadata": {},
   "outputs": [
    {
     "data": {
      "text/plain": [
       "[<matplotlib.lines.Line2D at 0x1cbd108fe48>]"
      ]
     },
     "execution_count": 55,
     "metadata": {},
     "output_type": "execute_result"
    },
    {
     "data": {
      "image/png": "[encoded data removed]",
      "text/plain": [
       "<Figure size 432x288 with 1 Axes>"
      ]
     },
     "metadata": {
      "needs_background": "light"
     },
     "output_type": "display_data"
    }
   ],
   "source": [
    "Ss = NewtonSchulz(p, A, Q)\n",
    "ax = plt.subplot(111)\n",
    "ax.semilogy(Ss['errs'],'-o')"
   ]
  },
  {
   "cell_type": "code",
   "execution_count": 57,
   "metadata": {},
   "outputs": [
    {
     "name": "stdout",
     "output_type": "stream",
     "text": [
      "[[0.64065035 0.1154399 ]\n",
      " [0.1154399  0.81051954]]\n",
      "0.0019333362579345703\n",
      "[[-4.44089210e-16  6.10622664e-16]\n",
      " [-5.82867088e-16  3.33066907e-16]]\n"
     ]
    }
   ],
   "source": [
    "S = Ss['sol']\n",
    "print(S)\n",
    "print(Ss['time'])\n",
    "print(nla.matrix_power(S, p) - (Q - A.conj().transpose() @ S @ A))"
   ]
  },
  {
   "cell_type": "code",
   "execution_count": 62,
   "metadata": {},
   "outputs": [
    {
     "data": {
      "text/plain": [
       "[0.75435873611679,\n",
       " -0.529916437529282,\n",
       " 0.3124923557742276,\n",
       " 0.07819011039854923,\n",
       " -0.5904179286898757,\n",
       " -0.6916489523483319,\n",
       " -0.9601909759314716,\n",
       " -0.9428430493976712,\n",
       " -0.9928913849024102,\n",
       " -0.9958040582067003,\n",
       " -0.996943504777357,\n",
       " -0.9981821845319059,\n",
       " -0.9982872949701811,\n",
       " -0.9982773947522261,\n",
       " -0.9979810555426348,\n",
       " -0.9971212556173819,\n",
       " -0.9950646278502743,\n",
       " -0.9892513847903949,\n",
       " -0.9689702311440419,\n",
       " -0.8911692731179054,\n",
       " -0.7653424496578828]"
      ]
     },
     "execution_count": 62,
     "metadata": {},
     "output_type": "execute_result"
    }
   ],
   "source": [
    "Ss['csXmX']"
   ]
  }
 ],
 "metadata": {
  "kernelspec": {
   "display_name": "Python 3",
   "language": "python",
   "name": "python3"
  },
  "language_info": {
   "codemirror_mode": {
    "name": "ipython",
    "version": 3
   },
   "file_extension": ".py",
   "mimetype": "text/x-python",
   "name": "python",
   "nbconvert_exporter": "python",
   "pygments_lexer": "ipython3",
   "version": "3.7.1"
  }
 },
 "nbformat": 4,
 "nbformat_minor": 2
}
