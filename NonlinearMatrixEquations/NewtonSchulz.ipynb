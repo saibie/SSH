{
 "cells": [
  {
   "cell_type": "code",
   "execution_count": 1,
   "metadata": {},
   "outputs": [
    {
     "data": {
      "text/html": [
       "<style>.container { width:95% !important; }</style>"
      ],
      "text/plain": [
       "<IPython.core.display.HTML object>"
      ]
     },
     "metadata": {},
     "output_type": "display_data"
    }
   ],
   "source": [
    "%matplotlib inline\n",
    "\n",
    "import numpy as np\n",
    "from numpy import linalg as nla\n",
    "import scipy as sp\n",
    "from scipy import linalg as sla\n",
    "from matplotlib import pyplot as plt\n",
    "from mpl_toolkits.mplot3d import Axes3D\n",
    "from time import time\n",
    "from pprint import pprint\n",
    "import SHFunctions as shf\n",
    "import os\n",
    "\n",
    "from IPython.core.display import display, HTML\n",
    "display(HTML(\"<style>.container { width:95% !important; }</style>\"))\n",
    "np.set_printoptions(linewidth = 200)"
   ]
  },
  {
   "cell_type": "code",
   "execution_count": 2,
   "metadata": {},
   "outputs": [],
   "source": [
    "def NewtonSchulz(p, A, Q, X0 = np.NAN, maxiter = 100, tol = np.NAN):\n",
    "    if np.sum(np.isnan(X0)) > 0: # X0가 주어지지 않았을 때 m by m zero 행렬 처리\n",
    "        X0 = np.eye(A.shape[0])\n",
    "    \n",
    "    if (p <= 0) or (not isinstance(p, int)): # p가 positive integer가 아닐 때 예외처리\n",
    "        raise ValueError('p가 양의 정수가 아닙니다.')\n",
    "        \n",
    "    if A.shape[0] != A.shape[1]: # A가 square matrix가 아닐 때 예외처리\n",
    "        raise ValueError('A가 정방행렬이 아닙니다.')\n",
    "        \n",
    "    if Q.shape[0] != Q.shape[1]: # Q가 square matrix가 아닐 때 예외처리\n",
    "        raise ValueError('Q가 정방행렬이 아닙니다.')\n",
    "        \n",
    "    if (Q.shape[0] != A.shape[0]) or (A.shape[1] != Q.shape[1]): # A와 Q가 같은 크기 아닐 때 예외처리\n",
    "        raise ValueError('A, Q가 같은 크기가 아닙니다.')\n",
    "        \n",
    "    m = A.shape[1] # m 초기화\n",
    "    \n",
    "    if np.isnan(tol): # tol이 주어지지 않았을 때 초기화\n",
    "        tol = m * 1e-15\n",
    "        \n",
    "    Xs = [X0] # Xs는 X들을 담은 리스트로 초기화\n",
    "    errs = [] # err 리스트 초기화\n",
    "    S = np.zeros((A.shape[0],A.shape[1]))\n",
    "    \n",
    "    iter = 0\n",
    "    err = 1e10 # error 초기화\n",
    "    \n",
    "    # Newton Iteration 시작\n",
    "    t = time() # 시간체크\n",
    "    while (err > tol) and (iter < maxiter):\n",
    "        X0 = (1/p)*((p-1)*X0 + (Q - A.conj().transpose() @ X0 @ A)@nla.inv(nla.matrix_power(X0,p-1))) # Newton Sequence 적용\n",
    "        err = nla.norm(nla.matrix_power(X0, p) - (Q - (A.conj()).transpose() @ X0 @ A), 'fro') # err 계산\n",
    "\n",
    "        Xs.append(X0) # X_i 저장\n",
    "        errs.append(err) # err 저장\n",
    "        \n",
    "        iter += 1\n",
    "    \n",
    "    calcultime = time() - t\n",
    "    S = Xs[-1] # Solution\n",
    "    \n",
    "    # Vectorize of S - X_{i}와 X_{i+1} - X_{i} : cos 계산\n",
    "    vSmX = []\n",
    "    vXmX = []\n",
    "    for i in range(len(Xs)-1):\n",
    "        vSmX.append(np.reshape(S - Xs[i], S.shape[0]*S.shape[1], order='F'))\n",
    "        vXmX.append(np.reshape(Xs[i+1] - Xs[i], S.shape[0]*S.shape[1], order='F'))\n",
    "    cSX = []\n",
    "    cXX = []\n",
    "    for i in range(len(vSmX)-1):\n",
    "        x1, y1 = vSmX[i+1], vSmX[i]\n",
    "        x2, y2 = vXmX[i+1], vXmX[i]\n",
    "        c1 = np.dot(x1,y1) / (nla.norm(x1,2)*nla.norm(y1,2))\n",
    "        c2 = np.dot(x2,y2) / (nla.norm(x2,2)*nla.norm(y2,2))\n",
    "        cSX.append(c1)\n",
    "        cXX.append(c2)\n",
    "    return {'sol':S, 'Xs':Xs, 'errs':errs, 'time':calcultime, 'SmX':vSmX, 'XmX':vXmX, 'csSmX':cSX, 'csXmX':cXX}\n",
    "\n",
    "def Newton_pth(p, A, X0 = np.NAN, maxiter = 100, tol = np.NAN):\n",
    "    if np.sum(np.isnan(X0)) > 0: # X0가 주어지지 않았을 때 m by m zero 행렬 처리\n",
    "#         X0 = np.eye(A.shape[0])\n",
    "        X0 = A\n",
    "    \n",
    "    if (p <= 0) or (not isinstance(p, int)): # p가 positive integer가 아닐 때 예외처리\n",
    "        raise ValueError('p가 양의 정수가 아닙니다.')\n",
    "        \n",
    "    if A.shape[0] != A.shape[1]: # A가 square matrix가 아닐 때 예외처리\n",
    "        raise ValueError('A가 정방행렬이 아닙니다.')\n",
    "        \n",
    "    m = A.shape[1] # m 초기화\n",
    "    \n",
    "    if np.isnan(tol): # tol이 주어지지 않았을 때 초기화\n",
    "        tol = m * p * 1e-15\n",
    "        \n",
    "    Xs = [X0] # Xs는 X들을 담은 리스트로 초기화\n",
    "    errs = [] # err 리스트 초기화\n",
    "    S = np.zeros((A.shape[0],A.shape[1]))\n",
    "    \n",
    "    iter = 0\n",
    "    err = 1e10 # error 초기화\n",
    "    \n",
    "    # Newton Iteration 시작\n",
    "    t = time() # 시간체크\n",
    "    while (err > tol) and (iter < maxiter):\n",
    "        X0 = (1/p)*((p-1)*X0 + A@nla.inv(nla.matrix_power(X0,p-1))) # Newton Sequence 적용\n",
    "        err = nla.norm(nla.matrix_power(X0, p) - A, 'fro') # err 계산\n",
    "\n",
    "        Xs.append(X0) # X_i 저장\n",
    "        errs.append(err) # err 저장\n",
    "        \n",
    "        iter += 1\n",
    "    \n",
    "    calcultime = time() - t\n",
    "    S = Xs[-1] # Solution\n",
    "    \n",
    "    # Vectorize of S - X_{i}와 X_{i+1} - X_{i} : cos 계산\n",
    "    vSmX = []\n",
    "    vXmX = []\n",
    "    for i in range(len(Xs)-1):\n",
    "        vSmX.append(np.reshape(S - Xs[i], S.shape[0]*S.shape[1], order='F'))\n",
    "        vXmX.append(np.reshape(Xs[i+1] - Xs[i], S.shape[0]*S.shape[1], order='F'))\n",
    "    cSX = []\n",
    "    cXX = []\n",
    "    for i in range(len(vSmX)-1):\n",
    "        x1, y1 = vSmX[i+1], vSmX[i]\n",
    "        x2, y2 = vXmX[i+1], vXmX[i]\n",
    "        c1 = np.dot(x1,y1) / (nla.norm(x1,2)*nla.norm(y1,2))\n",
    "        c2 = np.dot(x2,y2) / (nla.norm(x2,2)*nla.norm(y2,2))\n",
    "        cSX.append(c1)\n",
    "        cXX.append(c2)\n",
    "    return {'sol':S, 'Xs':Xs, 'errs':errs, 'time':calcultime, 'SmX':vSmX, 'XmX':vXmX, 'csSmX':cSX, 'csXmX':cXX}\n",
    "\n"
   ]
  },
  {
   "cell_type": "raw",
   "metadata": {
    "scrolled": false
   },
   "source": [
    "p = 2\n",
    "m = 6\n",
    "A = m*np.eye(m) - np.random.rand(m,m)\n",
    "Ss = Newton_pth(p, A)\n",
    "ax = plt.subplot(111)\n",
    "ax.semilogy(Ss['errs'],'-o')\n",
    "Ss['sol']"
   ]
  },
  {
   "cell_type": "raw",
   "metadata": {},
   "source": [
    "p = 2\n",
    "A = np.array([[0.5, -0.45],[0.45, 0]])\n",
    "Q = 0.8*np.eye(2)"
   ]
  },
  {
   "cell_type": "code",
   "execution_count": 3,
   "metadata": {},
   "outputs": [],
   "source": [
    "p = 4\n",
    "A = np.random.rand(10,10) * 1e-1\n",
    "Q = np.eye(10)"
   ]
  },
  {
   "cell_type": "code",
   "execution_count": 4,
   "metadata": {},
   "outputs": [
    {
     "data": {
      "text/plain": [
       "[<matplotlib.lines.Line2D at 0x28a3e3cb978>]"
      ]
     },
     "execution_count": 4,
     "metadata": {},
     "output_type": "execute_result"
    },
    {
     "data": {
      "image/png": "[encoded data removed]",
      "text/plain": [
       "<Figure size 432x288 with 1 Axes>"
      ]
     },
     "metadata": {
      "needs_background": "light"
     },
     "output_type": "display_data"
    }
   ],
   "source": [
    "Ss = NewtonSchulz(p, A, Q)\n",
    "ax = plt.subplot(111)\n",
    "ax.semilogy(Ss['errs'],'-o')"
   ]
  },
  {
   "cell_type": "raw",
   "metadata": {},
   "source": [
    "S = Ss['sol']\n",
    "print(S)\n",
    "print(Ss['time'])\n",
    "print(nla.matrix_power(S, p) - (Q - A.conj().transpose() @ S @ A))"
   ]
  },
  {
   "cell_type": "code",
   "execution_count": 12,
   "metadata": {
    "scrolled": false
   },
   "outputs": [
    {
     "name": "stdout",
     "output_type": "stream",
     "text": [
      "[array([1.19689646, 1.36340503, 1.38723513, 1.55167711, 1.26880918, 0.74018138, 1.16807852, 1.76193859, 1.51382917, 1.51651081]),\n",
      " array([0.00174486, 0.00087498, 0.01596788, 0.01593541, 0.00298692, 0.0031294 , 0.00032112, 0.00072088, 0.00100391, 0.00119398]),\n",
      " array([8.82221965e-05, 7.93138133e-05, 1.51652687e-04, 1.94893859e-04, 6.67707075e-05, 8.71333764e-05, 1.48487416e-05, 2.61556905e-05, 1.30593428e-05, 7.82059847e-05]),\n",
      " array([4.91377787e-06, 5.74935215e-06, 3.76428785e-07, 8.90339739e-06, 5.20668156e-06, 5.99891824e-06, 1.29806263e-06, 2.26543318e-06, 1.46089567e-06, 5.43782858e-06]),\n",
      " array([3.68098289e-07, 6.41983085e-07, 1.14951257e-07, 9.94322355e-07, 3.33256342e-07, 5.64785367e-07, 1.05681374e-07, 1.49701754e-07, 3.44735488e-08, 5.41657619e-07]),\n",
      " array([4.01945980e-08, 5.25719239e-08, 6.26943294e-09, 8.25099945e-08, 2.90547840e-08, 4.18367636e-08, 8.50777680e-09, 1.35046033e-08, 1.02262374e-08, 4.00906732e-08]),\n",
      " array([4.55617028e-09, 5.44849885e-09, 1.14720051e-09, 8.30779318e-09, 1.48663178e-09, 3.75266146e-09, 7.36820417e-10, 8.15017046e-10, 4.34532731e-10, 3.81858963e-09]),\n",
      " array([4.88907043e-10, 4.78285195e-10, 1.00233005e-10, 7.14158835e-10, 1.58117598e-10, 2.93472982e-10, 6.47013078e-11, 8.03791478e-11, 8.87335892e-11, 3.00006307e-10]),\n",
      " array([5.04117685e-11, 4.73256166e-11, 1.63725490e-11, 6.83849053e-11, 4.94302252e-12, 2.49670486e-11, 5.98308511e-12, 7.83968323e-12, 7.73076862e-12, 2.76579546e-11]),\n",
      " array([5.04835852e-12, 4.30564698e-12, 5.58080225e-12, 6.41177646e-12, 2.25472093e-12, 2.48069118e-12, 2.63453495e-12, 2.83162939e-12, 1.27312337e-12, 2.40872126e-12]),\n",
      " array([4.98418166e-13, 4.33520197e-13, 5.07992805e-12, 2.06303412e-12, 1.56233075e-12, 1.30399946e-12, 1.35414233e-12, 3.45051381e-12, 1.40089055e-12, 1.16140490e-12]),\n",
      " array([4.89146802e-14, 1.18797489e-13, 5.23398897e-12, 3.18692826e-12, 3.12942901e-13, 7.39108341e-13, 5.49109930e-12, 1.83675974e-12, 1.91900085e-12, 8.87512316e-13])]\n"
     ]
    },
    {
     "data": {
      "image/png": "[encoded data removed]",
      "text/plain": [
       "<Figure size 1008x720 with 2 Axes>"
      ]
     },
     "metadata": {
      "needs_background": "light"
     },
     "output_type": "display_data"
    }
   ],
   "source": [
    "ds = np.zeros((len(Ss['Xs']),Ss['Xs'][0].shape[0]))\n",
    "Xs = []\n",
    "i = 0\n",
    "for Xi in Ss['Xs']:\n",
    "    ds[i][:], X = nla.eig(Xi)\n",
    "    Xs.append(X)\n",
    "    i += 1\n",
    "\n",
    "fig = plt.figure(figsize=(14,10))\n",
    "ax1 = fig.add_subplot(121)\n",
    "ax2 = fig.add_subplot(122)\n",
    "\n",
    "for i in range(ds.shape[1]):\n",
    "    ax1.plot(ds[:,i],'-o')\n",
    "    ax2.semilogy(np.abs(ds[:,i]),'-o')\n",
    "\n",
    "xn = []\n",
    "for i in range(len(Xs)-1):\n",
    "    x = np.zeros((Xs[i].shape[1]))\n",
    "    for j in range(Xs[i].shape[1]):\n",
    "        if np.sign(Xs[i][1,j]) == np.sign(Xs[i+1][1,j]):\n",
    "            x[j] = nla.norm(Xs[i][:,j] - Xs[i+1][:,j])\n",
    "        else:\n",
    "            x[j] = nla.norm(Xs[i][:,j] + Xs[i+1][:,j])\n",
    "    xn.append(x)\n",
    "pprint(xn)"
   ]
  },
  {
   "cell_type": "raw",
   "metadata": {},
   "source": [
    "Ss['csXmX']"
   ]
  },
  {
   "cell_type": "code",
   "execution_count": 16,
   "metadata": {},
   "outputs": [
    {
     "name": "stdout",
     "output_type": "stream",
     "text": [
      "XiXii - XiXii : 0.0000000000e+00\n",
      "XiXii - XiXii : 7.7223361512e-06\n",
      "XiXii - XiXii : 7.2525403349e-07\n",
      "XiXii - XiXii : 4.9125290507e-08\n",
      "XiXii - XiXii : 5.1320320020e-09\n",
      "XiXii - XiXii : 4.1326927481e-10\n",
      "XiXii - XiXii : 4.1864280632e-11\n",
      "XiXii - XiXii : 3.6573797106e-12\n",
      "XiXii - XiXii : 3.5479609485e-13\n",
      "XiXii - XiXii : 3.1985559100e-14\n",
      "XiXii - XiXii : 3.0343980692e-15\n",
      "XiXii - XiXii : 2.9448942858e-16\n"
     ]
    }
   ],
   "source": [
    "for i in range(len(Ss['Xs'])-1):\n",
    "    print(\"XiXii - XiXii : {:3.10e}\".format(nla.norm(Ss['Xs'][i] @ Ss['Xs'][i+1] - Ss['Xs'][i+1] @ Ss['Xs'][i])))"
   ]
  }
 ],
 "metadata": {
  "kernelspec": {
   "display_name": "Python 3",
   "language": "python",
   "name": "python3"
  },
  "language_info": {
   "codemirror_mode": {
    "name": "ipython",
    "version": 3
   },
   "file_extension": ".py",
   "mimetype": "text/x-python",
   "name": "python",
   "nbconvert_exporter": "python",
   "pygments_lexer": "ipython3",
   "version": "3.7.1"
  }
 },
 "nbformat": 4,
 "nbformat_minor": 2
}
