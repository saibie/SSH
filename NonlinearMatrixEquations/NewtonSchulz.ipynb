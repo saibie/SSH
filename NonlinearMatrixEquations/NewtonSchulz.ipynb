{
 "cells": [
  {
   "cell_type": "code",
   "execution_count": 1,
   "metadata": {},
   "outputs": [
    {
     "data": {
      "text/html": [
       "<style>.container { width:95% !important; }</style>"
      ],
      "text/plain": [
       "<IPython.core.display.HTML object>"
      ]
     },
     "metadata": {},
     "output_type": "display_data"
    }
   ],
   "source": [
    "%matplotlib inline\n",
    "\n",
    "import numpy as np\n",
    "from numpy import linalg as nla\n",
    "import scipy as sp\n",
    "from scipy import linalg as sla\n",
    "from matplotlib import pyplot as plt\n",
    "from mpl_toolkits.mplot3d import Axes3D\n",
    "from time import time\n",
    "import SHFunctions as shf\n",
    "import os\n",
    "\n",
    "from IPython.core.display import display, HTML\n",
    "display(HTML(\"<style>.container { width:95% !important; }</style>\"))\n",
    "np.set_printoptions(linewidth = 200)"
   ]
  },
  {
   "cell_type": "code",
   "execution_count": 2,
   "metadata": {},
   "outputs": [],
   "source": [
    "def NewtonSchulz(p, A, Q, X0 = np.NAN, maxiter = 100, tol = np.NAN):\n",
    "    if np.sum(np.isnan(X0)) > 0: # X0가 주어지지 않았을 때 m by m zero 행렬 처리\n",
    "        X0 = np.eye(A.shape[0])\n",
    "    \n",
    "    if (p <= 0) or (not isinstance(p, int)): # p가 positive integer가 아닐 때 예외처리\n",
    "        raise ValueError('p가 양의 정수가 아닙니다.')\n",
    "        \n",
    "    if A.shape[0] != A.shape[1]: # A가 square matrices의 모음이 아닐 때 예외처리\n",
    "        raise ValueError('A가 정방행렬이 아닙니다.')\n",
    "        \n",
    "    if Q.shape[0] != Q.shape[1]: # Q가 square matrices의 모음이 아닐 때 예외처리\n",
    "        raise ValueError('Q가 정방행렬이 아닙니다.')\n",
    "        \n",
    "    if (Q.shape[0] != A.shape[0]) or (A.shape[1] != Q.shape[1]): # A와 Q가 같은 크기 아닐 때 예외처리\n",
    "        raise ValueError('A, Q가 같은 크기가 아닙니다.')\n",
    "        \n",
    "    m = A.shape[1] # m 초기화\n",
    "    \n",
    "    if np.isnan(tol): # tol이 주어지지 않았을 때 초기화\n",
    "        tol = m * 1e-15\n",
    "        \n",
    "    Xs = [X0] # Xs는 X들을 담은 리스트로 초기화\n",
    "    errs = [] # err 리스트 초기화\n",
    "    S = np.zeros((A.shape[0],A.shape[1]))\n",
    "    \n",
    "    iter = 0\n",
    "    err = 1e10 # error 초기화\n",
    "    \n",
    "    # Newton Iteration 시작\n",
    "    t = time() # 시간체크\n",
    "    while (err > tol) and (iter < maxiter):\n",
    "        X0 = (1/p)*((p-1)*X0 + (Q - A.conj().transpose() @ X0 @ A)@nla.inv(nla.matrix_power(X0,p-1))) # Newton Sequence 적용\n",
    "        err = nla.norm(nla.matrix_power(X0, p) - (Q - (A.conj()).transpose() @ X0 @ A), 'fro') # err 계산\n",
    "\n",
    "        Xs.append(X0) # X_i 저장\n",
    "        errs.append(err) # err 저장\n",
    "        \n",
    "        iter += 1\n",
    "    \n",
    "    calcultime = time() - t\n",
    "    S = Xs[-1] # Solution\n",
    "    \n",
    "    # Vectorize of S - X_{i}와 X_{i+1} - X_{i} : cos 계산\n",
    "    vSmX = []\n",
    "    vXmX = []\n",
    "    for i in range(len(Xs)-1):\n",
    "        vSmX.append(np.reshape(S - Xs[i], S.shape[0]*S.shape[1], order='F'))\n",
    "        vXmX.append(np.reshape(Xs[i+1] - Xs[i], S.shape[0]*S.shape[1], order='F'))\n",
    "    cSX = []\n",
    "    cXX = []\n",
    "    for i in range(len(vSmX)-1):\n",
    "        x1, y1 = vSmX[i+1], vSmX[i]\n",
    "        x2, y2 = vXmX[i+1], vXmX[i]\n",
    "        c1 = np.dot(x1,y1) / (nla.norm(x1,2)*nla.norm(y1,2))\n",
    "        c2 = np.dot(x2,y2) / (nla.norm(x2,2)*nla.norm(y2,2))\n",
    "        cSX.append(c1)\n",
    "        cXX.append(c2)\n",
    "    return {'sol':S, 'Xs':Xs, 'errs':errs, 'time':calcultime, 'SmX':vSmX, 'XmX':vXmX, 'csSmX':cSX, 'csXmX':cXX}"
   ]
  },
  {
   "cell_type": "raw",
   "metadata": {},
   "source": [
    "p = 2\n",
    "A = np.array([[0.5, -0.45],[0.45, 0]])\n",
    "Q = 0.8*np.eye(2)"
   ]
  },
  {
   "cell_type": "code",
   "execution_count": 3,
   "metadata": {},
   "outputs": [],
   "source": [
    "p = 2\n",
    "A = np.random.rand(10,10) * 1e-2\n",
    "Q = np.eye(10)"
   ]
  },
  {
   "cell_type": "code",
   "execution_count": 4,
   "metadata": {},
   "outputs": [
    {
     "data": {
      "text/plain": [
       "[<matplotlib.lines.Line2D at 0x23b0ec52358>]"
      ]
     },
     "execution_count": 4,
     "metadata": {},
     "output_type": "execute_result"
    },
    {
     "data": {
      "image/png": "[encoded data removed]",
      "text/plain": [
       "<Figure size 432x288 with 1 Axes>"
      ]
     },
     "metadata": {
      "needs_background": "light"
     },
     "output_type": "display_data"
    }
   ],
   "source": [
    "Ss = NewtonSchulz(p, A, Q)\n",
    "ax = plt.subplot(111)\n",
    "ax.semilogy(Ss['errs'],'-o')"
   ]
  },
  {
   "cell_type": "code",
   "execution_count": 5,
   "metadata": {},
   "outputs": [
    {
     "name": "stdout",
     "output_type": "stream",
     "text": [
      "[[ 9.99827078e-01 -1.89883040e-04 -1.86646244e-04 -1.72920881e-04 -1.11670666e-04 -1.08532694e-04 -1.15612356e-04 -9.80748542e-05 -9.06275554e-05 -1.26715437e-04]\n",
      " [-1.89883040e-04  9.99747296e-01 -2.03774776e-04 -1.80831599e-04 -1.32429437e-04 -1.42947227e-04 -1.25848859e-04 -1.13703958e-04 -1.21827549e-04 -1.29886708e-04]\n",
      " [-1.86646244e-04 -2.03774776e-04  9.99762070e-01 -1.85509461e-04 -1.27036337e-04 -1.37781619e-04 -1.23268573e-04 -9.82898620e-05 -1.08626067e-04 -1.28551857e-04]\n",
      " [-1.72920881e-04 -1.80831599e-04 -1.85509461e-04  9.99790871e-01 -1.08075244e-04 -9.87908856e-05 -9.63420059e-05 -1.06634517e-04 -9.95316880e-05 -1.41671782e-04]\n",
      " [-1.11670666e-04 -1.32429437e-04 -1.27036337e-04 -1.08075244e-04  9.99877860e-01 -1.26071249e-04 -9.23372910e-05 -7.37001464e-05 -9.36448576e-05 -1.00222507e-04]\n",
      " [-1.08532694e-04 -1.42947227e-04 -1.37781619e-04 -9.87908856e-05 -1.26071249e-04  9.99849377e-01 -9.62711193e-05 -5.59705610e-05 -1.15603808e-04 -1.01258962e-04]\n",
      " [-1.15612356e-04 -1.25848859e-04 -1.23268573e-04 -9.63420059e-05 -9.23372910e-05 -9.62711193e-05  9.99891785e-01 -6.09556909e-05 -7.78133808e-05 -8.79845293e-05]\n",
      " [-9.80748542e-05 -1.13703958e-04 -9.82898620e-05 -1.06634517e-04 -7.37001464e-05 -5.59705610e-05 -6.09556909e-05  9.99899619e-01 -4.77259280e-05 -7.64411054e-05]\n",
      " [-9.06275554e-05 -1.21827549e-04 -1.08626067e-04 -9.95316880e-05 -9.36448576e-05 -1.15603808e-04 -7.78133808e-05 -4.77259280e-05  9.99881511e-01 -8.62201065e-05]\n",
      " [-1.26715437e-04 -1.29886708e-04 -1.28551857e-04 -1.41671782e-04 -1.00222507e-04 -1.01258962e-04 -8.79845293e-05 -7.64411054e-05 -8.62201065e-05  9.99865221e-01]]\n",
      "0.0018558502197265625\n",
      "[[3.33066907e-16 2.68936349e-16 2.79236270e-16 2.44487590e-16 1.89193279e-16 2.00387667e-16 1.76209958e-16 1.36175793e-16 1.72659196e-16 1.89735380e-16]\n",
      " [2.62485346e-16 2.22044605e-16 3.05907643e-16 2.67581096e-16 2.06323673e-16 2.18195687e-16 1.92120625e-16 1.48617013e-16 1.87946447e-16 2.06648934e-16]\n",
      " [2.85470432e-16 3.20544372e-16 2.22044605e-16 2.90837233e-16 2.25405632e-16 2.39012369e-16 2.09901541e-16 1.62305065e-16 2.06052623e-16 2.26435624e-16]\n",
      " [2.39500260e-16 2.68502668e-16 2.78911009e-16 1.11022302e-16 1.88922229e-16 1.99926881e-16 1.75884697e-16 1.35958952e-16 1.72388145e-16 1.89410120e-16]\n",
      " [2.21231453e-16 2.49258079e-16 2.56793285e-16 2.25405632e-16 0.00000000e+00 1.86049093e-16 1.63145322e-16 1.26174028e-16 1.60597447e-16 1.76372588e-16]\n",
      " [2.54164094e-16 2.86771475e-16 2.94415100e-16 2.58744848e-16 2.01336343e-16 3.33066907e-16 1.87404346e-16 1.45066251e-16 1.84856470e-16 2.03043962e-16]\n",
      " [2.13777563e-16 2.41072353e-16 2.47685986e-16 2.17626481e-16 1.69271064e-16 1.79842035e-16 3.33066907e-16 1.21959192e-16 1.55284856e-16 1.70572107e-16]\n",
      " [1.27339545e-16 1.42166010e-16 1.48698328e-16 1.29941630e-16 1.00126071e-16 1.05763922e-16 9.32278343e-17 2.22044605e-16 9.10458774e-17 1.00098966e-16]\n",
      " [2.31721109e-16 2.61807720e-16 2.68068987e-16 2.35813973e-16 1.83636743e-16 1.95291916e-16 1.70816052e-16 1.32421743e-16 1.11022302e-16 1.85479887e-16]\n",
      " [2.25785102e-16 2.54245409e-16 2.62105875e-16 2.30067701e-16 1.78595203e-16 1.89626960e-16 1.66262403e-16 1.28667693e-16 1.63633213e-16 1.11022302e-16]]\n"
     ]
    }
   ],
   "source": [
    "S = Ss['sol']\n",
    "print(S)\n",
    "print(Ss['time'])\n",
    "print(nla.matrix_power(S, p) - (Q - A.conj().transpose() @ S @ A))"
   ]
  },
  {
   "cell_type": "code",
   "execution_count": 6,
   "metadata": {},
   "outputs": [
    {
     "data": {
      "text/plain": [
       "[-0.9646327452671877, -0.9815924993126421, -0.9924063285814854]"
      ]
     },
     "execution_count": 6,
     "metadata": {},
     "output_type": "execute_result"
    }
   ],
   "source": [
    "Ss['csXmX']"
   ]
  }
 ],
 "metadata": {
  "kernelspec": {
   "display_name": "Python 3",
   "language": "python",
   "name": "python3"
  },
  "language_info": {
   "codemirror_mode": {
    "name": "ipython",
    "version": 3
   },
   "file_extension": ".py",
   "mimetype": "text/x-python",
   "name": "python",
   "nbconvert_exporter": "python",
   "pygments_lexer": "ipython3",
   "version": "3.7.1"
  }
 },
 "nbformat": 4,
 "nbformat_minor": 2
}
