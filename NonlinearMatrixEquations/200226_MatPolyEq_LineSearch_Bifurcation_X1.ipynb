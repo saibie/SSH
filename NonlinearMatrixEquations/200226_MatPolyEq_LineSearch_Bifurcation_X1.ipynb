{
 "cells": [
  {
   "cell_type": "code",
   "execution_count": 1,
   "metadata": {},
   "outputs": [],
   "source": [
    "%matplotlib inline\n",
    "\n",
    "import numpy as np\n",
    "from numpy import linalg as nla\n",
    "import scipy as sp\n",
    "from scipy import linalg as sla\n",
    "import SHFunctions as shf\n",
    "from matplotlib import pyplot as plt\n",
    "from mpl_toolkits.mplot3d import Axes3D\n",
    "from pprint import pprint\n",
    "from time import time\n",
    "import os\n",
    "\n",
    "from jupyterthemes import jtplot\n",
    "jtplot.style(theme='solarizedl')\n",
    "\n",
    "from IPython.core.display import display, HTML\n",
    "np.set_printoptions(linewidth = 270)"
   ]
  },
  {
   "cell_type": "code",
   "execution_count": 2,
   "metadata": {},
   "outputs": [],
   "source": [
    "# A, S = shf.MakeOneSingA(5, 8, delta = .00000)\n",
    "# S = np.real(S)\n",
    "\n",
    "\n",
    "# A = np.load('200121_Coefficients.npy')"
   ]
  },
  {
   "cell_type": "code",
   "execution_count": 3,
   "metadata": {},
   "outputs": [],
   "source": [
    "X1s = []\n",
    "eps = np.linspace(-.5, -.001, 201)\n",
    "for i, e in zip(range(len(eps)), eps):\n",
    "    A = shf.MakeGenSingA(5, 2, delta = -e)\n",
    "    S = shf.NewtonPoly(A)\n",
    "    A0 = np.copy(A)\n",
    "    A[0,:,:] += e*S['sol']\n",
    "    A[1,:,:] -= e*np.eye(A.shape[1])\n",
    "#     A0[0,:,:] -= e*S\n",
    "#     A0[1,:,:] += e*np.eye(A.shape[1])\n",
    "    Ss = shf.NewtonPoly(A0)\n",
    "    X1s.append(Ss['Xs'][1])"
   ]
  },
  {
   "cell_type": "code",
   "execution_count": 4,
   "metadata": {
    "scrolled": false
   },
   "outputs": [
    {
     "name": "stdout",
     "output_type": "stream",
     "text": [
      "True True True True True True True True True True True True True True True True True True True True True True True True True True True True True True True True True True True True True True True True True True True True True True True True True True True True True True True True True True True True True True True True True True True True True True True True True True True True True True True True True True True True True True True True True True True True True True True True True True True True True True True True True True True True True True True True True True True True True True True True True True True True True True True True True True True True True True True True True True True True True True True True True True True True True True True True True True True True True True True True True True True True True True True True True True True True True True True True True True True True True True True True True True True True True True True True True True True True True True True True True "
     ]
    }
   ],
   "source": [
    "for X1 in X1s:\n",
    "    print('{}'.format(np.all(X1 >= 0)), end=' ')"
   ]
  },
  {
   "cell_type": "raw",
   "metadata": {},
   "source": [
    "for A0 in A1s:\n",
    "    print(A0)"
   ]
  }
 ],
 "metadata": {
  "kernelspec": {
   "display_name": "Python 3",
   "language": "python",
   "name": "python3"
  },
  "language_info": {
   "codemirror_mode": {
    "name": "ipython",
    "version": 3
   },
   "file_extension": ".py",
   "mimetype": "text/x-python",
   "name": "python",
   "nbconvert_exporter": "python",
   "pygments_lexer": "ipython3",
   "version": "3.7.1"
  }
 },
 "nbformat": 4,
 "nbformat_minor": 2
}
