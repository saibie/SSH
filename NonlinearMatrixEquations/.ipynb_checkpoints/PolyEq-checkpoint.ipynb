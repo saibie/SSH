{
 "cells": [
  {
   "cell_type": "code",
   "execution_count": 1,
   "metadata": {},
   "outputs": [],
   "source": [
    "%matplotlib inline\n",
    "\n",
    "import numpy as np\n",
    "from numpy import linalg as nla\n",
    "import numpy.polynomial.polynomial as npoly\n",
    "import scipy as sp\n",
    "from scipy import linalg as sla\n",
    "from matplotlib import pyplot as plt\n",
    "from mpl_toolkits.mplot3d import Axes3D\n",
    "from time import time\n",
    "import SHFunctions as shf\n",
    "import os"
   ]
  },
  {
   "cell_type": "code",
   "execution_count": 2,
   "metadata": {},
   "outputs": [
    {
     "name": "stdout",
     "output_type": "stream",
     "text": [
      "0.9999900000995858 1.0000100001004142\n"
     ]
    }
   ],
   "source": [
    "    a = [1, -2, (1 - 1e-10)]\n",
    "    Ts = npoly.polyroots(a)\n",
    "    print(Ts[0], Ts[1])"
   ]
  },
  {
   "cell_type": "code",
   "execution_count": 3,
   "metadata": {},
   "outputs": [],
   "source": [
    "    x0 = -2000000000\n",
    "    tol = 1e-16\n",
    "    maxiter = 100\n",
    "    xs = [x0]\n",
    "    hs = []\n",
    "    ds = []\n",
    "    errs = []"
   ]
  },
  {
   "cell_type": "code",
   "execution_count": 4,
   "metadata": {},
   "outputs": [],
   "source": [
    "    i = 0\n",
    "    err = 1\n",
    "    while (i < maxiter) and (err > tol):\n",
    "        D = npoly.polyval(x0, npoly.polyder(a))\n",
    "        h = (npoly.polyval(x0,a)) / (D)\n",
    "        x0 = x0 - h\n",
    "        xs.append(x0)\n",
    "        ds.append(D)\n",
    "        hs.append(h)\n",
    "        err = np.absolute(npoly.polyval(x0,a))\n",
    "        errs.append(err)\n",
    "        i += 1"
   ]
  },
  {
   "cell_type": "code",
   "execution_count": 5,
   "metadata": {},
   "outputs": [
    {
     "name": "stdout",
     "output_type": "stream",
     "text": [
      "0.9999900001063045\n"
     ]
    },
    {
     "data": {
      "image/png": "[encoded data removed]",
      "text/plain": [
       "<Figure size 432x288 with 1 Axes>"
      ]
     },
     "metadata": {
      "needs_background": "light"
     },
     "output_type": "display_data"
    }
   ],
   "source": [
    "    S = xs[-1]\n",
    "    ax = plt.subplot(111)\n",
    "    ax.semilogy(errs,'-o')\n",
    "    print(S)"
   ]
  },
  {
   "cell_type": "code",
   "execution_count": 6,
   "metadata": {},
   "outputs": [
    {
     "name": "stdout",
     "output_type": "stream",
     "text": [
      "Tangent at approximated solution : -1.9999998491337934e-05\n",
      "Tangent at True solution 1       : -2.0000000826358999e-05\n",
      "Tangent at True solution 2       : +2.0000000826136954e-05\n"
     ]
    },
    {
     "data": {
      "image/png": "[encoded data removed]",
      "text/plain": [
       "<Figure size 720x288 with 2 Axes>"
      ]
     },
     "metadata": {
      "needs_background": "light"
     },
     "output_type": "display_data"
    }
   ],
   "source": [
    "    fig, axes = plt.subplots(1, 2,figsize=(10, 4))\n",
    "    axes[0].plot(ds,'o')\n",
    "    axes[1].semilogy(np.absolute(ds),'o')\n",
    "    print(\"Tangent at approximated solution : {:+.16e}\".format(ds[-1]))\n",
    "    print(\"Tangent at True solution 1       : {:+.16e}\".format(npoly.polyval(Ts[0], npoly.polyder(a))))\n",
    "    print(\"Tangent at True solution 2       : {:+.16e}\".format(npoly.polyval(Ts[1], npoly.polyder(a))))"
   ]
  },
  {
   "cell_type": "code",
   "execution_count": 8,
   "metadata": {},
   "outputs": [
    {
     "data": {
      "text/plain": [
       "[-4000000001.6,\n",
       " -2000000000.8,\n",
       " -1000000000.4,\n",
       " -500000000.2,\n",
       " -250000000.1,\n",
       " -125000000.05,\n",
       " -62500000.025,\n",
       " -31250000.0125,\n",
       " -15625000.00625,\n",
       " -7812500.003125,\n",
       " -3906250.0015625004,\n",
       " -1953125.0007812502,\n",
       " -976562.5003906251,\n",
       " -488281.2501953126,\n",
       " -244140.6250976563,\n",
       " -122070.31254882817,\n",
       " -61035.15627441408,\n",
       " -30517.578137207038,\n",
       " -15258.789068603519,\n",
       " -7629.39453430176,\n",
       " -3814.69726715088,\n",
       " -1907.34863357544,\n",
       " -953.6743167877202,\n",
       " -476.83715839386036,\n",
       " -238.4185791969306,\n",
       " -119.20928959846616,\n",
       " -59.60464479923476,\n",
       " -29.802322399620735,\n",
       " -14.901161199817077,\n",
       " -7.4505805999219605,\n",
       " -3.725290299987824,\n",
       " -1.8626451500475991,\n",
       " -0.931322575131174,\n",
       " -0.46566128778033544,\n",
       " -0.23283064431966438,\n",
       " -0.11641532301882429,\n",
       " -0.058207663227397566,\n",
       " -0.029103835049679727,\n",
       " -0.014551924396786209,\n",
       " -0.007275975942273805,\n",
       " -0.003638015458809596,\n",
       " -0.0018190627045251428,\n",
       " -0.0009096412991733693,\n",
       " -0.00045504051643319166,\n",
       " -0.0002279597800067812,\n",
       " -0.00011485723728665853,\n",
       " -5.9169908242395763e-05,\n",
       " -3.296505046246345e-05,\n",
       " -2.254956122005325e-05,\n",
       " -2.0144136227528975e-05,\n",
       " -2.0000520282614787e-05,\n",
       " -1.9999998491337934e-05]"
      ]
     },
     "execution_count": 8,
     "metadata": {},
     "output_type": "execute_result"
    }
   ],
   "source": [
    "    ds"
   ]
  }
 ],
 "metadata": {
  "kernelspec": {
   "display_name": "Python 3",
   "language": "python",
   "name": "python3"
  },
  "language_info": {
   "codemirror_mode": {
    "name": "ipython",
    "version": 3
   },
   "file_extension": ".py",
   "mimetype": "text/x-python",
   "name": "python",
   "nbconvert_exporter": "python",
   "pygments_lexer": "ipython3",
   "version": "3.7.1"
  }
 },
 "nbformat": 4,
 "nbformat_minor": 2
}
