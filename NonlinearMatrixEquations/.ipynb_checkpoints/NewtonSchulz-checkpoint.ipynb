{
 "cells": [
  {
   "cell_type": "code",
   "execution_count": 1,
   "metadata": {},
   "outputs": [
    {
     "data": {
      "text/html": [
       "<style>.container { width:95% !important; }</style>"
      ],
      "text/plain": [
       "<IPython.core.display.HTML object>"
      ]
     },
     "metadata": {},
     "output_type": "display_data"
    }
   ],
   "source": [
    "%matplotlib inline\n",
    "\n",
    "import numpy as np\n",
    "from numpy import linalg as nla\n",
    "import scipy as sp\n",
    "from scipy import linalg as sla\n",
    "from matplotlib import pyplot as plt\n",
    "from mpl_toolkits.mplot3d import Axes3D\n",
    "from time import time\n",
    "from pprint import pprint\n",
    "import SHFunctions as shf\n",
    "import os\n",
    "\n",
    "from IPython.core.display import display, HTML\n",
    "display(HTML(\"<style>.container { width:95% !important; }</style>\"))\n",
    "np.set_printoptions(linewidth = 200)"
   ]
  },
  {
   "cell_type": "code",
   "execution_count": 2,
   "metadata": {},
   "outputs": [],
   "source": [
    "def NewtonSchulz(p, A, Q, X0 = np.NAN, maxiter = 100, tol = np.NAN):\n",
    "    if np.sum(np.isnan(X0)) > 0: # X0가 주어지지 않았을 때 m by m zero 행렬 처리\n",
    "        X0 = np.eye(A.shape[0])\n",
    "    \n",
    "    if (p <= 0) or (not isinstance(p, int)): # p가 positive integer가 아닐 때 예외처리\n",
    "        raise ValueError('p가 양의 정수가 아닙니다.')\n",
    "        \n",
    "    if A.shape[0] != A.shape[1]: # A가 square matrix가 아닐 때 예외처리\n",
    "        raise ValueError('A가 정방행렬이 아닙니다.')\n",
    "        \n",
    "    if Q.shape[0] != Q.shape[1]: # Q가 square matrix가 아닐 때 예외처리\n",
    "        raise ValueError('Q가 정방행렬이 아닙니다.')\n",
    "        \n",
    "    if (Q.shape[0] != A.shape[0]) or (A.shape[1] != Q.shape[1]): # A와 Q가 같은 크기 아닐 때 예외처리\n",
    "        raise ValueError('A, Q가 같은 크기가 아닙니다.')\n",
    "        \n",
    "    m = A.shape[1] # m 초기화\n",
    "    \n",
    "    if np.isnan(tol): # tol이 주어지지 않았을 때 초기화\n",
    "        tol = m * 1e-15\n",
    "        \n",
    "    Xs = [X0] # Xs는 X들을 담은 리스트로 초기화\n",
    "    errs = [] # err 리스트 초기화\n",
    "    S = np.zeros((A.shape[0],A.shape[1]))\n",
    "    \n",
    "    iter = 0\n",
    "    err = 1e10 # error 초기화\n",
    "    \n",
    "    # Newton Iteration 시작\n",
    "    t = time() # 시간체크\n",
    "    while (err > tol) and (iter < maxiter):\n",
    "        X0 = (1/p)*((p-1)*X0 + (Q - A.conj().transpose() @ X0 @ A)@nla.inv(nla.matrix_power(X0,p-1))) # Newton Sequence 적용\n",
    "        err = nla.norm(nla.matrix_power(X0, p) - (Q - (A.conj()).transpose() @ X0 @ A), 'fro') # err 계산\n",
    "\n",
    "        Xs.append(X0) # X_i 저장\n",
    "        errs.append(err) # err 저장\n",
    "        \n",
    "        iter += 1\n",
    "    \n",
    "    calcultime = time() - t\n",
    "    S = Xs[-1] # Solution\n",
    "    \n",
    "    # Vectorize of S - X_{i}와 X_{i+1} - X_{i} : cos 계산\n",
    "    vSmX = []\n",
    "    vXmX = []\n",
    "    for i in range(len(Xs)-1):\n",
    "        vSmX.append(np.reshape(S - Xs[i], S.shape[0]*S.shape[1], order='F'))\n",
    "        vXmX.append(np.reshape(Xs[i+1] - Xs[i], S.shape[0]*S.shape[1], order='F'))\n",
    "    cSX = []\n",
    "    cXX = []\n",
    "    for i in range(len(vSmX)-1):\n",
    "        x1, y1 = vSmX[i+1], vSmX[i]\n",
    "        x2, y2 = vXmX[i+1], vXmX[i]\n",
    "        c1 = np.dot(x1,y1) / (nla.norm(x1,2)*nla.norm(y1,2))\n",
    "        c2 = np.dot(x2,y2) / (nla.norm(x2,2)*nla.norm(y2,2))\n",
    "        cSX.append(c1)\n",
    "        cXX.append(c2)\n",
    "    return {'sol':S, 'Xs':Xs, 'errs':errs, 'time':calcultime, 'SmX':vSmX, 'XmX':vXmX, 'csSmX':cSX, 'csXmX':cXX}\n",
    "\n",
    "def Newton_pth(p, A, X0 = np.NAN, maxiter = 100, tol = np.NAN):\n",
    "    if np.sum(np.isnan(X0)) > 0: # X0가 주어지지 않았을 때 m by m zero 행렬 처리\n",
    "#         X0 = np.eye(A.shape[0])\n",
    "        X0 = A\n",
    "    \n",
    "    if (p <= 0) or (not isinstance(p, int)): # p가 positive integer가 아닐 때 예외처리\n",
    "        raise ValueError('p가 양의 정수가 아닙니다.')\n",
    "        \n",
    "    if A.shape[0] != A.shape[1]: # A가 square matrix가 아닐 때 예외처리\n",
    "        raise ValueError('A가 정방행렬이 아닙니다.')\n",
    "        \n",
    "    m = A.shape[1] # m 초기화\n",
    "    \n",
    "    if np.isnan(tol): # tol이 주어지지 않았을 때 초기화\n",
    "        tol = m * p * 1e-15\n",
    "        \n",
    "    Xs = [X0] # Xs는 X들을 담은 리스트로 초기화\n",
    "    errs = [] # err 리스트 초기화\n",
    "    S = np.zeros((A.shape[0],A.shape[1]))\n",
    "    \n",
    "    iter = 0\n",
    "    err = 1e10 # error 초기화\n",
    "    \n",
    "    # Newton Iteration 시작\n",
    "    t = time() # 시간체크\n",
    "    while (err > tol) and (iter < maxiter):\n",
    "        X0 = (1/p)*((p-1)*X0 + A@nla.inv(nla.matrix_power(X0,p-1))) # Newton Sequence 적용\n",
    "        err = nla.norm(nla.matrix_power(X0, p) - A, 'fro') # err 계산\n",
    "\n",
    "        Xs.append(X0) # X_i 저장\n",
    "        errs.append(err) # err 저장\n",
    "        \n",
    "        iter += 1\n",
    "    \n",
    "    calcultime = time() - t\n",
    "    S = Xs[-1] # Solution\n",
    "    \n",
    "    # Vectorize of S - X_{i}와 X_{i+1} - X_{i} : cos 계산\n",
    "    vSmX = []\n",
    "    vXmX = []\n",
    "    for i in range(len(Xs)-1):\n",
    "        vSmX.append(np.reshape(S - Xs[i], S.shape[0]*S.shape[1], order='F'))\n",
    "        vXmX.append(np.reshape(Xs[i+1] - Xs[i], S.shape[0]*S.shape[1], order='F'))\n",
    "    cSX = []\n",
    "    cXX = []\n",
    "    for i in range(len(vSmX)-1):\n",
    "        x1, y1 = vSmX[i+1], vSmX[i]\n",
    "        x2, y2 = vXmX[i+1], vXmX[i]\n",
    "        c1 = np.dot(x1,y1) / (nla.norm(x1,2)*nla.norm(y1,2))\n",
    "        c2 = np.dot(x2,y2) / (nla.norm(x2,2)*nla.norm(y2,2))\n",
    "        cSX.append(c1)\n",
    "        cXX.append(c2)\n",
    "    return {'sol':S, 'Xs':Xs, 'errs':errs, 'time':calcultime, 'SmX':vSmX, 'XmX':vXmX, 'csSmX':cSX, 'csXmX':cXX}\n",
    "\n"
   ]
  },
  {
   "cell_type": "raw",
   "metadata": {
    "scrolled": false
   },
   "source": [
    "p = 2\n",
    "m = 6\n",
    "A = m*np.eye(m) - np.random.rand(m,m)\n",
    "Ss = Newton_pth(p, A)\n",
    "ax = plt.subplot(111)\n",
    "ax.semilogy(Ss['errs'],'-o')\n",
    "Ss['sol']"
   ]
  },
  {
   "cell_type": "raw",
   "metadata": {},
   "source": [
    "p = 2\n",
    "A = np.array([[0.5, -0.45],[0.45, 0]])\n",
    "Q = 0.8*np.eye(2)"
   ]
  },
  {
   "cell_type": "code",
   "execution_count": 3,
   "metadata": {},
   "outputs": [
    {
     "data": {
      "text/plain": [
       "array([[0.        , 0.        , 0.        , 0.        , 0.        , 0.        , 0.        , 0.        , 0.        , 0.        ],\n",
       "       [0.17919946, 0.        , 0.        , 0.        , 0.        , 0.        , 0.        , 0.        , 0.        , 0.        ],\n",
       "       [0.09332464, 0.15486898, 0.        , 0.        , 0.        , 0.        , 0.        , 0.        , 0.        , 0.        ],\n",
       "       [0.14368892, 0.13856193, 0.12934243, 0.        , 0.        , 0.        , 0.        , 0.        , 0.        , 0.        ],\n",
       "       [0.094201  , 0.11790047, 0.07252623, 0.1407446 , 0.        , 0.        , 0.        , 0.        , 0.        , 0.        ],\n",
       "       [0.00863026, 0.07274265, 0.00077857, 0.15766783, 0.16617393, 0.        , 0.        , 0.        , 0.        , 0.        ],\n",
       "       [0.18683141, 0.14549779, 0.19481682, 0.19763545, 0.19167287, 0.165026  , 0.        , 0.        , 0.        , 0.        ],\n",
       "       [0.08398684, 0.08766854, 0.14611122, 0.14470321, 0.07965433, 0.12646772, 0.0873089 , 0.        , 0.        , 0.        ],\n",
       "       [0.09794565, 0.07070063, 0.01834252, 0.07567799, 0.01498428, 0.01381671, 0.02361865, 0.02182363, 0.        , 0.        ],\n",
       "       [0.05520609, 0.07215285, 0.19248383, 0.00455418, 0.18259754, 0.13062189, 0.11043828, 0.11779912, 0.10516752, 0.        ]])"
      ]
     },
     "execution_count": 3,
     "metadata": {},
     "output_type": "execute_result"
    }
   ],
   "source": [
    "p = 4\n",
    "A = np.random.rand(10,10) * .2\n",
    "Q = np.eye(10)\n",
    "for i in range(10):\n",
    "    for j in range(i,10):\n",
    "        A[i,j] = 0\n",
    "A"
   ]
  },
  {
   "cell_type": "code",
   "execution_count": 4,
   "metadata": {},
   "outputs": [
    {
     "data": {
      "text/plain": [
       "[<matplotlib.lines.Line2D at 0x1bdd6730ba8>]"
      ]
     },
     "execution_count": 4,
     "metadata": {},
     "output_type": "execute_result"
    },
    {
     "data": {
      "image/png": "[encoded data removed]",
      "text/plain": [
       "<Figure size 432x288 with 1 Axes>"
      ]
     },
     "metadata": {
      "needs_background": "light"
     },
     "output_type": "display_data"
    }
   ],
   "source": [
    "Ss = NewtonSchulz(p, A, Q)\n",
    "ax = plt.subplot(111)\n",
    "ax.semilogy(Ss['errs'],'-o')"
   ]
  },
  {
   "cell_type": "raw",
   "metadata": {},
   "source": [
    "S = Ss['sol']\n",
    "print(S)\n",
    "print(Ss['time'])\n",
    "print(nla.matrix_power(S, p) - (Q - A.conj().transpose() @ S @ A))"
   ]
  },
  {
   "cell_type": "code",
   "execution_count": 5,
   "metadata": {
    "scrolled": false
   },
   "outputs": [
    {
     "name": "stdout",
     "output_type": "stream",
     "text": [
      "array([[1.        , 1.        , 1.        , 1.        , 1.        , 1.        , 1.        , 1.        , 1.        , 1.        ],\n",
      "       [0.88242979, 0.97896313, 0.98566605, 0.99478059, 0.99550014, 0.9978037 , 0.99996758, 0.99959594, 0.99877272, 1.        ],\n",
      "       [0.86075719, 0.97922032, 0.98546009, 0.99481174, 0.99551682, 0.9978071 , 0.99996786, 0.99959795, 0.99878255, 1.        ],\n",
      "       [0.86111041, 0.97939354, 0.98545801, 0.99482278, 0.99552204, 0.99780768, 0.99996791, 0.99959816, 0.99878279, 1.        ],\n",
      "       [0.86111966, 0.97939067, 0.98545685, 0.99482303, 0.99552171, 0.99780768, 0.99996791, 0.99959815, 0.99878278, 1.        ],\n",
      "       [0.86112205, 0.97939056, 0.98545681, 0.9948231 , 0.99552169, 0.99780768, 0.99996791, 0.99959815, 0.99878278, 1.        ],\n",
      "       [0.86112292, 0.97939054, 0.98545679, 0.99482312, 0.99552168, 0.99780768, 0.99996791, 0.99959815, 0.99878278, 1.        ],\n",
      "       [0.86112292, 0.97939052, 0.98545679, 0.99482312, 0.99552168, 0.99780768, 0.99996791, 0.99959815, 0.99878278, 1.        ],\n",
      "       [0.86112295, 0.97939052, 0.98545679, 0.99482312, 0.99552168, 0.99780768, 0.99996791, 0.99959815, 0.99878278, 1.        ],\n",
      "       [0.86112295, 0.97939052, 0.98545679, 0.99482312, 0.99552168, 0.99780768, 0.99996791, 0.99959815, 0.99878278, 1.        ],\n",
      "       [0.86112295, 0.97939052, 0.98545679, 0.99482312, 0.99552168, 0.99780768, 0.99996791, 0.99959815, 0.99878278, 1.        ],\n",
      "       [0.86112295, 0.97939052, 0.98545679, 0.99482312, 0.99552168, 0.99780768, 0.99996791, 0.99959815, 0.99878278, 1.        ],\n",
      "       [0.86112295, 0.97939052, 0.98545679, 0.99482312, 0.99552168, 0.99780768, 0.99996791, 0.99959815, 0.99878278, 1.        ],\n",
      "       [0.86112295, 0.97939052, 0.98545679, 0.99482312, 0.99552168, 0.99780768, 0.99996791, 0.99959815, 0.99878278, 1.        ],\n",
      "       [0.86112295, 0.97939052, 0.98545679, 0.99482312, 0.99552168, 0.99780768, 0.99996791, 0.99959815, 0.99878278, 1.        ],\n",
      "       [0.86112295, 0.97939052, 0.98545679, 0.99482312, 0.99552168, 0.99780768, 0.99996791, 0.99959815, 0.99878278, 1.        ],\n",
      "       [0.86112295, 0.97939052, 0.98545679, 0.99482312, 0.99552168, 0.99780768, 0.99996791, 0.99959815, 0.99878278, 1.        ],\n",
      "       [0.86112295, 0.97939052, 0.98545679, 0.99482312, 0.99552168, 0.99780768, 0.99996791, 0.99959815, 0.99878278, 1.        ],\n",
      "       [0.86112295, 0.97939052, 0.98545679, 0.99482312, 0.99552168, 0.99780768, 0.99996791, 0.99959815, 0.99878278, 1.        ],\n",
      "       [0.86112295, 0.97939052, 0.98545679, 0.99482312, 0.99552168, 0.99780768, 0.99996791, 0.99959815, 0.99878278, 1.        ]])\n"
     ]
    },
    {
     "data": {
      "image/png": "[encoded data removed]",
      "text/plain": [
       "<Figure size 1008x720 with 2 Axes>"
      ]
     },
     "metadata": {
      "needs_background": "light"
     },
     "output_type": "display_data"
    }
   ],
   "source": [
    "ds = np.zeros((len(Ss['Xs']),Ss['Xs'][0].shape[0]))\n",
    "Xs = []\n",
    "i = 0\n",
    "for Xi in Ss['Xs']:\n",
    "    ds[i][:], X = nla.eig(Xi)\n",
    "    Xs.append(X)\n",
    "    i += 1\n",
    "\n",
    "fig = plt.figure(figsize=(14,10))\n",
    "ax1 = fig.add_subplot(121)\n",
    "ax2 = fig.add_subplot(122)\n",
    "\n",
    "for i in range(ds.shape[1]):\n",
    "    ax1.plot(ds[:,i],'-o')\n",
    "    ax2.semilogy(np.abs(ds[:,i]),'-o')\n",
    "\n",
    "xn = []\n",
    "for i in range(len(Xs)-1):\n",
    "    x = np.zeros((Xs[i].shape[1]))\n",
    "    for j in range(Xs[i].shape[1]):\n",
    "        if np.sign(Xs[i][1,j]) == np.sign(Xs[i+1][1,j]):\n",
    "            x[j] = nla.norm(Xs[i][:,j] - Xs[i+1][:,j])\n",
    "        else:\n",
    "            x[j] = nla.norm(Xs[i][:,j] + Xs[i+1][:,j])\n",
    "    xn.append(x)\n",
    "pprint(ds)"
   ]
  },
  {
   "cell_type": "raw",
   "metadata": {},
   "source": [
    "Ss['csXmX']"
   ]
  },
  {
   "cell_type": "code",
   "execution_count": 6,
   "metadata": {},
   "outputs": [
    {
     "name": "stdout",
     "output_type": "stream",
     "text": [
      "XiXii - XiiXi : 0.0000000000e+00\n",
      "XiXii - XiiXi : 3.2771109766e-04\n",
      "XiXii - XiiXi : 8.8991183224e-05\n",
      "XiXii - XiiXi : 1.4839316598e-05\n",
      "XiXii - XiiXi : 2.6498873504e-06\n",
      "XiXii - XiiXi : 4.8456198944e-07\n",
      "XiXii - XiiXi : 9.0591519537e-08\n",
      "XiXii - XiiXi : 1.8018233311e-08\n",
      "XiXii - XiiXi : 3.6508238906e-09\n",
      "XiXii - XiiXi : 7.8662061855e-10\n",
      "XiXii - XiiXi : 1.7156093349e-10\n",
      "XiXii - XiiXi : 3.9126496519e-11\n",
      "XiXii - XiiXi : 8.9895483791e-12\n",
      "XiXii - XiiXi : 2.1239148441e-12\n",
      "XiXii - XiiXi : 5.0473810172e-13\n",
      "XiXii - XiiXi : 1.2199078650e-13\n",
      "XiXii - XiiXi : 2.9689464945e-14\n",
      "XiXii - XiiXi : 7.3415359639e-15\n",
      "XiXii - XiiXi : 1.7838682489e-15\n"
     ]
    }
   ],
   "source": [
    "for i in range(len(Ss['Xs'])-1):\n",
    "    print(\"XiXii - XiiXi : {:3.10e}\".format(nla.norm(Ss['Xs'][i] @ Ss['Xs'][i+1] - Ss['Xs'][i+1] @ Ss['Xs'][i])))"
   ]
  }
 ],
 "metadata": {
  "kernelspec": {
   "display_name": "Python 3",
   "language": "python",
   "name": "python3"
  },
  "language_info": {
   "codemirror_mode": {
    "name": "ipython",
    "version": 3
   },
   "file_extension": ".py",
   "mimetype": "text/x-python",
   "name": "python",
   "nbconvert_exporter": "python",
   "pygments_lexer": "ipython3",
   "version": "3.7.1"
  }
 },
 "nbformat": 4,
 "nbformat_minor": 2
}
