{
 "cells": [
  {
   "cell_type": "code",
   "execution_count": 1,
   "metadata": {},
   "outputs": [
    {
     "data": {
      "text/html": [
       "<style>.container { width:95% !important; }</style>"
      ],
      "text/plain": [
       "<IPython.core.display.HTML object>"
      ]
     },
     "metadata": {},
     "output_type": "display_data"
    }
   ],
   "source": [
    "%matplotlib inline\n",
    "\n",
    "import numpy as np\n",
    "from numpy import linalg as nla\n",
    "import scipy as sp\n",
    "from scipy import linalg as sla\n",
    "from matplotlib import pyplot as plt\n",
    "from mpl_toolkits.mplot3d import Axes3D\n",
    "from time import time\n",
    "import SHFunctions as shf\n",
    "import os\n",
    "\n",
    "from IPython.core.display import display, HTML\n",
    "display(HTML(\"<style>.container { width:95% !important; }</style>\"))\n",
    "np.set_printoptions(linewidth = 200)"
   ]
  },
  {
   "cell_type": "code",
   "execution_count": 2,
   "metadata": {},
   "outputs": [],
   "source": [
    "def NewtonSchulz(p, A, Q, X0 = np.NAN, maxiter = 100, tol = np.NAN):\n",
    "    if np.sum(np.isnan(X0)) > 0: # X0가 주어지지 않았을 때 m by m zero 행렬 처리\n",
    "        X0 = np.eye(A.shape[0])\n",
    "    \n",
    "    if (p <= 0) or (not isinstance(p, int)): # p가 positive integer가 아닐 때 예외처리\n",
    "        raise ValueError('p가 양의 정수가 아닙니다.')\n",
    "        \n",
    "    if A.shape[0] != A.shape[1]: # A가 square matrix가 아닐 때 예외처리\n",
    "        raise ValueError('A가 정방행렬이 아닙니다.')\n",
    "        \n",
    "    if Q.shape[0] != Q.shape[1]: # Q가 square matrix가 아닐 때 예외처리\n",
    "        raise ValueError('Q가 정방행렬이 아닙니다.')\n",
    "        \n",
    "    if (Q.shape[0] != A.shape[0]) or (A.shape[1] != Q.shape[1]): # A와 Q가 같은 크기 아닐 때 예외처리\n",
    "        raise ValueError('A, Q가 같은 크기가 아닙니다.')\n",
    "        \n",
    "    m = A.shape[1] # m 초기화\n",
    "    \n",
    "    if np.isnan(tol): # tol이 주어지지 않았을 때 초기화\n",
    "        tol = m * 1e-15\n",
    "        \n",
    "    Xs = [X0] # Xs는 X들을 담은 리스트로 초기화\n",
    "    errs = [] # err 리스트 초기화\n",
    "    S = np.zeros((A.shape[0],A.shape[1]))\n",
    "    \n",
    "    iter = 0\n",
    "    err = 1e10 # error 초기화\n",
    "    \n",
    "    # Newton Iteration 시작\n",
    "    t = time() # 시간체크\n",
    "    while (err > tol) and (iter < maxiter):\n",
    "        X0 = (1/p)*((p-1)*X0 + (Q - A.conj().transpose() @ X0 @ A)@nla.inv(nla.matrix_power(X0,p-1))) # Newton Sequence 적용\n",
    "        err = nla.norm(nla.matrix_power(X0, p) - (Q - (A.conj()).transpose() @ X0 @ A), 'fro') # err 계산\n",
    "\n",
    "        Xs.append(X0) # X_i 저장\n",
    "        errs.append(err) # err 저장\n",
    "        \n",
    "        iter += 1\n",
    "    \n",
    "    calcultime = time() - t\n",
    "    S = Xs[-1] # Solution\n",
    "    \n",
    "    # Vectorize of S - X_{i}와 X_{i+1} - X_{i} : cos 계산\n",
    "    vSmX = []\n",
    "    vXmX = []\n",
    "    for i in range(len(Xs)-1):\n",
    "        vSmX.append(np.reshape(S - Xs[i], S.shape[0]*S.shape[1], order='F'))\n",
    "        vXmX.append(np.reshape(Xs[i+1] - Xs[i], S.shape[0]*S.shape[1], order='F'))\n",
    "    cSX = []\n",
    "    cXX = []\n",
    "    for i in range(len(vSmX)-1):\n",
    "        x1, y1 = vSmX[i+1], vSmX[i]\n",
    "        x2, y2 = vXmX[i+1], vXmX[i]\n",
    "        c1 = np.dot(x1,y1) / (nla.norm(x1,2)*nla.norm(y1,2))\n",
    "        c2 = np.dot(x2,y2) / (nla.norm(x2,2)*nla.norm(y2,2))\n",
    "        cSX.append(c1)\n",
    "        cXX.append(c2)\n",
    "    return {'sol':S, 'Xs':Xs, 'errs':errs, 'time':calcultime, 'SmX':vSmX, 'XmX':vXmX, 'csSmX':cSX, 'csXmX':cXX}\n",
    "\n",
    "def Newton_pth(p, A, X0 = np.NAN, maxiter = 100, tol = np.NAN):\n",
    "    if np.sum(np.isnan(X0)) > 0: # X0가 주어지지 않았을 때 m by m zero 행렬 처리\n",
    "#         X0 = np.eye(A.shape[0])\n",
    "        X0 = A\n",
    "    \n",
    "    if (p <= 0) or (not isinstance(p, int)): # p가 positive integer가 아닐 때 예외처리\n",
    "        raise ValueError('p가 양의 정수가 아닙니다.')\n",
    "        \n",
    "    if A.shape[0] != A.shape[1]: # A가 square matrix가 아닐 때 예외처리\n",
    "        raise ValueError('A가 정방행렬이 아닙니다.')\n",
    "        \n",
    "    m = A.shape[1] # m 초기화\n",
    "    \n",
    "    if np.isnan(tol): # tol이 주어지지 않았을 때 초기화\n",
    "        tol = m * p * 1e-15\n",
    "        \n",
    "    Xs = [X0] # Xs는 X들을 담은 리스트로 초기화\n",
    "    errs = [] # err 리스트 초기화\n",
    "    S = np.zeros((A.shape[0],A.shape[1]))\n",
    "    \n",
    "    iter = 0\n",
    "    err = 1e10 # error 초기화\n",
    "    \n",
    "    # Newton Iteration 시작\n",
    "    t = time() # 시간체크\n",
    "    while (err > tol) and (iter < maxiter):\n",
    "        X0 = (1/p)*((p-1)*X0 + A@nla.inv(nla.matrix_power(X0,p-1))) # Newton Sequence 적용\n",
    "        err = nla.norm(nla.matrix_power(X0, p) - A, 'fro') # err 계산\n",
    "\n",
    "        Xs.append(X0) # X_i 저장\n",
    "        errs.append(err) # err 저장\n",
    "        \n",
    "        iter += 1\n",
    "    \n",
    "    calcultime = time() - t\n",
    "    S = Xs[-1] # Solution\n",
    "    \n",
    "    # Vectorize of S - X_{i}와 X_{i+1} - X_{i} : cos 계산\n",
    "    vSmX = []\n",
    "    vXmX = []\n",
    "    for i in range(len(Xs)-1):\n",
    "        vSmX.append(np.reshape(S - Xs[i], S.shape[0]*S.shape[1], order='F'))\n",
    "        vXmX.append(np.reshape(Xs[i+1] - Xs[i], S.shape[0]*S.shape[1], order='F'))\n",
    "    cSX = []\n",
    "    cXX = []\n",
    "    for i in range(len(vSmX)-1):\n",
    "        x1, y1 = vSmX[i+1], vSmX[i]\n",
    "        x2, y2 = vXmX[i+1], vXmX[i]\n",
    "        c1 = np.dot(x1,y1) / (nla.norm(x1,2)*nla.norm(y1,2))\n",
    "        c2 = np.dot(x2,y2) / (nla.norm(x2,2)*nla.norm(y2,2))\n",
    "        cSX.append(c1)\n",
    "        cXX.append(c2)\n",
    "    return {'sol':S, 'Xs':Xs, 'errs':errs, 'time':calcultime, 'SmX':vSmX, 'XmX':vXmX, 'csSmX':cSX, 'csXmX':cXX}\n",
    "\n"
   ]
  },
  {
   "cell_type": "raw",
   "metadata": {},
   "source": [
    "p = 2\n",
    "A = np.array([[0.5, -0.45],[0.45, 0]])\n",
    "Q = 0.8*np.eye(2)"
   ]
  },
  {
   "cell_type": "raw",
   "metadata": {},
   "source": [
    "p = 2\n",
    "A = np.random.rand(10,10) * 1e-2\n",
    "Q = np.eye(10)"
   ]
  },
  {
   "cell_type": "code",
   "execution_count": 8,
   "metadata": {
    "scrolled": false
   },
   "outputs": [
    {
     "data": {
      "text/plain": [
       "array([[ 1.14258978e+00, -2.80268853e-03, -4.40441099e-03, -1.13784394e-02, -8.68164100e-03, -3.26516297e-03],\n",
       "       [-7.25839555e-03,  1.13353855e+00, -6.49612475e-03, -1.41405460e-02, -1.64352711e-02, -1.67586889e-02],\n",
       "       [-6.78685576e-03, -1.07160032e-02,  1.14243826e+00, -7.41379421e-03, -1.00264365e-02, -7.81329061e-03],\n",
       "       [-1.27675909e-02, -1.44963887e-02, -1.96990775e-03,  1.13947242e+00, -1.34335738e-02, -4.17411921e-03],\n",
       "       [-4.78390398e-03, -1.69324602e-02, -9.10915361e-04, -1.31250221e-02,  1.14485452e+00, -9.78139091e-03],\n",
       "       [-1.04494452e-02, -7.83032901e-03, -3.45322722e-03, -6.29764096e-03, -1.33261072e-02,  1.14107540e+00]])"
      ]
     },
     "execution_count": 8,
     "metadata": {},
     "output_type": "execute_result"
    },
    {
     "data": {
      "image/png": "[encoded data removed]",
      "text/plain": [
       "<Figure size 432x288 with 1 Axes>"
      ]
     },
     "metadata": {
      "needs_background": "light"
     },
     "output_type": "display_data"
    }
   ],
   "source": [
    "p = 13\n",
    "m = 6\n",
    "A = m*np.eye(m) - np.random.rand(m,m)\n",
    "S = Newton_pth(p, A)\n",
    "ax = plt.subplot(111)\n",
    "ax.semilogy(S['errs'],'-o')\n",
    "S['sol']"
   ]
  },
  {
   "cell_type": "raw",
   "metadata": {},
   "source": [
    "Ss = NewtonSchulz(p, A, Q)\n",
    "ax = plt.subplot(111)\n",
    "ax.semilogy(Ss['errs'],'-o')"
   ]
  },
  {
   "cell_type": "raw",
   "metadata": {},
   "source": [
    "S = Ss['sol']\n",
    "print(S)\n",
    "print(Ss['time'])\n",
    "print(nla.matrix_power(S, p) - (Q - A.conj().transpose() @ S @ A))"
   ]
  },
  {
   "cell_type": "raw",
   "metadata": {},
   "source": [
    "Ss['csXmX']"
   ]
  },
  {
   "cell_type": "raw",
   "metadata": {},
   "source": [
    "for X in Ss['Xs']:\n",
    "    print(\"A : {:3.10e}, Q : {:3.10e}\".format(nla.norm(A @ X - X @ A),nla.norm(Q @ X - X @ Q)))"
   ]
  }
 ],
 "metadata": {
  "kernelspec": {
   "display_name": "Python 3",
   "language": "python",
   "name": "python3"
  },
  "language_info": {
   "codemirror_mode": {
    "name": "ipython",
    "version": 3
   },
   "file_extension": ".py",
   "mimetype": "text/x-python",
   "name": "python",
   "nbconvert_exporter": "python",
   "pygments_lexer": "ipython3",
   "version": "3.7.1"
  }
 },
 "nbformat": 4,
 "nbformat_minor": 2
}
