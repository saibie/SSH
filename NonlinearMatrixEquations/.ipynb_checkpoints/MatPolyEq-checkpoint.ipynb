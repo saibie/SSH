{
 "cells": [
  {
   "cell_type": "code",
   "execution_count": null,
   "metadata": {},
   "outputs": [],
   "source": [
    "%matplotlib inline\n",
    "\n",
    "import numpy as np\n",
    "from numpy import linalg as nla\n",
    "import scipy as sp\n",
    "from scipy import linalg as sla\n",
    "from matplotlib import pyplot as plt\n",
    "from mpl_toolkits.mplot3d import Axes3D\n",
    "from time import time\n",
    "import SHFunctions as shf\n",
    "import os"
   ]
  },
  {
   "cell_type": "markdown",
   "metadata": {},
   "source": [
    "    A = shf.MakeStochA(4,6)"
   ]
  },
  {
   "cell_type": "code",
   "execution_count": null,
   "metadata": {},
   "outputs": [],
   "source": [
    "    A = shf.MakeSingularA(3, 2, delta = .00010)"
   ]
  },
  {
   "cell_type": "markdown",
   "metadata": {},
   "source": [
    "    A = np.array([[[0, 1/3, 1/3],\n",
    "                   [1/3, 0, 1/3],\n",
    "                   [1/3, 1/3, 0]],\n",
    "                  [[-2, 1/3, 1/3],\n",
    "                   [1/3, -2, 1/3],\n",
    "                   [1/3, 1/3, -2]],\n",
    "                  [[0, 1/3, 1/3],\n",
    "                   [1/3, 0, 1/3],\n",
    "                   [1/3, 1/3, 0]]])"
   ]
  },
  {
   "cell_type": "markdown",
   "metadata": {},
   "source": [
    "    A = np.array([[[1, 0, 0],\n",
    "                   [0, 2, 0],\n",
    "                   [0, 0, 2]],\n",
    "                  [[-2, 0, 0],\n",
    "                   [0, -3, 0],\n",
    "                   [0, 0, -3]],\n",
    "                  [[1, 0, 0],\n",
    "                   [0, 1, 0],\n",
    "                   [0, 0, 1]]])"
   ]
  },
  {
   "cell_type": "code",
   "execution_count": null,
   "metadata": {},
   "outputs": [],
   "source": [
    "    Ss = shf.NewtonPoly(A)\n",
    "    ax = plt.subplot(111)\n",
    "    ax.semilogy(Ss['errs'],'-o')"
   ]
  },
  {
   "cell_type": "code",
   "execution_count": null,
   "metadata": {},
   "outputs": [],
   "source": [
    "    di = np.zeros((len(Ss['P_Xs']), Ss['P_Xs'][0].shape[0]))\n",
    "    di = di.astype(complex)\n",
    "    i = 0\n",
    "    for P in Ss['P_Xs']:\n",
    "        d, X = nla.eig(P)\n",
    "        di[i, :] = d\n",
    "        i += 1\n",
    "    print(di.dtype)"
   ]
  },
  {
   "cell_type": "code",
   "execution_count": null,
   "metadata": {},
   "outputs": [],
   "source": [
    "    fig, axes = plt.subplots(2, 2,figsize=(10, 8))\n",
    "    for i in range(di.shape[1]):\n",
    "        axes[0,0].plot(np.real(di[:,i]),'o')\n",
    "        axes[0,1].plot(np.imag(di[:,i]),'o')\n",
    "        axes[1,0].plot(np.absolute(di[:,i]),'o')\n",
    "        axes[1,1].semilogy(np.absolute(di[:,i]),'o')\n",
    "        i += 1"
   ]
  },
  {
   "cell_type": "code",
   "execution_count": null,
   "metadata": {
    "scrolled": false
   },
   "outputs": [],
   "source": [
    "    fig1 = plt.figure(figsize=(14,14))\n",
    "    ax1 = fig1.add_subplot(221, projection='3d')\n",
    "    ax2 = fig1.add_subplot(222, projection='3d')\n",
    "    ax3 = fig1.add_subplot(223, projection='3d')\n",
    "    ax4 = fig1.add_subplot(224, projection='3d')\n",
    "    for i in range(di.shape[1]):\n",
    "        ax1.plot(i*np.ones(di.shape[0]), np.arange(di.shape[0]), np.real(di[:,i]),'-o')\n",
    "        ax2.plot(i*np.ones(di.shape[0]), np.arange(di.shape[0]), np.imag(di[:,i]),'-o')\n",
    "        ax3.plot(i*np.ones(di.shape[0]), np.arange(di.shape[0]), np.absolute(di[:,i]),'-o')\n",
    "        ax4.plot(i*np.ones(di.shape[0]), np.arange(di.shape[0]), np.log10(np.absolute(di[:,i])),'-o')\n",
    "        i += 1\n",
    "    ax1.view_init(30, 315)\n",
    "    ax2.view_init(30, 315)\n",
    "    ax3.view_init(30, 315)\n",
    "    ax4.view_init(30, 315)"
   ]
  },
  {
   "cell_type": "markdown",
   "metadata": {},
   "source": [
    "    di = []\n",
    "    for P in Ss['P_Xs']:\n",
    "        d, X = nla.eig(P)\n",
    "        di.append(d)\n",
    "    fig, axes = plt.subplots(1,2,figsize=(10, 4))\n",
    "    i = 0\n",
    "    for d in di:\n",
    "        axes[0].plot(i*np.ones(d.shape[0]), np.real(d),'o')\n",
    "        axes[1].plot(i*np.ones(d.shape[0]), np.imag(d),'o')\n",
    "        i += 1\n",
    "    print(len(di))"
   ]
  },
  {
   "cell_type": "code",
   "execution_count": null,
   "metadata": {},
   "outputs": [],
   "source": [
    "    Ss['Hs'][0]"
   ]
  },
  {
   "cell_type": "markdown",
   "metadata": {},
   "source": [
    "    # H 간의 상수배 차이\n",
    "    for i in range(len(Ss['Hs'])-1):\n",
    "        j = i + 1\n",
    "        TT = Ss['Hs'][i] / Ss['Hs'][j]\n",
    "        print(np.mean(TT))\n",
    "        print(TT - np.mean(TT))"
   ]
  },
  {
   "cell_type": "markdown",
   "metadata": {},
   "source": [
    "    # H_{i+1}과 H_{i} 간, 내적을 통한 cos 값\n",
    "    TT = []\n",
    "    for i in range(len(Ss['Hs'])-1):\n",
    "        cosH = np.trace(np.dot(Ss['Hs'][i+1].transpose(),Ss['Hs'][i]))\n",
    "        cosH /= (nla.norm(Ss['Hs'][i+1], 'fro') * nla.norm(Ss['Hs'][i], 'fro'))\n",
    "        TT.append(cosH)\n",
    "    TT"
   ]
  },
  {
   "cell_type": "markdown",
   "metadata": {},
   "source": [
    "    # 멀리 떨어져있는 H들 사이, 내적을 통한 cos 값\n",
    "    i, j = 5, -1\n",
    "    cosH = np.trace(np.dot(Ss['Hs'][j].transpose(),Ss['Hs'][i])) / (nla.norm(Ss['Hs'][j], 'fro') * nla.norm(Ss['Hs'][i], 'fro'))\n",
    "    print(cosH)"
   ]
  },
  {
   "cell_type": "markdown",
   "metadata": {},
   "source": [
    "    d, X = nla.eig(Ss['P_Xs'][-1])\n",
    "\n",
    "    kk = -1\n",
    "    x1 = np.dot(Ss['P_Xs'][kk],np.reshape(Ss['Hs'][kk],(Ss['Hs'][kk].shape[0]*Ss['Hs'][kk].shape[1],1),order='F'))\n",
    "    x2 = d[0]*np.reshape(Ss['Hs'][kk],(Ss['Hs'][kk].shape[0]*Ss['Hs'][kk].shape[1],1),order='F')\n",
    "    print(x1)\n",
    "    print(x2)\n",
    "    print(np.absolute(x1 - x2) < 1e-16)"
   ]
  },
  {
   "cell_type": "markdown",
   "metadata": {},
   "source": [
    "    # S - X_{i}와 X_{i+1} - X_{i}의 Frobenius norm 구하기\n",
    "    nSmX = []\n",
    "    for X in Ss['Xs']:\n",
    "        nSmX.append(nla.norm(Ss['sol'] - X,'fro'))\n",
    "\n",
    "    nXmX = []\n",
    "    for i in range(len(Ss['Xs'])-1):\n",
    "        nXmX.append(nla.norm(Ss['Xs'][i+1] - Ss['Xs'][i],'fro'))"
   ]
  },
  {
   "cell_type": "markdown",
   "metadata": {},
   "source": [
    "    # 그래프로 S - X_{i}와 X_{i+1} - X_{i} 비교\n",
    "    dXoverdX = [nXmX[i+1] / nXmX[i] for i in range(len(nXmX)-1)]\n",
    "    dSoverdS = [nSmX[i+1] / nSmX[i] for i in range(len(nSmX)-1)]\n",
    "    fig, axes = plt.subplots(2,2,figsize=(10, 8))\n",
    "    axes[0,0].semilogy(nSmX,'-ob')\n",
    "    axes[0,1].semilogy(nSmX,'-ob')\n",
    "    axes[0,1].semilogy(nXmX,'-or')\n",
    "    axes[1,0].plot(dSoverdS,'-ob')\n",
    "    axes[1,1].plot(dSoverdS,'-ob')\n",
    "    axes[1,1].plot(dXoverdX, '-or')"
   ]
  }
 ],
 "metadata": {
  "kernelspec": {
   "display_name": "Python 3",
   "language": "python",
   "name": "python3"
  },
  "language_info": {
   "codemirror_mode": {
    "name": "ipython",
    "version": 3
   },
   "file_extension": ".py",
   "mimetype": "text/x-python",
   "name": "python",
   "nbconvert_exporter": "python",
   "pygments_lexer": "ipython3",
   "version": "3.7.1"
  }
 },
 "nbformat": 4,
 "nbformat_minor": 2
}
