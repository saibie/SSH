{
 "cells": [
  {
   "cell_type": "code",
   "execution_count": 1,
   "metadata": {},
   "outputs": [],
   "source": [
    "%matplotlib inline\n",
    "\n",
    "import numpy as np\n",
    "from numpy import linalg as nla\n",
    "import scipy as sp\n",
    "from scipy import linalg as sla\n",
    "from matplotlib import pyplot as plt\n",
    "from mpl_toolkits.mplot3d import Axes3D\n",
    "from pprint import pprint\n",
    "from time import time\n",
    "import os\n",
    "\n",
    "from jupyterthemes import jtplot\n",
    "jtplot.style(theme='solarizedl')\n",
    "\n",
    "from IPython.core.display import display, HTML\n",
    "np.set_printoptions(linewidth = 270)"
   ]
  },
  {
   "cell_type": "code",
   "execution_count": 2,
   "metadata": {
    "code_folding": [
     113,
     124,
     143,
     152,
     165,
     211,
     250
    ]
   },
   "outputs": [],
   "source": [
    "def NewtonPoly(A, X0 = np.NAN, maxiter = 100, tol = np.NAN, cls = 'Pure', LS_iter = 2):\n",
    "    if np.sum(np.isnan(X0)) > 0: # X0가 주어지지 않았을 때 m by m zero 행렬 처리\n",
    "        X0 = np.zeros((A.shape[1],A.shape[2]))\n",
    "    \n",
    "    if A.shape[1] != A.shape[2]: # A가 square matrices의 모음이 아닐 때 예외처리\n",
    "        raise ValueError('A가 정방행렬이 아닙니다.')\n",
    "        \n",
    "    m, n = A.shape[1], A.shape[0]-1 # m, n 초기화\n",
    "    \n",
    "    if np.isnan(tol): # tol이 주어지지 않았을 때 초기화\n",
    "        tol = m * 1e-15\n",
    "        \n",
    "    Xs = [X0] # Xs는 X들을 담은 리스트로 초기화\n",
    "    P_Xs, Hs, errs = [], [], [] # P_X, H, err 리스트 초기화\n",
    "    S = np.zeros((A.shape[1],A.shape[2]))\n",
    "    \n",
    "    iter = 0\n",
    "    err = 1e10 # error 초기화\n",
    "    L = []\n",
    "    \n",
    "    # Newton Iteration 시작\n",
    "    c_time = time()\n",
    "    while (err > tol) and (iter < maxiter):\n",
    "        P_X = np.zeros((m**2, m**2))\n",
    "        for k in range(1,n+1):\n",
    "            for l in range(k):\n",
    "                P_X = P_X + np.kron(nla.matrix_power(X0.transpose(),k-l-1), A[k,:,:] @ nla.matrix_power(X0, l))\n",
    "        P_Xs.append(P_X) # P_X_i 저장\n",
    "        vP = np.reshape(Pnomial(X0, A), m**2, 'F') # Reshape는 반드시 Fortran 방식으로\n",
    "        h = nla.solve(P_X, vP)\n",
    "#         h = nla.lstsq(P_X, vP)[0]\n",
    "        H = np.reshape(h, (m, m), order = 'F')\n",
    "        \n",
    "        if cls == 'Pure':\n",
    "            X0 = X0 - H # Newton Sequence 적용\n",
    "            err = nla.norm(Pnomial(X0, A), 'fro') # err 계산\n",
    "            \n",
    "            Xs.append(X0) # X_i 저장\n",
    "            Hs.append(H) # H_i 저장\n",
    "            errs.append(err) # err 저장\n",
    "        \n",
    "        elif cls == 'Modified':\n",
    "            X0 = X0 - 2*H # modified Newton Sequence 적용\n",
    "            err = nla.norm(Pnomial(X0, A), 'fro') # err 계산\n",
    "            if err <= tol:\n",
    "                Xs.append(X0) # X_i 저장\n",
    "                Hs.append(H) # H_i 저장\n",
    "                errs.append(err) # err 저장\n",
    "                break\n",
    "            X0 = X0 + H # pure Newton 재적용\n",
    "            err = nla.norm(Pnomial(X0, A), 'fro') # err 계산\n",
    "            \n",
    "            Xs.append(X0) # X_i 저장\n",
    "            Hs.append(H) # H_i 저장\n",
    "            errs.append(err) # err 저장\n",
    "            \n",
    "        elif cls == 'MLSearch':\n",
    "            if iter < LS_iter:\n",
    "                X0 = X0 - H # Newton Sequence 적용\n",
    "                err = nla.norm(Pnomial(X0, A), 'fro') # err 계산\n",
    "                L.append(1)\n",
    "            else:\n",
    "                pt = np.zeros(2*n + 1)\n",
    "                for t in range(2*n + 1):\n",
    "                    pt[t] = CoeffiLSearch(A, X0, -H, t)\n",
    "                pt = np.flip(pt)\n",
    "                ptder = np.polyder(pt)\n",
    "                critic = np.roots(ptder)\n",
    "                val = np.polyval(pt, critic)\n",
    "                val = np.where(np.logical_and(critic >= 1, critic <= 2), val, np.infty)\n",
    "                if np.sum(np.isinf(val)) == len(val):\n",
    "                    lamb = 1\n",
    "                else:\n",
    "                    lamb = np.real(critic[np.argmin(np.abs(val))])\n",
    "                L.append(lamb)\n",
    "                print(pt, critic, val, lamb)\n",
    "                \n",
    "                X0 = X0 - lamb * H # Newton Line Search 적용\n",
    "                err = nla.norm(Pnomial(X0, A), 'fro') # err 계산\n",
    "                \n",
    "            if err <= tol:\n",
    "                Xs.append(X0) # X_i 저장\n",
    "                Hs.append(H) # H_i 저장\n",
    "                errs.append(err) # err 저장\n",
    "                break\n",
    "            \n",
    "            Xs.append(X0) # X_i 저장\n",
    "            Hs.append(H) # H_i 저장\n",
    "            errs.append(err) # err 저장\n",
    "            \n",
    "        else:\n",
    "            print('준비되지 않은 종류의 Newton method라 pure method로 전환합니다.')\n",
    "            iter -= 1\n",
    "            cls = 'Pure'\n",
    "            \n",
    "        iter += 1\n",
    "    c_time = time() - c_time\n",
    "    S = Xs[-1] # Solution\n",
    "    \n",
    "    # Vectorize of S - X_{i}와 X_{i+1} - X_{i} : cos 계산\n",
    "    vSmX = []\n",
    "    vXmX = []\n",
    "    for i in range(len(Xs)-1):\n",
    "        vSmX.append(np.reshape(S - Xs[i], S.shape[0]*S.shape[1], order='F'))\n",
    "        vXmX.append(np.reshape(Xs[i+1] - Xs[i], S.shape[0]*S.shape[1], order='F'))\n",
    "    cSX = []\n",
    "    cXX = []\n",
    "    for i in range(len(vSmX)-1):\n",
    "        x1, y1 = vSmX[i+1], vSmX[i]\n",
    "        x2, y2 = vXmX[i+1], vXmX[i]\n",
    "        c1 = np.dot(x1,y1) / (nla.norm(x1,2)*nla.norm(y1,2))\n",
    "        c2 = np.dot(x2,y2) / (nla.norm(x2,2)*nla.norm(y2,2))\n",
    "        cSX.append(c1)\n",
    "        cXX.append(c2)\n",
    "    return {'sol':S, 'Xs':Xs, 'P_Xs':P_Xs, 'Hs':Hs, 'errs':errs, 'SmX':vSmX, 'XmX':vXmX, 'csSmX':cSX, 'csXmX':cXX, 'CalTime':c_time, 'lamb':L}\n",
    "\n",
    "def CoeffiLSearch(A, X, H, jq):\n",
    "    n = A.shape[0]-1\n",
    "    S = np.zeros(X.shape)\n",
    "    for p in range(n+1):\n",
    "        for k in range(n+1):\n",
    "            for q in range(p+1):\n",
    "                for j in range(k+1):\n",
    "                    if j+q == jq:\n",
    "                        S = S + PHIX(X.transpose(), H.transpose(), p, q) @ A[p,:,:].transpose() @ A[k,:,:] @ PHIX(X, H, k, j)\n",
    "    return np.trace(S)\n",
    "\n",
    "def PHIX(X, H, k, j):\n",
    "    if k == 0:\n",
    "        S = np.eye(X.shape[0])\n",
    "    else:\n",
    "        L = []\n",
    "        phi = [X, H]\n",
    "        S = np.zeros(X.shape)\n",
    "        P = np.eye(X.shape[0])\n",
    "        for p in range(2**k):\n",
    "            L.append((\"{:{fill}\"+str(k)+\"b}\").format(p, fill=\"0\"))\n",
    "        L = [[int(l) for l in ll] for ll in L]\n",
    "        for l in L:\n",
    "            if sum(l) == j:\n",
    "                for i in l:\n",
    "                    P = P @ phi[i]\n",
    "                S = S + P\n",
    "                P = np.eye(X.shape[0])\n",
    "    return S\n",
    "\n",
    "def Pnomial(X, A):\n",
    "#     S = np.zeros((X.shape[0],X.shape[1]))\n",
    "#     for k in range(A.shape[0]):\n",
    "#         S = S + A[k,:,:] @ nla.matrix_power(X, k)\n",
    "    Y = A[-1,:,:]\n",
    "    for i in range(2, A.shape[0]+1):\n",
    "        Y = A[-i,:,:] + Y @ X # 계산 수를 줄인 polynomial 계산 함수\n",
    "    return Y\n",
    "\n",
    "def MakeStochA(dim, degree = 1):\n",
    "    A = np.random.rand(degree + 1, dim, dim)\n",
    "    b = np.sum(A, axis = (0, 2))\n",
    "    for i in range(degree +1):\n",
    "        for j in range(dim):\n",
    "            A[i,j,:] = A[i,j,:]/b[j]\n",
    "    r = np.max(np.abs(nla.eigvals(np.sum(A,0))))\n",
    "    \n",
    "    for i in range(dim):\n",
    "        A[1,i,i] = A[1,i,i] - r\n",
    "        \n",
    "    return A\n",
    "\n",
    "def MakeSingularA(dim, degree, delta = 0):\n",
    "    A = np.zeros((degree+1, dim, dim))\n",
    "    K = np.random.rand(dim, dim)\n",
    "    for i in range(dim):\n",
    "        K[i,i] = 0\n",
    "    k = np.sum(K, axis = 1)\n",
    "    for j in range(dim):\n",
    "        K[j,:] = K[j,:]/k[j]\n",
    "    W = (1 - delta) * K\n",
    "    \n",
    "    if degree == 2:\n",
    "        A[0,:,:] = W\n",
    "        A[1,:,:] = W - 3*np.eye(dim)\n",
    "        A[2,:,:] = W + 3*delta * np.eye(dim)\n",
    "        A /= 3\n",
    "    elif degree == 4:\n",
    "        A[0,:,:] = 16*W\n",
    "        A[1,:,:] = 2*W - 26*np.eye(dim)\n",
    "        A[2,:,:] = W\n",
    "        A[3,:,:] = 6*W\n",
    "        A[4,:,:] = W + 26*delta * np.eye(dim)\n",
    "        A /= 26\n",
    "    elif degree == 6:\n",
    "        A[0,:,:] = 4096*W\n",
    "        A[1,:,:] = 56*W - 6200*np.eye(dim)\n",
    "        A[2,:,:] = 384*W\n",
    "        A[3,:,:] = 1312*W\n",
    "        A[4,:,:] = 321*W\n",
    "        A[5,:,:] = 30*W\n",
    "        A[6,:,:] = W + 6200*delta * np.eye(dim)\n",
    "        A /= 6200\n",
    "    elif degree == 8:\n",
    "        A[0,:,:] = 2985984*W\n",
    "        A[1,:,:] = 21024*W - 4500000*np.eye(dim)\n",
    "        A[2,:,:] = 311040*W\n",
    "        A[3,:,:] = 905472*W\n",
    "        A[4,:,:] = 244080*W\n",
    "        A[5,:,:] = 30312*W\n",
    "        A[6,:,:] = 2017*W\n",
    "        A[7,:,:] = 70*W\n",
    "        A[8,:,:] = W + 4500000*delta*np.eye(dim)\n",
    "        A /= 4500000\n",
    "    else:\n",
    "        raise ValueError('degree 2, 4, 6, 8 외에는 준비되지 않았습니다.')\n",
    "    return A\n",
    "\n",
    "def MakeGenSingA(dim, degree, delta = 0):\n",
    "    A = np.zeros((degree+1, dim, dim))\n",
    "    \n",
    "    if degree == 2:\n",
    "        A[0,:,:] = genW(dim, delta)\n",
    "        A[1,:,:] = genW(dim, delta) - 3*np.eye(dim)\n",
    "        A[2,:,:] = genW(dim, delta) + 3*delta * np.eye(dim)\n",
    "        A /= 3\n",
    "    elif degree == 4:\n",
    "        A[0,:,:] = 16*genW(dim, delta)\n",
    "        A[1,:,:] = 2*genW(dim, delta) - 26*np.eye(dim)\n",
    "        A[2,:,:] = genW(dim, delta)\n",
    "        A[3,:,:] = 6*genW(dim, delta)\n",
    "        A[4,:,:] = genW(dim, delta) + 26*delta * np.eye(dim)\n",
    "        A /= 26\n",
    "    elif degree == 6:\n",
    "        A[0,:,:] = 4096*genW(dim, delta)\n",
    "        A[1,:,:] = 56*genW(dim, delta) - 6200*np.eye(dim)\n",
    "        A[2,:,:] = 384*genW(dim, delta)\n",
    "        A[3,:,:] = 1312*genW(dim, delta)\n",
    "        A[4,:,:] = 321*genW(dim, delta)\n",
    "        A[5,:,:] = 30*genW(dim, delta)\n",
    "        A[6,:,:] = genW(dim, delta) + 6200*delta * np.eye(dim)\n",
    "        A /= 6200\n",
    "    elif degree == 8:\n",
    "        A[0,:,:] = 2985984*genW(dim, delta)\n",
    "        A[1,:,:] = 21024*genW(dim, delta) - 4500000*np.eye(dim)\n",
    "        A[2,:,:] = 311040*genW(dim, delta)\n",
    "        A[3,:,:] = 905472*genW(dim, delta)\n",
    "        A[4,:,:] = 244080*genW(dim, delta)\n",
    "        A[5,:,:] = 30312*genW(dim, delta)\n",
    "        A[6,:,:] = 2017*genW(dim, delta)\n",
    "        A[7,:,:] = 70*genW(dim, delta)\n",
    "        A[8,:,:] = genW(dim, delta) + 4500000*delta*np.eye(dim)\n",
    "        A /= 4500000\n",
    "    else:\n",
    "        raise ValueError('degree 2, 4, 6, 8 외에는 준비되지 않았습니다.')\n",
    "    return A\n",
    "\n",
    "def genW(dim, delta = 0):\n",
    "    K = np.random.rand(dim, dim)\n",
    "    for i in range(dim):\n",
    "        K[i,i] = 0\n",
    "    k = np.sum(K, axis = 1)\n",
    "    for j in range(dim):\n",
    "        K[j,:] = K[j,:]/k[j]\n",
    "    W = (1 - delta) * K\n",
    "    return W\n"
   ]
  },
  {
   "cell_type": "code",
   "execution_count": 3,
   "metadata": {},
   "outputs": [
    {
     "data": {
      "text/plain": [
       "array([[[ 0.00000000e+00,  4.03044956e-02,  1.38482934e-01,  1.16277983e-02,  1.42914772e-01],\n",
       "        [ 6.74269888e-02,  0.00000000e+00,  4.72818143e-02,  1.08917260e-01,  1.09703937e-01],\n",
       "        [ 1.24783882e-01,  1.22105323e-01,  0.00000000e+00,  6.61548570e-02,  2.02859383e-02],\n",
       "        [ 7.99493284e-02,  5.61179542e-02,  1.31411521e-01,  0.00000000e+00,  6.58511960e-02],\n",
       "        [ 1.01492793e-01,  7.85482222e-02,  1.02748653e-01,  5.05403319e-02,  0.00000000e+00]],\n",
       "\n",
       "       [[-1.00000000e+00,  1.14252026e-01,  6.06097585e-02,  1.20331223e-01,  3.81369923e-02],\n",
       "        [ 1.26082177e-01, -1.00000000e+00,  3.89482069e-02,  6.16192329e-02,  1.06680383e-01],\n",
       "        [ 2.89627186e-02,  5.91691365e-02, -1.00000000e+00,  1.87240792e-01,  5.79573525e-02],\n",
       "        [ 1.57087124e-01,  1.05901525e-01,  6.72097672e-03, -1.00000000e+00,  6.36203741e-02],\n",
       "        [ 1.14323780e-01,  7.51351473e-02,  1.95048175e-02,  1.24366255e-01, -1.00000000e+00]],\n",
       "\n",
       "       [[ 1.00000000e-05,  9.26211601e-02,  8.00130987e-02,  6.91245591e-02,  9.15711820e-02],\n",
       "        [ 1.20102841e-01,  1.00000000e-05,  2.83652993e-02,  2.36877331e-02,  1.61174126e-01],\n",
       "        [ 5.51244788e-02,  1.35952129e-01,  1.00000000e-05,  8.74920605e-02,  5.47613321e-02],\n",
       "        [ 9.67900307e-02,  1.50187913e-02,  1.16475639e-01,  1.00000000e-05,  1.05045539e-01],\n",
       "        [ 8.07511453e-02,  8.77504724e-02,  6.70587974e-02,  9.77695850e-02,  1.00000000e-05]]])"
      ]
     },
     "execution_count": 3,
     "metadata": {},
     "output_type": "execute_result"
    }
   ],
   "source": [
    "A = MakeGenSingA(5, 2, delta = .00001)\n",
    "A"
   ]
  },
  {
   "cell_type": "code",
   "execution_count": 4,
   "metadata": {
    "scrolled": false
   },
   "outputs": [
    {
     "name": "stdout",
     "output_type": "stream",
     "text": [
      "[ 4.30067270e-10 -3.44054091e-09  1.03216282e-08 -1.37621747e-08  6.88108731e-09] [1.99825212 1.99992474 2.00182794] [-1.42003022e-17 -1.41966304e-17             inf] 1.9999247417245958\n",
      "[ 1.39558788e-16  1.56557464e-18 -1.54119733e-18 -4.99749439e-20  3.46944695e-17] [ 0.07760379 -0.06939336 -0.01662395] [inf inf inf] 1\n",
      "[ 8.61062348e-18 -6.93307490e-17  2.08889538e-16 -2.79117685e-16  1.49186219e-16] [2.17440809 2.01282234 1.85159614] [           inf            inf 9.62723201e-18] 1.8515961387724342\n",
      "[1.23766175e-34 1.26326958e-30 3.60921145e-27 4.13590306e-25 1.21430643e-17] [-4339.62910576 -3256.43243339   -59.11717954] [inf inf inf] 1\n",
      "0.006831645965576172 0.014640331268310547\n",
      "[[0.14700584 0.1544776  0.30915224 0.10547507 0.28385925]\n",
      " [0.20844762 0.11922964 0.22660579 0.19529245 0.25039449]\n",
      " [0.26874604 0.23609259 0.1818197  0.15201277 0.1612989 ]\n",
      " [0.21443301 0.1656682  0.30838715 0.09349105 0.21799058]\n",
      " [0.23898295 0.19030992 0.28232627 0.13798171 0.15036916]]\n",
      "[[0.14700584 0.1544776  0.30915224 0.10547507 0.28385925]\n",
      " [0.20844762 0.11922964 0.22660579 0.19529245 0.25039449]\n",
      " [0.26874604 0.23609259 0.1818197  0.15201277 0.1612989 ]\n",
      " [0.21443301 0.1656682  0.30838715 0.09349105 0.21799058]\n",
      " [0.23898295 0.19030992 0.28232627 0.13798171 0.15036916]]\n"
     ]
    },
    {
     "data": {
      "image/png": "[encoded data removed]",
      "text/plain": [
       "<Figure size 1008x360 with 2 Axes>"
      ]
     },
     "metadata": {
      "needs_background": "light"
     },
     "output_type": "display_data"
    }
   ],
   "source": [
    "Ss = NewtonPoly(A)\n",
    "Ms = NewtonPoly(A, cls=\"MLSearch\", LS_iter = 6)\n",
    "# ss = shf.SimpNewtonPoly(A)\n",
    "# Ss = shf.NewtonPoly(A, X0 = np.array([[0, 1, 0],[0, 0, 1],[0, 0, 0]]))\n",
    "# Ss = shf.NewtonPoly(A, X0 = 1 * np.eye(3))\n",
    "fig = plt.figure(figsize=(14,5))\n",
    "ax1 = fig.add_subplot(121)\n",
    "ax2 = fig.add_subplot(122)\n",
    "\n",
    "ax1.semilogy(Ss['errs'],'-o')\n",
    "ax1.set_title('Pure Newton Method Errors')\n",
    "\n",
    "ax2.semilogy(Ms['errs'],'-o')\n",
    "ax2.set_title('Modified Line Search Errors')\n",
    "# ax2.set_ylim(ax1.get_ylim())\n",
    "\n",
    "print(Ss['CalTime'], Ms['CalTime'])\n",
    "print(Ss['sol'])\n",
    "print(Ms['sol'])\n",
    "# print(shf.Pnomial(Ss['sol'], A))"
   ]
  },
  {
   "cell_type": "code",
   "execution_count": 5,
   "metadata": {
    "scrolled": false
   },
   "outputs": [
    {
     "name": "stdout",
     "output_type": "stream",
     "text": [
      "[1, 1, 1, 1, 1, 1, 1.9999247417245958, 1, 1.8515961387724342, 1]\n"
     ]
    }
   ],
   "source": [
    "print(Ms['lamb'])"
   ]
  },
  {
   "cell_type": "code",
   "execution_count": 8,
   "metadata": {},
   "outputs": [
    {
     "name": "stdout",
     "output_type": "stream",
     "text": [
      "1.99167778982894e-20 1.9982100000000003\n"
     ]
    },
    {
     "data": {
      "image/png": "[encoded data removed]",
      "text/plain": [
       "<Figure size 1008x360 with 1 Axes>"
      ]
     },
     "metadata": {
      "needs_background": "light"
     },
     "output_type": "display_data"
    }
   ],
   "source": [
    "T = np.arange(0,5,.00001)\n",
    "X = Ms['Xs'][6]\n",
    "N = np.zeros(len(T))\n",
    "H = Ms['Hs'][6]\n",
    "\n",
    "N = [nla.norm(Pnomial(X-t*H, A), 'fro')**2 for t in T]\n",
    "\n",
    "fig = plt.figure(figsize=(14,5))\n",
    "ax1 = fig.add_subplot(111)\n",
    "\n",
    "ax1.plot(T, N,'-')\n",
    "ax1.set_title(\"$||P(tH)||$\")\n",
    "\n",
    "print(np.min(N), T[np.argmin(N)])"
   ]
  },
  {
   "cell_type": "code",
   "execution_count": 20,
   "metadata": {},
   "outputs": [
    {
     "data": {
      "text/plain": [
       "(-1e-18, 1e-17)"
      ]
     },
     "execution_count": 20,
     "metadata": {},
     "output_type": "execute_result"
    },
    {
     "data": {
      "image/png": "[encoded data removed]",
      "text/plain": [
       "<Figure size 1008x360 with 1 Axes>"
      ]
     },
     "metadata": {
      "needs_background": "light"
     },
     "output_type": "display_data"
    }
   ],
   "source": [
    "fig = plt.figure(figsize=(14,5))\n",
    "ax1 = fig.add_subplot(111)\n",
    "\n",
    "ax1.plot(T, N,'-')\n",
    "ax1.set_title(\"$||P(tH)||$\")\n",
    "ax1.set_ylim([-1e-18, 1e-17])"
   ]
  },
  {
   "cell_type": "code",
   "execution_count": null,
   "metadata": {},
   "outputs": [],
   "source": []
  }
 ],
 "metadata": {
  "kernelspec": {
   "display_name": "Python 3",
   "language": "python",
   "name": "python3"
  },
  "language_info": {
   "codemirror_mode": {
    "name": "ipython",
    "version": 3
   },
   "file_extension": ".py",
   "mimetype": "text/x-python",
   "name": "python",
   "nbconvert_exporter": "python",
   "pygments_lexer": "ipython3",
   "version": "3.7.1"
  }
 },
 "nbformat": 4,
 "nbformat_minor": 2
}
