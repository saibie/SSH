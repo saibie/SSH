{
 "cells": [
  {
   "cell_type": "markdown",
   "metadata": {},
   "source": [
    "\\begin{align}\n",
    "\\dfrac{||\\tilde{X_{i+1}}||}{||\\tilde{X_{i}}||} &= \\dfrac{||X_{i+1} - S||}{||X_{i} - S||} \\\\\n",
    "& = \\dfrac{||X_{i+1} - X_{i} + X_{i} - S||}{||X_{i} - X_{i-1} + X_{i-1} - S||} \\\\\n",
    "& \\leq \\dfrac{||X_{i+1} - X_{i}|| + ||X_{i} - S||}{||X_{i} - X_{i-1} + X_{i-1} - S||} \\\\\n",
    "& \\leq \\dfrac{||X_{i+1} - X_{i}|| + ||X_{i} - S||}{||X_{i} - X_{i-1}|| - ||X_{i-1} - S||} \n",
    "\\end{align}\n",
    "<center>$\\uparrow$ 이건 아닐 수도 있네</center>\n",
    "\n",
    "\n",
    "\\begin{align}\n",
    "\\dfrac{||\\tilde{X_{i+1}}||}{||\\tilde{X_{i}}||} &= \\dfrac{||X_{i+1} - S||}{||X_{i} - S||} \\\\\n",
    "& = \\dfrac{||X_{i+1} - X_{i} + X_{i} - S||}{||X_{i} - X_{i-1} + X_{i-1} - S||} \\\\\n",
    "& \\geq \\dfrac{||X_{i+1} - X_{i} + X_{i} - S||}{||X_{i} - X_{i-1}|| + ||X_{i-1} - S||} \\\\\n",
    "& \\geq \\dfrac{||X_{i+1} - X_{i}|| - ||X_{i} - S||}{||X_{i} - X_{i-1}|| + ||X_{i-1} - S||}\n",
    "\\end{align}"
   ]
  }
 ],
 "metadata": {
  "kernelspec": {
   "display_name": "Python 3",
   "language": "python",
   "name": "python3"
  },
  "language_info": {
   "codemirror_mode": {
    "name": "ipython",
    "version": 3
   },
   "file_extension": ".py",
   "mimetype": "text/x-python",
   "name": "python",
   "nbconvert_exporter": "python",
   "pygments_lexer": "ipython3",
   "version": "3.7.1"
  }
 },
 "nbformat": 4,
 "nbformat_minor": 2
}
