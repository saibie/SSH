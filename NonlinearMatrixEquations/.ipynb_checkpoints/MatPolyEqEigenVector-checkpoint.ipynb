{
 "cells": [
  {
   "cell_type": "code",
   "execution_count": 1,
   "metadata": {},
   "outputs": [
    {
     "data": {
      "text/html": [
       "<style>.container { width:95% !important; }</style>"
      ],
      "text/plain": [
       "<IPython.core.display.HTML object>"
      ]
     },
     "metadata": {},
     "output_type": "display_data"
    }
   ],
   "source": [
    "%matplotlib inline\n",
    "\n",
    "import numpy as np\n",
    "from numpy import linalg as nla\n",
    "import scipy as sp\n",
    "from scipy import linalg as sla\n",
    "from matplotlib import pyplot as plt\n",
    "from mpl_toolkits.mplot3d import Axes3D\n",
    "from time import time\n",
    "import SHFunctions as shf\n",
    "import os\n",
    "\n",
    "from IPython.core.display import display, HTML\n",
    "display(HTML(\"<style>.container { width:95% !important; }</style>\"))\n",
    "np.set_printoptions(linewidth = 200)"
   ]
  },
  {
   "cell_type": "raw",
   "metadata": {},
   "source": [
    "A = shf.MakeStochA(4,6)"
   ]
  },
  {
   "cell_type": "code",
   "execution_count": 2,
   "metadata": {},
   "outputs": [],
   "source": [
    "A = shf.MakeSingularA(6, 2, delta = .00010)"
   ]
  },
  {
   "cell_type": "raw",
   "metadata": {},
   "source": [
    "A = np.array([[[0, 1/3, 1/3],\n",
    "               [1/3, 0, 1/3],\n",
    "               [1/3, 1/3, 0]],\n",
    "              [[-2, 1/3, 1/3],\n",
    "               [1/3, -2, 1/3],\n",
    "               [1/3, 1/3, -2]],\n",
    "              [[0, 1/3, 1/3],\n",
    "               [1/3, 0, 1/3],\n",
    "               [1/3, 1/3, 0]]])"
   ]
  },
  {
   "cell_type": "raw",
   "metadata": {},
   "source": [
    "A = np.array([[[1, 0, 0],\n",
    "               [0, 2, 0],\n",
    "               [0, 0, 2]],\n",
    "              [[-2, 0, 0],\n",
    "               [0, -3, 0],\n",
    "               [0, 0, -3]],\n",
    "              [[1, 0, 0],\n",
    "               [0, 1, 0],\n",
    "               [0, 0, 1]]])"
   ]
  },
  {
   "cell_type": "code",
   "execution_count": 3,
   "metadata": {},
   "outputs": [
    {
     "data": {
      "text/plain": [
       "[<matplotlib.lines.Line2D at 0x1ed0e135080>]"
      ]
     },
     "execution_count": 3,
     "metadata": {},
     "output_type": "execute_result"
    },
    {
     "data": {
      "image/png": "[encoded data removed]",
      "text/plain": [
       "<Figure size 432x288 with 1 Axes>"
      ]
     },
     "metadata": {
      "needs_background": "light"
     },
     "output_type": "display_data"
    }
   ],
   "source": [
    "Ss = shf.NewtonPoly(A)\n",
    "ax = plt.subplot(111)\n",
    "ax.semilogy(Ss['errs'],'-o')"
   ]
  },
  {
   "cell_type": "raw",
   "metadata": {
    "scrolled": false
   },
   "source": [
    "# Derivative에 대한 eigenvalues와 vectors\n",
    "Ds = []\n",
    "EVs = []\n",
    "for i in range(len(Ss['P_Xs'])):\n",
    "    d, ev = nla.eig(Ss['P_Xs'][i])\n",
    "    Ds.append(d)\n",
    "    EVs.append(ev)\n",
    "\n",
    "for i in range(len(Ds)):\n",
    "    print(Ds[i])\n",
    "    print(EVs[i])"
   ]
  },
  {
   "cell_type": "raw",
   "metadata": {},
   "source": [
    "coeffi = np.zeros((Ss['Hs'][i].shape[0] * Ss['Hs'][i].shape[1],len(EVs)))\n",
    "for i in range(len(EVs)):\n",
    "    h = nla.solve(EVs[i], np.reshape(Ss['Hs'][i], (Ss['Hs'][i].shape[0] * Ss['Hs'][i].shape[1],1), order='F'))\n",
    "    coeffi[:,i] = np.squeeze(h)\n",
    "coeffi.transpose()"
   ]
  },
  {
   "cell_type": "raw",
   "metadata": {
    "scrolled": false
   },
   "source": [
    "fig = plt.figure(figsize=(14,5))\n",
    "ax1 = fig.add_subplot(121)\n",
    "ax2 = fig.add_subplot(122)\n",
    "for i in range(coeffi.shape[0]):\n",
    "    ax1.plot(coeffi[i,:],'-o')\n",
    "    ax2.semilogy(np.abs(coeffi[i,:]),'-o')        "
   ]
  },
  {
   "cell_type": "code",
   "execution_count": 4,
   "metadata": {
    "scrolled": false
   },
   "outputs": [
    {
     "name": "stdout",
     "output_type": "stream",
     "text": [
      "[0. 0. 0. 0. 0. 0.]\n",
      "[[1. 0. 0. 0. 0. 0.]\n",
      " [0. 1. 0. 0. 0. 0.]\n",
      " [0. 0. 1. 0. 0. 0.]\n",
      " [0. 0. 0. 1. 0. 0.]\n",
      " [0. 0. 0. 0. 1. 0.]\n",
      " [0. 0. 0. 0. 0. 1.]]\n",
      "[ 0.499925  +0.j         -0.05483976+0.07022727j -0.05483976-0.07022727j -0.07558529+0.02817377j -0.07558529-0.02817377j -0.06310145+0.j        ]\n",
      "[[ 0.40824829+0.j         -0.25995246-0.20095086j -0.25995246+0.20095086j  0.38835477-0.06742608j  0.38835477+0.06742608j -0.07272264+0.j        ]\n",
      " [ 0.40824829+0.j          0.22117374+0.37692152j  0.22117374-0.37692152j  0.43752762-0.18468924j  0.43752762+0.18468924j  0.75578963+0.j        ]\n",
      " [ 0.40824829+0.j          0.55213405+0.j          0.55213405-0.j         -0.57667478+0.j         -0.57667478-0.j         -0.51878473+0.j        ]\n",
      " [ 0.40824829+0.j         -0.03235473-0.11604285j -0.03235473+0.11604285j  0.02562859+0.3168719j   0.02562859-0.3168719j  -0.07125637+0.j        ]\n",
      " [ 0.40824829+0.j         -0.32237632+0.38121355j -0.32237632-0.38121355j -0.36636352-0.17414436j -0.36636352+0.17414436j -0.37022922+0.j        ]\n",
      " [ 0.40824829+0.j         -0.07818503-0.35542632j -0.07818503+0.35542632j -0.14353045+0.01805183j -0.14353045-0.01805183j  0.11049301+0.j        ]]\n",
      "[ 0.74988749+0.j         -0.05419168+0.07050274j -0.05419168-0.07050274j -0.07583514+0.02864062j -0.07583514-0.02864062j -0.06335435+0.j        ]\n",
      "[[ 0.40824829+0.j         -0.25995246-0.20095086j -0.25995246+0.20095086j  0.38835477-0.06742608j  0.38835477+0.06742608j -0.07272264+0.j        ]\n",
      " [ 0.40824829+0.j          0.22117374+0.37692152j  0.22117374-0.37692152j  0.43752762-0.18468924j  0.43752762+0.18468924j  0.75578963+0.j        ]\n",
      " [ 0.40824829+0.j          0.55213405+0.j          0.55213405-0.j         -0.57667478+0.j         -0.57667478-0.j         -0.51878473+0.j        ]\n",
      " [ 0.40824829+0.j         -0.03235473-0.11604285j -0.03235473+0.11604285j  0.02562859+0.3168719j   0.02562859-0.3168719j  -0.07125637+0.j        ]\n",
      " [ 0.40824829+0.j         -0.32237632+0.38121355j -0.32237632-0.38121355j -0.36636352-0.17414436j -0.36636352+0.17414436j -0.37022922+0.j        ]\n",
      " [ 0.40824829+0.j         -0.07818503-0.35542632j -0.07818503+0.35542632j -0.14353045+0.01805183j -0.14353045-0.01805183j  0.11049301+0.j        ]]\n",
      "[ 0.87486872+0.j         -0.05419173+0.07050274j -0.05419173-0.07050274j -0.07583512+0.02864064j -0.07583512-0.02864064j -0.06335435+0.j        ]\n",
      "[[-0.40824829+0.j         -0.25995246-0.20095086j -0.25995246+0.20095086j  0.38835477-0.06742608j  0.38835477+0.06742608j -0.07272264+0.j        ]\n",
      " [-0.40824829+0.j          0.22117374+0.37692152j  0.22117374-0.37692152j  0.43752762-0.18468924j  0.43752762+0.18468924j  0.75578963+0.j        ]\n",
      " [-0.40824829+0.j          0.55213405+0.j          0.55213405-0.j         -0.57667478+0.j         -0.57667478-0.j         -0.51878473+0.j        ]\n",
      " [-0.40824829+0.j         -0.03235473-0.11604285j -0.03235473+0.11604285j  0.02562859+0.3168719j   0.02562859-0.3168719j  -0.07125637+0.j        ]\n",
      " [-0.40824829+0.j         -0.32237632+0.38121355j -0.32237632-0.38121355j -0.36636352-0.17414436j -0.36636352+0.17414436j -0.37022922+0.j        ]\n",
      " [-0.40824829+0.j         -0.07818503-0.35542632j -0.07818503+0.35542632j -0.14353045+0.01805183j -0.14353045-0.01805183j  0.11049301+0.j        ]]\n",
      "[ 0.93735928+0.j         -0.05419173+0.07050274j -0.05419173-0.07050274j -0.07583512+0.02864064j -0.07583512-0.02864064j -0.06335435+0.j        ]\n",
      "[[-0.40824829+0.j         -0.25995246-0.20095086j -0.25995246+0.20095086j  0.38835477-0.06742608j  0.38835477+0.06742608j -0.07272264+0.j        ]\n",
      " [-0.40824829+0.j          0.22117374+0.37692152j  0.22117374-0.37692152j  0.43752762-0.18468924j  0.43752762+0.18468924j  0.75578963+0.j        ]\n",
      " [-0.40824829+0.j          0.55213405+0.j          0.55213405-0.j         -0.57667478+0.j         -0.57667478-0.j         -0.51878473+0.j        ]\n",
      " [-0.40824829+0.j         -0.03235473-0.11604285j -0.03235473+0.11604285j  0.02562859+0.3168719j   0.02562859-0.3168719j  -0.07125637+0.j        ]\n",
      " [-0.40824829+0.j         -0.32237632+0.38121355j -0.32237632-0.38121355j -0.36636352-0.17414436j -0.36636352+0.17414436j -0.37022922+0.j        ]\n",
      " [-0.40824829+0.j         -0.07818503-0.35542632j -0.07818503+0.35542632j -0.14353045+0.01805183j -0.14353045-0.01805183j  0.11049301+0.j        ]]\n",
      "[ 0.96860448+0.j         -0.05419173+0.07050274j -0.05419173-0.07050274j -0.07583512+0.02864064j -0.07583512-0.02864064j -0.06335435+0.j        ]\n",
      "[[-0.40824829+0.j         -0.25995246-0.20095086j -0.25995246+0.20095086j  0.38835477-0.06742608j  0.38835477+0.06742608j -0.07272264+0.j        ]\n",
      " [-0.40824829+0.j          0.22117374+0.37692152j  0.22117374-0.37692152j  0.43752762-0.18468924j  0.43752762+0.18468924j  0.75578963+0.j        ]\n",
      " [-0.40824829+0.j          0.55213405+0.j          0.55213405-0.j         -0.57667478+0.j         -0.57667478-0.j         -0.51878473+0.j        ]\n",
      " [-0.40824829+0.j         -0.03235473-0.11604285j -0.03235473+0.11604285j  0.02562859+0.3168719j   0.02562859-0.3168719j  -0.07125637+0.j        ]\n",
      " [-0.40824829+0.j         -0.32237632+0.38121355j -0.32237632-0.38121355j -0.36636352-0.17414436j -0.36636352+0.17414436j -0.37022922+0.j        ]\n",
      " [-0.40824829+0.j         -0.07818503-0.35542632j -0.07818503+0.35542632j -0.14353045+0.01805183j -0.14353045-0.01805183j  0.11049301+0.j        ]]\n",
      "[ 0.98422689+0.j         -0.05419173+0.07050274j -0.05419173-0.07050274j -0.07583512+0.02864064j -0.07583512-0.02864064j -0.06335435+0.j        ]\n",
      "[[-0.40824829+0.j         -0.25995246-0.20095086j -0.25995246+0.20095086j  0.38835477-0.06742608j  0.38835477+0.06742608j -0.07272264+0.j        ]\n",
      " [-0.40824829+0.j          0.22117374+0.37692152j  0.22117374-0.37692152j  0.43752762-0.18468924j  0.43752762+0.18468924j  0.75578963+0.j        ]\n",
      " [-0.40824829+0.j          0.55213405+0.j          0.55213405-0.j         -0.57667478+0.j         -0.57667478-0.j         -0.51878473+0.j        ]\n",
      " [-0.40824829+0.j         -0.03235473-0.11604285j -0.03235473+0.11604285j  0.02562859+0.3168719j   0.02562859-0.3168719j  -0.07125637+0.j        ]\n",
      " [-0.40824829+0.j         -0.32237632+0.38121355j -0.32237632-0.38121355j -0.36636352-0.17414436j -0.36636352+0.17414436j -0.37022922+0.j        ]\n",
      " [-0.40824829+0.j         -0.07818503-0.35542632j -0.07818503+0.35542632j -0.14353045+0.01805183j -0.14353045-0.01805183j  0.11049301+0.j        ]]\n",
      "[ 0.99203774+0.j         -0.05419173+0.07050274j -0.05419173-0.07050274j -0.07583512+0.02864064j -0.07583512-0.02864064j -0.06335435+0.j        ]\n",
      "[[-0.40824829+0.j         -0.25995246-0.20095086j -0.25995246+0.20095086j  0.38835477-0.06742608j  0.38835477+0.06742608j -0.07272264+0.j        ]\n",
      " [-0.40824829+0.j          0.22117374+0.37692152j  0.22117374-0.37692152j  0.43752762-0.18468924j  0.43752762+0.18468924j  0.75578963+0.j        ]\n",
      " [-0.40824829+0.j          0.55213405+0.j          0.55213405-0.j         -0.57667478+0.j         -0.57667478-0.j         -0.51878473+0.j        ]\n",
      " [-0.40824829+0.j         -0.03235473-0.11604285j -0.03235473+0.11604285j  0.02562859+0.3168719j   0.02562859-0.3168719j  -0.07125637+0.j        ]\n",
      " [-0.40824829+0.j         -0.32237632+0.38121355j -0.32237632-0.38121355j -0.36636352-0.17414436j -0.36636352+0.17414436j -0.37022922+0.j        ]\n",
      " [-0.40824829+0.j         -0.07818503-0.35542632j -0.07818503+0.35542632j -0.14353045+0.01805183j -0.14353045-0.01805183j  0.11049301+0.j        ]]\n",
      "[ 0.99594245+0.j         -0.05419173+0.07050274j -0.05419173-0.07050274j -0.07583512+0.02864064j -0.07583512-0.02864064j -0.06335435+0.j        ]\n",
      "[[-0.40824829+0.j         -0.25995246-0.20095086j -0.25995246+0.20095086j  0.38835477-0.06742608j  0.38835477+0.06742608j -0.07272264+0.j        ]\n",
      " [-0.40824829+0.j          0.22117374+0.37692152j  0.22117374-0.37692152j  0.43752762-0.18468924j  0.43752762+0.18468924j  0.75578963+0.j        ]\n",
      " [-0.40824829+0.j          0.55213405+0.j          0.55213405-0.j         -0.57667478+0.j         -0.57667478-0.j         -0.51878473+0.j        ]\n",
      " [-0.40824829+0.j         -0.03235473-0.11604285j -0.03235473+0.11604285j  0.02562859+0.3168719j   0.02562859-0.3168719j  -0.07125637+0.j        ]\n",
      " [-0.40824829+0.j         -0.32237632+0.38121355j -0.32237632-0.38121355j -0.36636352-0.17414436j -0.36636352+0.17414436j -0.37022922+0.j        ]\n",
      " [-0.40824829+0.j         -0.07818503-0.35542632j -0.07818503+0.35542632j -0.14353045+0.01805183j -0.14353045-0.01805183j  0.11049301+0.j        ]]\n",
      "[ 0.99789336+0.j         -0.05419173+0.07050274j -0.05419173-0.07050274j -0.07583512+0.02864064j -0.07583512-0.02864064j -0.06335435+0.j        ]\n",
      "[[-0.40824829+0.j         -0.25995246-0.20095086j -0.25995246+0.20095086j  0.38835477-0.06742608j  0.38835477+0.06742608j -0.07272264+0.j        ]\n",
      " [-0.40824829+0.j          0.22117374+0.37692152j  0.22117374-0.37692152j  0.43752762-0.18468924j  0.43752762+0.18468924j  0.75578963+0.j        ]\n",
      " [-0.40824829+0.j          0.55213405+0.j          0.55213405-0.j         -0.57667478+0.j         -0.57667478-0.j         -0.51878473+0.j        ]\n",
      " [-0.40824829+0.j         -0.03235473-0.11604285j -0.03235473+0.11604285j  0.02562859+0.3168719j   0.02562859-0.3168719j  -0.07125637+0.j        ]\n",
      " [-0.40824829+0.j         -0.32237632+0.38121355j -0.32237632-0.38121355j -0.36636352-0.17414436j -0.36636352+0.17414436j -0.37022922+0.j        ]\n",
      " [-0.40824829+0.j         -0.07818503-0.35542632j -0.07818503+0.35542632j -0.14353045+0.01805183j -0.14353045-0.01805183j  0.11049301+0.j        ]]\n",
      "[ 0.99886595+0.j         -0.05419173+0.07050274j -0.05419173-0.07050274j -0.07583512+0.02864064j -0.07583512-0.02864064j -0.06335435+0.j        ]\n",
      "[[-0.40824829+0.j         -0.25995246-0.20095086j -0.25995246+0.20095086j  0.38835477-0.06742608j  0.38835477+0.06742608j -0.07272264+0.j        ]\n",
      " [-0.40824829+0.j          0.22117374+0.37692152j  0.22117374-0.37692152j  0.43752762-0.18468924j  0.43752762+0.18468924j  0.75578963+0.j        ]\n",
      " [-0.40824829+0.j          0.55213405+0.j          0.55213405-0.j         -0.57667478+0.j         -0.57667478-0.j         -0.51878473+0.j        ]\n",
      " [-0.40824829+0.j         -0.03235473-0.11604285j -0.03235473+0.11604285j  0.02562859+0.3168719j   0.02562859-0.3168719j  -0.07125637+0.j        ]\n",
      " [-0.40824829+0.j         -0.32237632+0.38121355j -0.32237632-0.38121355j -0.36636352-0.17414436j -0.36636352+0.17414436j -0.37022922+0.j        ]\n",
      " [-0.40824829+0.j         -0.07818503-0.35542632j -0.07818503+0.35542632j -0.14353045+0.01805183j -0.14353045-0.01805183j  0.11049301+0.j        ]]\n",
      "[ 0.99934656+0.j         -0.05419173+0.07050274j -0.05419173-0.07050274j -0.07583512+0.02864064j -0.07583512-0.02864064j -0.06335435+0.j        ]\n",
      "[[-0.40824829+0.j         -0.25995246-0.20095086j -0.25995246+0.20095086j  0.38835477-0.06742608j  0.38835477+0.06742608j -0.07272264+0.j        ]\n",
      " [-0.40824829+0.j          0.22117374+0.37692152j  0.22117374-0.37692152j  0.43752762-0.18468924j  0.43752762+0.18468924j  0.75578963+0.j        ]\n",
      " [-0.40824829+0.j          0.55213405+0.j          0.55213405-0.j         -0.57667478+0.j         -0.57667478-0.j         -0.51878473+0.j        ]\n",
      " [-0.40824829+0.j         -0.03235473-0.11604285j -0.03235473+0.11604285j  0.02562859+0.3168719j   0.02562859-0.3168719j  -0.07125637+0.j        ]\n",
      " [-0.40824829+0.j         -0.32237632+0.38121355j -0.32237632-0.38121355j -0.36636352-0.17414436j -0.36636352+0.17414436j -0.37022922+0.j        ]\n",
      " [-0.40824829+0.j         -0.07818503-0.35542632j -0.07818503+0.35542632j -0.14353045+0.01805183j -0.14353045-0.01805183j  0.11049301+0.j        ]]\n",
      "[ 0.99957596+0.j         -0.05419173+0.07050274j -0.05419173-0.07050274j -0.07583512+0.02864064j -0.07583512-0.02864064j -0.06335435+0.j        ]\n",
      "[[-0.40824829+0.j         -0.25995246-0.20095086j -0.25995246+0.20095086j  0.38835477-0.06742608j  0.38835477+0.06742608j -0.07272264+0.j        ]\n",
      " [-0.40824829+0.j          0.22117374+0.37692152j  0.22117374-0.37692152j  0.43752762-0.18468924j  0.43752762+0.18468924j  0.75578963+0.j        ]\n",
      " [-0.40824829+0.j          0.55213405+0.j          0.55213405-0.j         -0.57667478+0.j         -0.57667478-0.j         -0.51878473+0.j        ]\n",
      " [-0.40824829+0.j         -0.03235473-0.11604285j -0.03235473+0.11604285j  0.02562859+0.3168719j   0.02562859-0.3168719j  -0.07125637+0.j        ]\n",
      " [-0.40824829+0.j         -0.32237632+0.38121355j -0.32237632-0.38121355j -0.36636352-0.17414436j -0.36636352+0.17414436j -0.37022922+0.j        ]\n",
      " [-0.40824829+0.j         -0.07818503-0.35542632j -0.07818503+0.35542632j -0.14353045+0.01805183j -0.14353045-0.01805183j  0.11049301+0.j        ]]\n",
      "[ 0.99967196+0.j         -0.05419173+0.07050274j -0.05419173-0.07050274j -0.07583512+0.02864064j -0.07583512-0.02864064j -0.06335435+0.j        ]\n",
      "[[-0.40824829+0.j         -0.25995246-0.20095086j -0.25995246+0.20095086j  0.38835477-0.06742608j  0.38835477+0.06742608j -0.07272264+0.j        ]\n",
      " [-0.40824829+0.j          0.22117374+0.37692152j  0.22117374-0.37692152j  0.43752762-0.18468924j  0.43752762+0.18468924j  0.75578963+0.j        ]\n",
      " [-0.40824829+0.j          0.55213405+0.j          0.55213405-0.j         -0.57667478+0.j         -0.57667478-0.j         -0.51878473+0.j        ]\n",
      " [-0.40824829+0.j         -0.03235473-0.11604285j -0.03235473+0.11604285j  0.02562859+0.3168719j   0.02562859-0.3168719j  -0.07125637+0.j        ]\n",
      " [-0.40824829+0.j         -0.32237632+0.38121355j -0.32237632-0.38121355j -0.36636352-0.17414436j -0.36636352+0.17414436j -0.37022922+0.j        ]\n",
      " [-0.40824829+0.j         -0.07818503-0.35542632j -0.07818503+0.35542632j -0.14353045+0.01805183j -0.14353045-0.01805183j  0.11049301+0.j        ]]\n",
      "[ 0.99969784+0.j         -0.05419173+0.07050274j -0.05419173-0.07050274j -0.07583512+0.02864064j -0.07583512-0.02864064j -0.06335435+0.j        ]\n",
      "[[-0.40824829+0.j         -0.25995246-0.20095086j -0.25995246+0.20095086j  0.38835477-0.06742608j  0.38835477+0.06742608j -0.07272264+0.j        ]\n",
      " [-0.40824829+0.j          0.22117374+0.37692152j  0.22117374-0.37692152j  0.43752762-0.18468924j  0.43752762+0.18468924j  0.75578963+0.j        ]\n",
      " [-0.40824829+0.j          0.55213405+0.j          0.55213405-0.j         -0.57667478+0.j         -0.57667478-0.j         -0.51878473+0.j        ]\n",
      " [-0.40824829+0.j         -0.03235473-0.11604285j -0.03235473+0.11604285j  0.02562859+0.3168719j   0.02562859-0.3168719j  -0.07125637+0.j        ]\n",
      " [-0.40824829+0.j         -0.32237632+0.38121355j -0.32237632-0.38121355j -0.36636352-0.17414436j -0.36636352+0.17414436j -0.37022922+0.j        ]\n",
      " [-0.40824829+0.j         -0.07818503-0.35542632j -0.07818503+0.35542632j -0.14353045+0.01805183j -0.14353045-0.01805183j  0.11049301+0.j        ]]\n",
      "[ 0.99970004+0.j         -0.05419173+0.07050274j -0.05419173-0.07050274j -0.07583512+0.02864064j -0.07583512-0.02864064j -0.06335435+0.j        ]\n",
      "[[-0.40824829+0.j         -0.25995246-0.20095086j -0.25995246+0.20095086j  0.38835477-0.06742608j  0.38835477+0.06742608j -0.07272264+0.j        ]\n",
      " [-0.40824829+0.j          0.22117374+0.37692152j  0.22117374-0.37692152j  0.43752762-0.18468924j  0.43752762+0.18468924j  0.75578963+0.j        ]\n",
      " [-0.40824829+0.j          0.55213405+0.j          0.55213405-0.j         -0.57667478+0.j         -0.57667478-0.j         -0.51878473+0.j        ]\n",
      " [-0.40824829+0.j         -0.03235473-0.11604285j -0.03235473+0.11604285j  0.02562859+0.3168719j   0.02562859-0.3168719j  -0.07125637+0.j        ]\n",
      " [-0.40824829+0.j         -0.32237632+0.38121355j -0.32237632-0.38121355j -0.36636352-0.17414436j -0.36636352+0.17414436j -0.37022922+0.j        ]\n",
      " [-0.40824829+0.j         -0.07818503-0.35542632j -0.07818503+0.35542632j -0.14353045+0.01805183j -0.14353045-0.01805183j  0.11049301+0.j        ]]\n",
      "[ 0.99970006+0.j         -0.05419173+0.07050274j -0.05419173-0.07050274j -0.07583512+0.02864064j -0.07583512-0.02864064j -0.06335435+0.j        ]\n",
      "[[-0.40824829+0.j         -0.25995246-0.20095086j -0.25995246+0.20095086j  0.38835477-0.06742608j  0.38835477+0.06742608j -0.07272264+0.j        ]\n",
      " [-0.40824829+0.j          0.22117374+0.37692152j  0.22117374-0.37692152j  0.43752762-0.18468924j  0.43752762+0.18468924j  0.75578963+0.j        ]\n",
      " [-0.40824829+0.j          0.55213405+0.j          0.55213405-0.j         -0.57667478+0.j         -0.57667478-0.j         -0.51878473+0.j        ]\n",
      " [-0.40824829+0.j         -0.03235473-0.11604285j -0.03235473+0.11604285j  0.02562859+0.3168719j   0.02562859-0.3168719j  -0.07125637+0.j        ]\n",
      " [-0.40824829+0.j         -0.32237632+0.38121355j -0.32237632-0.38121355j -0.36636352-0.17414436j -0.36636352+0.17414436j -0.37022922+0.j        ]\n",
      " [-0.40824829+0.j         -0.07818503-0.35542632j -0.07818503+0.35542632j -0.14353045+0.01805183j -0.14353045-0.01805183j  0.11049301+0.j        ]]\n"
     ]
    }
   ],
   "source": [
    "# X_{i}에 대한 eigenvalues와 vectors\n",
    "Ds = []\n",
    "EVs = []\n",
    "for i in range(len(Ss['Xs'])):\n",
    "    d, ev = nla.eig(Ss['Xs'][i])\n",
    "    Ds.append(d)\n",
    "    EVs.append(ev)\n",
    "\n",
    "for i in range(len(Ds)):\n",
    "    print(Ds[i])\n",
    "    print(EVs[i])"
   ]
  }
 ],
 "metadata": {
  "kernelspec": {
   "display_name": "Python 3",
   "language": "python",
   "name": "python3"
  },
  "language_info": {
   "codemirror_mode": {
    "name": "ipython",
    "version": 3
   },
   "file_extension": ".py",
   "mimetype": "text/x-python",
   "name": "python",
   "nbconvert_exporter": "python",
   "pygments_lexer": "ipython3",
   "version": "3.7.1"
  }
 },
 "nbformat": 4,
 "nbformat_minor": 2
}
