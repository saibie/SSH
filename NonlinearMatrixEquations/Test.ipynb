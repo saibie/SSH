{
 "cells": [
  {
   "cell_type": "code",
   "execution_count": 1,
   "metadata": {},
   "outputs": [],
   "source": [
    "%matplotlib inline\n",
    "\n",
    "import numpy as np\n",
    "from numpy import linalg as nla\n",
    "import scipy as sp\n",
    "from scipy import linalg as sla\n",
    "from matplotlib import pyplot as plt\n",
    "from mpl_toolkits.mplot3d import Axes3D\n",
    "from pprint import pprint\n",
    "from time import time\n",
    "# import SHFunctions as shf\n",
    "import os\n",
    "\n",
    "from jupyterthemes import jtplot\n",
    "jtplot.style(theme='solarizedl')\n",
    "\n",
    "from IPython.core.display import display, HTML\n",
    "np.set_printoptions(linewidth = 270)"
   ]
  },
  {
   "cell_type": "code",
   "execution_count": 2,
   "metadata": {},
   "outputs": [],
   "source": [
    "A = np.array([[0,1,1,1,1],[1,0,1,1,1],[1,1,0,1,1],[1,1,1,0,1],[1,1,1,1,0]])"
   ]
  },
  {
   "cell_type": "code",
   "execution_count": 3,
   "metadata": {},
   "outputs": [
    {
     "name": "stdout",
     "output_type": "stream",
     "text": [
      "[-1.  4. -1. -1. -1.]\n",
      "[[-0.89442719  0.4472136   0.19518001  0.15432036  0.09319422]\n",
      " [ 0.2236068   0.4472136  -0.53674504  0.73302172 -0.25628411]\n",
      " [ 0.2236068   0.4472136   0.76445506  0.04715344 -0.25628411]\n",
      " [ 0.2236068   0.4472136  -0.21144502 -0.46724776 -0.41160781]\n",
      " [ 0.2236068   0.4472136  -0.21144502 -0.46724776  0.8309818 ]]\n"
     ]
    }
   ],
   "source": [
    "d, X = nla.eig(A)\n",
    "print(d)\n",
    "print(X)"
   ]
  }
 ],
 "metadata": {
  "kernelspec": {
   "display_name": "Python 3",
   "language": "python",
   "name": "python3"
  },
  "language_info": {
   "codemirror_mode": {
    "name": "ipython",
    "version": 3
   },
   "file_extension": ".py",
   "mimetype": "text/x-python",
   "name": "python",
   "nbconvert_exporter": "python",
   "pygments_lexer": "ipython3",
   "version": "3.7.1"
  }
 },
 "nbformat": 4,
 "nbformat_minor": 2
}
