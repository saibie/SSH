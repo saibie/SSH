{
 "cells": [
  {
   "cell_type": "code",
   "execution_count": 1,
   "metadata": {},
   "outputs": [],
   "source": [
    "%matplotlib notebook\n",
    "import numpy as np\n",
    "from numpy import linalg as nla\n",
    "import scipy as sp\n",
    "from scipy import linalg as sla\n",
    "from matplotlib import pyplot as plt\n",
    "import matplotlib.animation as animation\n",
    "from mpl_toolkits.mplot3d import Axes3D\n",
    "from pprint import pprint\n",
    "from time import time\n",
    "# import SHFunctions as shf\n",
    "import os\n",
    "\n",
    "from jupyterthemes import jtplot\n",
    "jtplot.style(theme='solarizedl')\n",
    "\n",
    "from IPython.core.display import display, HTML\n",
    "np.set_printoptions(linewidth = 270)"
   ]
  },
  {
   "cell_type": "code",
   "execution_count": 5,
   "metadata": {},
   "outputs": [
    {
     "name": "stdout",
     "output_type": "stream",
     "text": [
      "a = True\n",
      "b = Hey\n"
     ]
    }
   ],
   "source": [
    "def f(**kwargs):\n",
    "    for i in kwargs:\n",
    "        print('{} = {}'.format(i, kwargs[i]))\n",
    "    \n",
    "f(a = True, b = 'Hey')"
   ]
  }
 ],
 "metadata": {
  "kernelspec": {
   "display_name": "Python 3",
   "language": "python",
   "name": "python3"
  },
  "language_info": {
   "codemirror_mode": {
    "name": "ipython",
    "version": 3
   },
   "file_extension": ".py",
   "mimetype": "text/x-python",
   "name": "python",
   "nbconvert_exporter": "python",
   "pygments_lexer": "ipython3",
   "version": "3.7.1"
  }
 },
 "nbformat": 4,
 "nbformat_minor": 2
}
