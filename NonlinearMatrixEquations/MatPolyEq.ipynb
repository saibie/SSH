{
 "cells": [
  {
   "cell_type": "code",
   "execution_count": 1,
   "metadata": {},
   "outputs": [],
   "source": [
    "%matplotlib inline\n",
    "\n",
    "import numpy as np\n",
    "from numpy import linalg as nla\n",
    "import scipy as sp\n",
    "from scipy import linalg as sla\n",
    "from matplotlib import pyplot as plt\n",
    "from time import time\n",
    "import SHFunctions as shf\n",
    "import os"
   ]
  },
  {
   "cell_type": "markdown",
   "metadata": {},
   "source": [
    "    A = shf.MakeStochA(4,6)\n",
    "    Ss = shf.NewtonPoly(A)\n",
    "    \n",
    "    ax = plt.subplot(111)\n",
    "    ax.semilogy(Ss['errs'],'-o')"
   ]
  },
  {
   "cell_type": "code",
   "execution_count": 2,
   "metadata": {},
   "outputs": [
    {
     "data": {
      "text/plain": [
       "[<matplotlib.lines.Line2D at 0x174bffcb400>]"
      ]
     },
     "execution_count": 2,
     "metadata": {},
     "output_type": "execute_result"
    },
    {
     "data": {
      "image/png": "[encoded data removed]",
      "text/plain": [
       "<Figure size 432x288 with 1 Axes>"
      ]
     },
     "metadata": {
      "needs_background": "light"
     },
     "output_type": "display_data"
    }
   ],
   "source": [
    "    A = shf.MakeSingularA(8, 4, delta = .00100)\n",
    "    Ss = shf.NewtonPoly(A)\n",
    "\n",
    "    ax = plt.subplot(111)\n",
    "    ax.semilogy(Ss['errs'],'-o')"
   ]
  },
  {
   "cell_type": "code",
   "execution_count": 3,
   "metadata": {
    "scrolled": false
   },
   "outputs": [
    {
     "data": {
      "text/plain": [
       "[0.9233990831436185,\n",
       " 0.9999986936421708,\n",
       " 0.9999999999999979,\n",
       " 1.0000000000000002,\n",
       " 1.0000000000000002,\n",
       " 1.0,\n",
       " 0.9999999999999999,\n",
       " 1.0,\n",
       " 1.0000000000000002,\n",
       " 1.0,\n",
       " 1.0]"
      ]
     },
     "execution_count": 3,
     "metadata": {},
     "output_type": "execute_result"
    }
   ],
   "source": [
    "Ss['csSmX']"
   ]
  },
  {
   "cell_type": "code",
   "execution_count": 43,
   "metadata": {
    "scrolled": false
   },
   "outputs": [
    {
     "name": "stdout",
     "output_type": "stream",
     "text": [
      "[[-5.41144938e-09 -6.56361000e-09 -4.37125339e-09 -7.07515773e-09\n",
      "  -7.21768099e-09 -4.99322631e-09 -6.95803865e-09 -6.72355270e-09]\n",
      " [-5.41144935e-09 -6.56361000e-09 -4.37125340e-09 -7.07515772e-09\n",
      "  -7.21768102e-09 -4.99322632e-09 -6.95803867e-09 -6.72355262e-09]\n",
      " [-5.41144939e-09 -6.56361005e-09 -4.37125340e-09 -7.07515770e-09\n",
      "  -7.21768098e-09 -4.99322630e-09 -6.95803865e-09 -6.72355262e-09]\n",
      " [-5.41144937e-09 -6.56360995e-09 -4.37125344e-09 -7.07515770e-09\n",
      "  -7.21768099e-09 -4.99322630e-09 -6.95803865e-09 -6.72355266e-09]\n",
      " [-5.41144935e-09 -6.56360999e-09 -4.37125341e-09 -7.07515773e-09\n",
      "  -7.21768099e-09 -4.99322630e-09 -6.95803868e-09 -6.72355263e-09]\n",
      " [-5.41144938e-09 -6.56361002e-09 -4.37125340e-09 -7.07515771e-09\n",
      "  -7.21768100e-09 -4.99322629e-09 -6.95803865e-09 -6.72355263e-09]\n",
      " [-5.41144936e-09 -6.56361002e-09 -4.37125340e-09 -7.07515773e-09\n",
      "  -7.21768099e-09 -4.99322630e-09 -6.95803868e-09 -6.72355266e-09]\n",
      " [-5.41144937e-09 -6.56361001e-09 -4.37125339e-09 -7.07515773e-09\n",
      "  -7.21768097e-09 -4.99322629e-09 -6.95803867e-09 -6.72355265e-09]]\n",
      "13559051.434939058\n",
      "[[ 0.06683061  0.04953407 -0.05142628  0.01780406  0.02919051  0.04593642\n",
      "  -0.11267401 -0.04248924]\n",
      " [-0.07826662  0.08226664  0.0426549   0.03610441 -0.02137586 -0.00136657\n",
      "  -0.02864148 -0.02866929]\n",
      " [ 0.01541546 -0.04522084  0.05458984 -0.04641846  0.07182252 -0.00933296\n",
      "   0.00661838 -0.0447678 ]\n",
      " [ 0.04377583 -0.03316185 -0.04804699  0.08691008 -0.02359058  0.01987704\n",
      "  -0.02740793 -0.01564946]\n",
      " [-0.01768066  0.040163   -0.02690527 -0.03804674  0.08857599 -0.11204457\n",
      "   0.04532429  0.02332012]\n",
      " [ 0.06370627 -0.10815087  0.01812506  0.0497259  -0.08442973  0.05987114\n",
      "  -0.05282216  0.05668054]\n",
      " [-0.0256924  -0.04015623  0.04207753 -0.02064311  0.01925852 -0.01925825\n",
      "   0.08555549 -0.0384354 ]\n",
      " [-0.03303585  0.02552052 -0.0115448  -0.08272683 -0.07390638  0.04726881\n",
      "   0.04801834  0.08311234]]\n",
      "0.9999999999999999\n",
      "\n",
      "\n",
      "[[-5.41144938e-09 -6.56361000e-09 -4.37125339e-09 -7.07515773e-09\n",
      "  -7.21768099e-09 -4.99322631e-09 -6.95803865e-09 -6.72355270e-09]\n",
      " [-5.41144935e-09 -6.56361000e-09 -4.37125340e-09 -7.07515772e-09\n",
      "  -7.21768102e-09 -4.99322632e-09 -6.95803867e-09 -6.72355262e-09]\n",
      " [-5.41144939e-09 -6.56361005e-09 -4.37125340e-09 -7.07515770e-09\n",
      "  -7.21768098e-09 -4.99322630e-09 -6.95803865e-09 -6.72355262e-09]\n",
      " [-5.41144937e-09 -6.56360995e-09 -4.37125344e-09 -7.07515770e-09\n",
      "  -7.21768099e-09 -4.99322630e-09 -6.95803865e-09 -6.72355266e-09]\n",
      " [-5.41144935e-09 -6.56360999e-09 -4.37125341e-09 -7.07515773e-09\n",
      "  -7.21768099e-09 -4.99322630e-09 -6.95803868e-09 -6.72355263e-09]\n",
      " [-5.41144938e-09 -6.56361002e-09 -4.37125340e-09 -7.07515771e-09\n",
      "  -7.21768100e-09 -4.99322629e-09 -6.95803865e-09 -6.72355263e-09]\n",
      " [-5.41144936e-09 -6.56361002e-09 -4.37125340e-09 -7.07515773e-09\n",
      "  -7.21768099e-09 -4.99322630e-09 -6.95803868e-09 -6.72355266e-09]\n",
      " [-5.41144937e-09 -6.56361001e-09 -4.37125339e-09 -7.07515773e-09\n",
      "  -7.21768097e-09 -4.99322629e-09 -6.95803867e-09 -6.72355265e-09]]\n",
      "3631126.8344267285\n",
      "[[-2.72232703e-05  6.63618287e-05 -1.36961730e-05 -4.25879901e-05\n",
      "   1.09574090e-04 -9.25288359e-05  2.93662324e-05 -3.03292523e-05]\n",
      " [-2.88564251e-05 -2.15551302e-05  3.77016331e-05  3.11223473e-05\n",
      "  -3.74409498e-05  1.85043344e-05  5.80751112e-06 -6.34686459e-06]\n",
      " [ 1.33038565e-04 -7.73157360e-05 -6.04485657e-05  9.09833259e-06\n",
      "  -1.53131061e-06  6.29412732e-05 -8.46061998e-05  1.77600641e-05]\n",
      " [-3.68023491e-05  9.27855032e-06  2.04203097e-05 -4.41052191e-05\n",
      "   9.39567462e-05 -8.84721414e-05  8.61067876e-05 -4.14463689e-05]\n",
      " [ 5.80572013e-05  7.03359037e-05 -9.67801545e-05  7.08934086e-05\n",
      "  -1.10884025e-04  9.53627250e-05 -1.54369803e-04  6.63211389e-05]\n",
      " [-5.48300114e-05 -1.30814328e-05  5.64736053e-05 -8.70825414e-05\n",
      "   1.20386173e-04 -1.14478977e-04  1.36035416e-04 -4.44857812e-05]\n",
      " [ 8.67459803e-05 -1.03961779e-04 -8.15981059e-06  3.17312799e-05\n",
      "  -5.06108986e-05  7.97496229e-05 -4.68687242e-05  1.03109526e-05]\n",
      " [-1.09918654e-04  4.88925165e-05  6.17362566e-05 -9.97185915e-07\n",
      "  -6.86518269e-05  7.91146800e-06  4.71821112e-05  1.27816719e-05]]\n",
      "1.0000000000016227\n"
     ]
    }
   ],
   "source": [
    "    x = Ss['Hs'][0]\n",
    "    z = Ss['Hs'][1]\n",
    "    y = Ss['Hs'][-1]\n",
    "    u = x - (np.trace(np.dot(y.transpose(),x)) / np.trace(np.dot(y.transpose(),y))) * y\n",
    "    v = z - (np.trace(np.dot(y.transpose(),z)) / np.trace(np.dot(y.transpose(),y))) * y\n",
    "    print(y)\n",
    "    print((np.trace(np.dot(y.transpose(),x)) / np.trace(np.dot(y.transpose(),y))))\n",
    "    print(u)\n",
    "    print((np.trace(np.dot(u.transpose(),x)) / np.trace(np.dot(u.transpose(),u))))\n",
    "    print(\"\\n\")\n",
    "    print(y)\n",
    "    print((np.trace(np.dot(y.transpose(),z)) / np.trace(np.dot(y.transpose(),y))))\n",
    "    print(v)\n",
    "    print((np.trace(np.dot(v.transpose(),z)) / np.trace(np.dot(v.transpose(),v))))"
   ]
  },
  {
   "cell_type": "code",
   "execution_count": 15,
   "metadata": {},
   "outputs": [
    {
     "data": {
      "text/plain": [
       "array([[-0.00654351, -0.03946225, -0.11069633, -0.07812836, -0.0686744 ,\n",
       "        -0.02176699, -0.20701842, -0.13365424],\n",
       "       [-0.15164074, -0.00672969, -0.01661515, -0.05982802, -0.11924077,\n",
       "        -0.06906998, -0.12298588, -0.11983428],\n",
       "       [-0.05795866, -0.13421716, -0.00468021, -0.14235089, -0.02604239,\n",
       "        -0.07703637, -0.08772602, -0.1359328 ],\n",
       "       [-0.02959829, -0.12215817, -0.10731704, -0.00902235, -0.12145548,\n",
       "        -0.04782637, -0.12175234, -0.10681446],\n",
       "       [-0.09105478, -0.04883333, -0.08617532, -0.13397917, -0.00928892,\n",
       "        -0.17974799, -0.04902012, -0.06784488],\n",
       "       [-0.00966785, -0.1971472 , -0.04114499, -0.04620653, -0.18229464,\n",
       "        -0.00783227, -0.14716656, -0.03448445],\n",
       "       [-0.09906652, -0.12915256, -0.01719252, -0.11657554, -0.07860639,\n",
       "        -0.08696166, -0.00878892, -0.1296004 ],\n",
       "       [-0.10640997, -0.06347581, -0.07081485, -0.17865925, -0.17177129,\n",
       "        -0.02043461, -0.04632607, -0.00805266]])"
      ]
     },
     "execution_count": 15,
     "metadata": {},
     "output_type": "execute_result"
    }
   ],
   "source": [
    "    Ss['Hs'][0]"
   ]
  },
  {
   "cell_type": "markdown",
   "metadata": {},
   "source": [
    "    # S - X_{i}와 X_{i+1} - X_{i}의 Frobenius norm 구하기\n",
    "    nSmX = []\n",
    "    for X in Ss['Xs']:\n",
    "        nSmX.append(nla.norm(Ss['sol'] - X,'fro'))\n",
    "\n",
    "    nXmX = []\n",
    "    for i in range(len(Ss['Xs'])-1):\n",
    "        nXmX.append(nla.norm(Ss['Xs'][i+1] - Ss['Xs'][i],'fro'))"
   ]
  },
  {
   "cell_type": "markdown",
   "metadata": {},
   "source": [
    "    # 그래프로 S - X_{i}와 X_{i+1} - X_{i} 비교\n",
    "    dXoverdX = [nXmX[i+1] / nXmX[i] for i in range(len(nXmX)-1)]\n",
    "    dSoverdS = [nSmX[i+1] / nSmX[i] for i in range(len(nSmX)-1)]\n",
    "    fig, axes = plt.subplots(2,2,figsize=(10, 8))\n",
    "    axes[0,0].semilogy(nSmX,'-ob')\n",
    "    axes[0,1].semilogy(nSmX,'-ob')\n",
    "    axes[0,1].semilogy(nXmX,'-or')\n",
    "    axes[1,0].plot(dSoverdS,'-ob')\n",
    "    axes[1,1].plot(dSoverdS,'-ob')\n",
    "    axes[1,1].plot(dXoverdX, '-or')"
   ]
  },
  {
   "cell_type": "code",
   "execution_count": null,
   "metadata": {},
   "outputs": [],
   "source": []
  }
 ],
 "metadata": {
  "kernelspec": {
   "display_name": "Python 3",
   "language": "python",
   "name": "python3"
  },
  "language_info": {
   "codemirror_mode": {
    "name": "ipython",
    "version": 3
   },
   "file_extension": ".py",
   "mimetype": "text/x-python",
   "name": "python",
   "nbconvert_exporter": "python",
   "pygments_lexer": "ipython3",
   "version": "3.7.1"
  }
 },
 "nbformat": 4,
 "nbformat_minor": 2
}
