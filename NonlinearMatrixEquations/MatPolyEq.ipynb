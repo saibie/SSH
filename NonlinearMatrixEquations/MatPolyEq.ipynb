{
 "cells": [
  {
   "cell_type": "code",
   "execution_count": 1,
   "metadata": {},
   "outputs": [],
   "source": [
    "%matplotlib inline\n",
    "\n",
    "import numpy as np\n",
    "from numpy import linalg as nla\n",
    "import scipy as sp\n",
    "from scipy import linalg as sla\n",
    "from matplotlib import pyplot as plt\n",
    "from time import time\n",
    "import SHFunctions as shf\n",
    "import os"
   ]
  },
  {
   "cell_type": "markdown",
   "metadata": {},
   "source": [
    "    A = shf.MakeStochA(4,6)\n",
    "    Ss = shf.NewtonPoly(A)\n",
    "    \n",
    "    ax = plt.subplot(111)\n",
    "    ax.semilogy(Ss['errs'],'-o')"
   ]
  },
  {
   "cell_type": "code",
   "execution_count": 2,
   "metadata": {},
   "outputs": [
    {
     "data": {
      "text/plain": [
       "[<matplotlib.lines.Line2D at 0x19d44c17390>]"
      ]
     },
     "execution_count": 2,
     "metadata": {},
     "output_type": "execute_result"
    },
    {
     "data": {
      "image/png": "[encoded data removed]",
      "text/plain": [
       "<Figure size 432x288 with 1 Axes>"
      ]
     },
     "metadata": {
      "needs_background": "light"
     },
     "output_type": "display_data"
    }
   ],
   "source": [
    "    A = shf.MakeSingularA(8, 4, delta = .000001)\n",
    "    Ss = shf.NewtonPoly(A)\n",
    "\n",
    "    ax = plt.subplot(111)\n",
    "    ax.semilogy(Ss['errs'],'-o')"
   ]
  },
  {
   "cell_type": "code",
   "execution_count": 3,
   "metadata": {},
   "outputs": [],
   "source": [
    "    # S - X_{i}와 X_{i+1} - X_{i}\n",
    "    SmX = []\n",
    "    for X in Ss['Xs']:\n",
    "        SmX.append(Ss['sol'] - X)\n",
    "\n",
    "    XmX = []\n",
    "    for i in range(len(Ss['Xs'])-1):\n",
    "        XmX.append(Ss['Xs'][i+1] - Ss['Xs'][i])"
   ]
  },
  {
   "cell_type": "code",
   "execution_count": 4,
   "metadata": {},
   "outputs": [],
   "source": [
    "    # Vectorize\n",
    "    vSmX = []\n",
    "    vXmX = []\n",
    "    for X in SmX:\n",
    "        vSmX.append(np.reshape(X, X.shape[0]*X.shape[1], order='F'))\n",
    "    for X in XmX:\n",
    "        vXmX.append(np.reshape(X, X.shape[0]*X.shape[1], order='F'))\n",
    "    "
   ]
  },
  {
   "cell_type": "code",
   "execution_count": 5,
   "metadata": {
    "scrolled": false
   },
   "outputs": [
    {
     "name": "stderr",
     "output_type": "stream",
     "text": [
      "c:\\users\\saibi\\appdata\\local\\programs\\python\\python37\\lib\\site-packages\\ipykernel_launcher.py:5: RuntimeWarning: invalid value encountered in double_scalars\n",
      "  \"\"\"\n"
     ]
    }
   ],
   "source": [
    "    # cos 계산\n",
    "    cSX = []\n",
    "    cXX = []\n",
    "    for i in range(len(vSmX)-1):\n",
    "        x, y = vSmX[i+1], vSmX[i]\n",
    "        c = np.dot(x,y) / (nla.norm(x,2)*nla.norm(y,2))\n",
    "        cSX.append(c)\n",
    "    for i in range(len(vXmX)-1):\n",
    "        x, y = vXmX[i+1], vXmX[i]\n",
    "        c = np.dot(x,y) / (nla.norm(x,2)*nla.norm(y,2))\n",
    "        cXX.append(c)"
   ]
  },
  {
   "cell_type": "code",
   "execution_count": 7,
   "metadata": {
    "scrolled": false
   },
   "outputs": [
    {
     "data": {
      "text/plain": [
       "[0.8690709692210601,\n",
       " 0.9999987525131255,\n",
       " 1.0000000000000002,\n",
       " 1.0000000000000002,\n",
       " 1.0000000000000002,\n",
       " 1.0000000000000002,\n",
       " 1.0000000000000002,\n",
       " 1.0,\n",
       " 1.0,\n",
       " 1.0,\n",
       " 1.0,\n",
       " 0.9999999999999999,\n",
       " 1.0,\n",
       " 1.0,\n",
       " 1.0,\n",
       " 1.0000000000000002,\n",
       " 1.0,\n",
       " 0.9999999999999999,\n",
       " 1.0,\n",
       " 1.0]"
      ]
     },
     "execution_count": 7,
     "metadata": {},
     "output_type": "execute_result"
    }
   ],
   "source": [
    "cXX"
   ]
  },
  {
   "cell_type": "markdown",
   "metadata": {},
   "source": [
    "    # S - X_{i}와 X_{i+1} - X_{i}의 Frobenius norm 구하기\n",
    "    nSmX = []\n",
    "    for X in Ss['Xs']:\n",
    "        nSmX.append(nla.norm(Ss['sol'] - X,'fro'))\n",
    "\n",
    "    nXmX = []\n",
    "    for i in range(len(Ss['Xs'])-1):\n",
    "        nXmX.append(nla.norm(Ss['Xs'][i+1] - Ss['Xs'][i],'fro'))"
   ]
  },
  {
   "cell_type": "markdown",
   "metadata": {},
   "source": [
    "    # 그래프로 S - X_{i}와 X_{i+1} - X_{i} 비교\n",
    "    dXoverdX = [nXmX[i+1] / nXmX[i] for i in range(len(nXmX)-1)]\n",
    "    dSoverdS = [nSmX[i+1] / nSmX[i] for i in range(len(nSmX)-1)]\n",
    "    fig, axes = plt.subplots(2,2,figsize=(10, 8))\n",
    "    axes[0,0].semilogy(nSmX,'-ob')\n",
    "    axes[0,1].semilogy(nSmX,'-ob')\n",
    "    axes[0,1].semilogy(nXmX,'-or')\n",
    "    axes[1,0].plot(dSoverdS,'-ob')\n",
    "    axes[1,1].plot(dSoverdS,'-ob')\n",
    "    axes[1,1].plot(dXoverdX, '-or')"
   ]
  },
  {
   "cell_type": "code",
   "execution_count": null,
   "metadata": {},
   "outputs": [],
   "source": []
  }
 ],
 "metadata": {
  "kernelspec": {
   "display_name": "Python 3",
   "language": "python",
   "name": "python3"
  },
  "language_info": {
   "codemirror_mode": {
    "name": "ipython",
    "version": 3
   },
   "file_extension": ".py",
   "mimetype": "text/x-python",
   "name": "python",
   "nbconvert_exporter": "python",
   "pygments_lexer": "ipython3",
   "version": "3.7.1"
  }
 },
 "nbformat": 4,
 "nbformat_minor": 2
}
