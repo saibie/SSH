{
 "cells": [
  {
   "cell_type": "markdown",
   "metadata": {},
   "source": [
    "\\begin{align*}\n",
    "    P(X) &= A_{2}X^{2} + A_{1}X + A_{0} \\\\\n",
    "    P(X + tH) &= P(S) + P'[S](X + tH - S) + \\frac12 P''[S](X + tH - S)^{2} \\\\\n",
    "    &= A_{2}S((t-1)\\tilde{X} - t\\tilde{X}_{+}) + A_{2}((t-1)\\tilde{X} - t\\tilde{X}_{+})S + A_{1}((t-1)\\tilde{X} - t\\tilde{X}_{+}) + A_{2}((t-1)\\tilde{X} - t\\tilde{X}_{+})^{2} \\\\\n",
    "    &= A_{2}S((t-1)\\mathbf{P}_{\\mathcal{N}}\\tilde{X} - t\\mathbf{P}_{\\mathcal{N}}\\tilde{X}_{+} + (t-1)\\mathbf{P}_{\\mathcal{M}}\\tilde{X} - t\\mathbf{P}_{\\mathcal{M}}\\tilde{X}_{+}) + A_{2}((t-1)\\mathbf{P}_{\\mathcal{N}}\\tilde{X} - t\\mathbf{P}_{\\mathcal{N}}\\tilde{X}_{+} + (t-1)\\mathbf{P}_{\\mathcal{M}}\\tilde{X} - t\\mathbf{P}_{\\mathcal{M}}\\tilde{X}_{+})S + A_{1}((t-1)\\mathbf{P}_{\\mathcal{N}}\\tilde{X} - t\\mathbf{P}_{\\mathcal{N}}\\tilde{X}_{+} + (t-1)\\mathbf{P}_{\\mathcal{M}}\\tilde{X} - t\\mathbf{P}_{\\mathcal{M}}\\tilde{X}_{+}) \\\\ &\\qquad+ A_{2}((t-1)\\mathbf{P}_{\\mathcal{N}}\\tilde{X} - t\\mathbf{P}_{\\mathcal{N}}\\tilde{X}_{+} + (t-1)\\mathbf{P}_{\\mathcal{M}}\\tilde{X} - t\\mathbf{P}_{\\mathcal{M}}\\tilde{X}_{+})^{2} \\\\\n",
    "    &= A_{2}S((t-1)\\mathbf{P}_{\\mathcal{N}}\\tilde{X} - t\\mathbf{P}_{\\mathcal{N}}\\tilde{X}_{+} + (t-1)\\mathbf{P}_{\\mathcal{M}}\\tilde{X} - t\\mathbf{P}_{\\mathcal{M}}\\tilde{X}_{+}) + A_{2}((t-1)\\mathbf{P}_{\\mathcal{N}}\\tilde{X} - t\\mathbf{P}_{\\mathcal{N}}\\tilde{X}_{+} + (t-1)\\mathbf{P}_{\\mathcal{M}}\\tilde{X} - t\\mathbf{P}_{\\mathcal{M}}\\tilde{X}_{+})S + A_{1}((t-1)\\mathbf{P}_{\\mathcal{N}}\\tilde{X} - t\\mathbf{P}_{\\mathcal{N}}\\tilde{X}_{+} + (t-1)\\mathbf{P}_{\\mathcal{M}}\\tilde{X} - t\\mathbf{P}_{\\mathcal{M}}\\tilde{X}_{+}) \\\\ &\\qquad+ A_{2}((t-1)\\mathbf{P}_{\\mathcal{N}}\\tilde{X} - t\\mathbf{P}_{\\mathcal{N}}\\tilde{X}_{+} + (t-1)\\mathbf{P}_{\\mathcal{M}}\\tilde{X} - t\\mathbf{P}_{\\mathcal{M}}\\tilde{X}_{+})^{2}\n",
    "\\end{align*}"
   ]
  }
 ],
 "metadata": {
  "kernelspec": {
   "display_name": "Python 3",
   "language": "python",
   "name": "python3"
  },
  "language_info": {
   "codemirror_mode": {
    "name": "ipython",
    "version": 3
   },
   "file_extension": ".py",
   "mimetype": "text/x-python",
   "name": "python",
   "nbconvert_exporter": "python",
   "pygments_lexer": "ipython3",
   "version": "3.7.6"
  }
 },
 "nbformat": 4,
 "nbformat_minor": 2
}
