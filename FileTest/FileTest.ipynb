{
 "cells": [
  {
   "cell_type": "code",
   "execution_count": 1,
   "metadata": {},
   "outputs": [
    {
     "data": {
      "text/plain": [
       "'D:\\\\00_Data\\\\Jupyter\\\\SSH\\\\FileTest'"
      ]
     },
     "execution_count": 1,
     "metadata": {},
     "output_type": "execute_result"
    }
   ],
   "source": [
    "import os\n",
    "import numpy as np\n",
    "os.getcwd()"
   ]
  },
  {
   "cell_type": "raw",
   "metadata": {},
   "source": [
    "for i in range(10):\n",
    "    try:\n",
    "        os.makedirs(str(i))\n",
    "    except:\n",
    "        pass\n",
    "    for j in range(10):\n",
    "        a = np.random.random((1,1))*1000\n",
    "        a = np.floor(a)\n",
    "        wfile = open(str(i) + '/'+ str(j) + str(int(a[0,0])) + '.txt', 'w')\n",
    "        wfile.write(str(j))\n",
    "        wfile.close()"
   ]
  },
  {
   "cell_type": "code",
   "execution_count": 2,
   "metadata": {},
   "outputs": [],
   "source": [
    "def dircheck(AF, p = '.'):\n",
    "    A = os.listdir(p)\n",
    "    for d in A:\n",
    "        try:\n",
    "            os.chdir(d)\n",
    "            AF = dircheck(AF, '.')\n",
    "            PF = os.listdir('.')\n",
    "            PF = [os.getcwd() + '/' + pf for pf in PF]\n",
    "            AF.extend(PF)\n",
    "            os.chdir('..')\n",
    "        except:\n",
    "            pass\n",
    "    return AF"
   ]
  },
  {
   "cell_type": "raw",
   "metadata": {},
   "source": [
    "AF = []\n",
    "\n",
    "A = os.listdir('.')\n",
    "for d in A:\n",
    "    try:\n",
    "        os.chdir(d)\n",
    "        AF.extend(os.listdir('.'))\n",
    "        os.chdir('..')\n",
    "    except:\n",
    "        pass\n",
    "print(AF)"
   ]
  },
  {
   "cell_type": "code",
   "execution_count": 3,
   "metadata": {},
   "outputs": [],
   "source": [
    "AF = []\n",
    "AF = dircheck(AF)"
   ]
  },
  {
   "cell_type": "code",
   "execution_count": 4,
   "metadata": {},
   "outputs": [
    {
     "data": {
      "text/plain": [
       "['D:\\\\00_Data\\\\Jupyter\\\\SSH\\\\FileTest\\\\.ipynb_checkpoints/FileTest-checkpoint.ipynb',\n",
       " 'D:\\\\00_Data\\\\Jupyter\\\\SSH\\\\FileTest\\\\0/0972.txt',\n",
       " 'D:\\\\00_Data\\\\Jupyter\\\\SSH\\\\FileTest\\\\0/154.txt',\n",
       " 'D:\\\\00_Data\\\\Jupyter\\\\SSH\\\\FileTest\\\\0/2929.txt',\n",
       " 'D:\\\\00_Data\\\\Jupyter\\\\SSH\\\\FileTest\\\\0/3607.txt',\n",
       " 'D:\\\\00_Data\\\\Jupyter\\\\SSH\\\\FileTest\\\\0/4745.txt',\n",
       " 'D:\\\\00_Data\\\\Jupyter\\\\SSH\\\\FileTest\\\\0/5260.txt',\n",
       " 'D:\\\\00_Data\\\\Jupyter\\\\SSH\\\\FileTest\\\\0/6526.txt',\n",
       " 'D:\\\\00_Data\\\\Jupyter\\\\SSH\\\\FileTest\\\\0/7913.txt',\n",
       " 'D:\\\\00_Data\\\\Jupyter\\\\SSH\\\\FileTest\\\\0/8723.txt',\n",
       " 'D:\\\\00_Data\\\\Jupyter\\\\SSH\\\\FileTest\\\\0/9123.txt',\n",
       " 'D:\\\\00_Data\\\\Jupyter\\\\SSH\\\\FileTest\\\\1/0771.txt',\n",
       " 'D:\\\\00_Data\\\\Jupyter\\\\SSH\\\\FileTest\\\\1/1669.txt',\n",
       " 'D:\\\\00_Data\\\\Jupyter\\\\SSH\\\\FileTest\\\\1/2180.txt',\n",
       " 'D:\\\\00_Data\\\\Jupyter\\\\SSH\\\\FileTest\\\\1/3931.txt',\n",
       " 'D:\\\\00_Data\\\\Jupyter\\\\SSH\\\\FileTest\\\\1/4729.txt',\n",
       " 'D:\\\\00_Data\\\\Jupyter\\\\SSH\\\\FileTest\\\\1/5202.txt',\n",
       " 'D:\\\\00_Data\\\\Jupyter\\\\SSH\\\\FileTest\\\\1/6705.txt',\n",
       " 'D:\\\\00_Data\\\\Jupyter\\\\SSH\\\\FileTest\\\\1/7802.txt',\n",
       " 'D:\\\\00_Data\\\\Jupyter\\\\SSH\\\\FileTest\\\\1/8474.txt',\n",
       " 'D:\\\\00_Data\\\\Jupyter\\\\SSH\\\\FileTest\\\\1/9163.txt',\n",
       " 'D:\\\\00_Data\\\\Jupyter\\\\SSH\\\\FileTest\\\\2/0288.txt',\n",
       " 'D:\\\\00_Data\\\\Jupyter\\\\SSH\\\\FileTest\\\\2/1982.txt',\n",
       " 'D:\\\\00_Data\\\\Jupyter\\\\SSH\\\\FileTest\\\\2/2400.txt',\n",
       " 'D:\\\\00_Data\\\\Jupyter\\\\SSH\\\\FileTest\\\\2/3284.txt',\n",
       " 'D:\\\\00_Data\\\\Jupyter\\\\SSH\\\\FileTest\\\\2/4144.txt',\n",
       " 'D:\\\\00_Data\\\\Jupyter\\\\SSH\\\\FileTest\\\\2/5832.txt',\n",
       " 'D:\\\\00_Data\\\\Jupyter\\\\SSH\\\\FileTest\\\\2/654.txt',\n",
       " 'D:\\\\00_Data\\\\Jupyter\\\\SSH\\\\FileTest\\\\2/7274.txt',\n",
       " 'D:\\\\00_Data\\\\Jupyter\\\\SSH\\\\FileTest\\\\2/8561.txt',\n",
       " 'D:\\\\00_Data\\\\Jupyter\\\\SSH\\\\FileTest\\\\2/9606.txt',\n",
       " 'D:\\\\00_Data\\\\Jupyter\\\\SSH\\\\FileTest\\\\3/046.txt',\n",
       " 'D:\\\\00_Data\\\\Jupyter\\\\SSH\\\\FileTest\\\\3/1240.txt',\n",
       " 'D:\\\\00_Data\\\\Jupyter\\\\SSH\\\\FileTest\\\\3/2686.txt',\n",
       " 'D:\\\\00_Data\\\\Jupyter\\\\SSH\\\\FileTest\\\\3/3221.txt',\n",
       " 'D:\\\\00_Data\\\\Jupyter\\\\SSH\\\\FileTest\\\\3/4889.txt',\n",
       " 'D:\\\\00_Data\\\\Jupyter\\\\SSH\\\\FileTest\\\\3/5220.txt',\n",
       " 'D:\\\\00_Data\\\\Jupyter\\\\SSH\\\\FileTest\\\\3/6699.txt',\n",
       " 'D:\\\\00_Data\\\\Jupyter\\\\SSH\\\\FileTest\\\\3/7162.txt',\n",
       " 'D:\\\\00_Data\\\\Jupyter\\\\SSH\\\\FileTest\\\\3/8358.txt',\n",
       " 'D:\\\\00_Data\\\\Jupyter\\\\SSH\\\\FileTest\\\\3/9579.txt',\n",
       " 'D:\\\\00_Data\\\\Jupyter\\\\SSH\\\\FileTest\\\\4\\\\7/0885.txt',\n",
       " 'D:\\\\00_Data\\\\Jupyter\\\\SSH\\\\FileTest\\\\4\\\\7/1536.txt',\n",
       " 'D:\\\\00_Data\\\\Jupyter\\\\SSH\\\\FileTest\\\\4\\\\7/2680.txt',\n",
       " 'D:\\\\00_Data\\\\Jupyter\\\\SSH\\\\FileTest\\\\4\\\\7/3986.txt',\n",
       " 'D:\\\\00_Data\\\\Jupyter\\\\SSH\\\\FileTest\\\\4\\\\7/4841.txt',\n",
       " 'D:\\\\00_Data\\\\Jupyter\\\\SSH\\\\FileTest\\\\4\\\\7/562.txt',\n",
       " 'D:\\\\00_Data\\\\Jupyter\\\\SSH\\\\FileTest\\\\4\\\\7/6298.txt',\n",
       " 'D:\\\\00_Data\\\\Jupyter\\\\SSH\\\\FileTest\\\\4\\\\7/7513.txt',\n",
       " 'D:\\\\00_Data\\\\Jupyter\\\\SSH\\\\FileTest\\\\4\\\\7/8254.txt',\n",
       " 'D:\\\\00_Data\\\\Jupyter\\\\SSH\\\\FileTest\\\\4\\\\7/9832.txt',\n",
       " 'D:\\\\00_Data\\\\Jupyter\\\\SSH\\\\FileTest\\\\4\\\\8/0621.txt',\n",
       " 'D:\\\\00_Data\\\\Jupyter\\\\SSH\\\\FileTest\\\\4\\\\8/1450.txt',\n",
       " 'D:\\\\00_Data\\\\Jupyter\\\\SSH\\\\FileTest\\\\4\\\\8/250.txt',\n",
       " 'D:\\\\00_Data\\\\Jupyter\\\\SSH\\\\FileTest\\\\4\\\\8/399.txt',\n",
       " 'D:\\\\00_Data\\\\Jupyter\\\\SSH\\\\FileTest\\\\4\\\\8/4714.txt',\n",
       " 'D:\\\\00_Data\\\\Jupyter\\\\SSH\\\\FileTest\\\\4\\\\8/5185.txt',\n",
       " 'D:\\\\00_Data\\\\Jupyter\\\\SSH\\\\FileTest\\\\4\\\\8/6748.txt',\n",
       " 'D:\\\\00_Data\\\\Jupyter\\\\SSH\\\\FileTest\\\\4\\\\8/7926.txt',\n",
       " 'D:\\\\00_Data\\\\Jupyter\\\\SSH\\\\FileTest\\\\4\\\\8/8611.txt',\n",
       " 'D:\\\\00_Data\\\\Jupyter\\\\SSH\\\\FileTest\\\\4\\\\8/9507.txt',\n",
       " 'D:\\\\00_Data\\\\Jupyter\\\\SSH\\\\FileTest\\\\4\\\\9/0314.txt',\n",
       " 'D:\\\\00_Data\\\\Jupyter\\\\SSH\\\\FileTest\\\\4\\\\9/1837.txt',\n",
       " 'D:\\\\00_Data\\\\Jupyter\\\\SSH\\\\FileTest\\\\4\\\\9/2963.txt',\n",
       " 'D:\\\\00_Data\\\\Jupyter\\\\SSH\\\\FileTest\\\\4\\\\9/3406.txt',\n",
       " 'D:\\\\00_Data\\\\Jupyter\\\\SSH\\\\FileTest\\\\4\\\\9/4416.txt',\n",
       " 'D:\\\\00_Data\\\\Jupyter\\\\SSH\\\\FileTest\\\\4\\\\9/5254.txt',\n",
       " 'D:\\\\00_Data\\\\Jupyter\\\\SSH\\\\FileTest\\\\4\\\\9/6912.txt',\n",
       " 'D:\\\\00_Data\\\\Jupyter\\\\SSH\\\\FileTest\\\\4\\\\9/7903.txt',\n",
       " 'D:\\\\00_Data\\\\Jupyter\\\\SSH\\\\FileTest\\\\4\\\\9/8215.txt',\n",
       " 'D:\\\\00_Data\\\\Jupyter\\\\SSH\\\\FileTest\\\\4\\\\9/9610.txt',\n",
       " 'D:\\\\00_Data\\\\Jupyter\\\\SSH\\\\FileTest\\\\4/079.txt',\n",
       " 'D:\\\\00_Data\\\\Jupyter\\\\SSH\\\\FileTest\\\\4/1993.txt',\n",
       " 'D:\\\\00_Data\\\\Jupyter\\\\SSH\\\\FileTest\\\\4/247.txt',\n",
       " 'D:\\\\00_Data\\\\Jupyter\\\\SSH\\\\FileTest\\\\4/324.txt',\n",
       " 'D:\\\\00_Data\\\\Jupyter\\\\SSH\\\\FileTest\\\\4/4235.txt',\n",
       " 'D:\\\\00_Data\\\\Jupyter\\\\SSH\\\\FileTest\\\\4/511.txt',\n",
       " 'D:\\\\00_Data\\\\Jupyter\\\\SSH\\\\FileTest\\\\4/6446.txt',\n",
       " 'D:\\\\00_Data\\\\Jupyter\\\\SSH\\\\FileTest\\\\4/7',\n",
       " 'D:\\\\00_Data\\\\Jupyter\\\\SSH\\\\FileTest\\\\4/7347.txt',\n",
       " 'D:\\\\00_Data\\\\Jupyter\\\\SSH\\\\FileTest\\\\4/8',\n",
       " 'D:\\\\00_Data\\\\Jupyter\\\\SSH\\\\FileTest\\\\4/8505.txt',\n",
       " 'D:\\\\00_Data\\\\Jupyter\\\\SSH\\\\FileTest\\\\4/9',\n",
       " 'D:\\\\00_Data\\\\Jupyter\\\\SSH\\\\FileTest\\\\4/9464.txt',\n",
       " 'D:\\\\00_Data\\\\Jupyter\\\\SSH\\\\FileTest\\\\5/0474.txt',\n",
       " 'D:\\\\00_Data\\\\Jupyter\\\\SSH\\\\FileTest\\\\5/1608.txt',\n",
       " 'D:\\\\00_Data\\\\Jupyter\\\\SSH\\\\FileTest\\\\5/2540.txt',\n",
       " 'D:\\\\00_Data\\\\Jupyter\\\\SSH\\\\FileTest\\\\5/3969.txt',\n",
       " 'D:\\\\00_Data\\\\Jupyter\\\\SSH\\\\FileTest\\\\5/4809.txt',\n",
       " 'D:\\\\00_Data\\\\Jupyter\\\\SSH\\\\FileTest\\\\5/5287.txt',\n",
       " 'D:\\\\00_Data\\\\Jupyter\\\\SSH\\\\FileTest\\\\5/6824.txt',\n",
       " 'D:\\\\00_Data\\\\Jupyter\\\\SSH\\\\FileTest\\\\5/7174.txt',\n",
       " 'D:\\\\00_Data\\\\Jupyter\\\\SSH\\\\FileTest\\\\5/8187.txt',\n",
       " 'D:\\\\00_Data\\\\Jupyter\\\\SSH\\\\FileTest\\\\5/9495.txt',\n",
       " 'D:\\\\00_Data\\\\Jupyter\\\\SSH\\\\FileTest\\\\6/0355.txt',\n",
       " 'D:\\\\00_Data\\\\Jupyter\\\\SSH\\\\FileTest\\\\6/1995.txt',\n",
       " 'D:\\\\00_Data\\\\Jupyter\\\\SSH\\\\FileTest\\\\6/2208.txt',\n",
       " 'D:\\\\00_Data\\\\Jupyter\\\\SSH\\\\FileTest\\\\6/3485.txt',\n",
       " 'D:\\\\00_Data\\\\Jupyter\\\\SSH\\\\FileTest\\\\6/484.txt',\n",
       " 'D:\\\\00_Data\\\\Jupyter\\\\SSH\\\\FileTest\\\\6/5842.txt',\n",
       " 'D:\\\\00_Data\\\\Jupyter\\\\SSH\\\\FileTest\\\\6/6239.txt',\n",
       " 'D:\\\\00_Data\\\\Jupyter\\\\SSH\\\\FileTest\\\\6/7600.txt',\n",
       " 'D:\\\\00_Data\\\\Jupyter\\\\SSH\\\\FileTest\\\\6/8321.txt',\n",
       " 'D:\\\\00_Data\\\\Jupyter\\\\SSH\\\\FileTest\\\\6/9726.txt',\n",
       " 'D:\\\\00_Data\\\\Jupyter\\\\SSH\\\\FileTest\\\\7/0885.txt',\n",
       " 'D:\\\\00_Data\\\\Jupyter\\\\SSH\\\\FileTest\\\\7/1536.txt',\n",
       " 'D:\\\\00_Data\\\\Jupyter\\\\SSH\\\\FileTest\\\\7/2680.txt',\n",
       " 'D:\\\\00_Data\\\\Jupyter\\\\SSH\\\\FileTest\\\\7/3986.txt',\n",
       " 'D:\\\\00_Data\\\\Jupyter\\\\SSH\\\\FileTest\\\\7/4841.txt',\n",
       " 'D:\\\\00_Data\\\\Jupyter\\\\SSH\\\\FileTest\\\\7/562.txt',\n",
       " 'D:\\\\00_Data\\\\Jupyter\\\\SSH\\\\FileTest\\\\7/6298.txt',\n",
       " 'D:\\\\00_Data\\\\Jupyter\\\\SSH\\\\FileTest\\\\7/7513.txt',\n",
       " 'D:\\\\00_Data\\\\Jupyter\\\\SSH\\\\FileTest\\\\7/8254.txt',\n",
       " 'D:\\\\00_Data\\\\Jupyter\\\\SSH\\\\FileTest\\\\7/9832.txt',\n",
       " 'D:\\\\00_Data\\\\Jupyter\\\\SSH\\\\FileTest\\\\8/0621.txt',\n",
       " 'D:\\\\00_Data\\\\Jupyter\\\\SSH\\\\FileTest\\\\8/1450.txt',\n",
       " 'D:\\\\00_Data\\\\Jupyter\\\\SSH\\\\FileTest\\\\8/250.txt',\n",
       " 'D:\\\\00_Data\\\\Jupyter\\\\SSH\\\\FileTest\\\\8/399.txt',\n",
       " 'D:\\\\00_Data\\\\Jupyter\\\\SSH\\\\FileTest\\\\8/4714.txt',\n",
       " 'D:\\\\00_Data\\\\Jupyter\\\\SSH\\\\FileTest\\\\8/5185.txt',\n",
       " 'D:\\\\00_Data\\\\Jupyter\\\\SSH\\\\FileTest\\\\8/6748.txt',\n",
       " 'D:\\\\00_Data\\\\Jupyter\\\\SSH\\\\FileTest\\\\8/7926.txt',\n",
       " 'D:\\\\00_Data\\\\Jupyter\\\\SSH\\\\FileTest\\\\8/8611.txt',\n",
       " 'D:\\\\00_Data\\\\Jupyter\\\\SSH\\\\FileTest\\\\8/9507.txt',\n",
       " 'D:\\\\00_Data\\\\Jupyter\\\\SSH\\\\FileTest\\\\9/0314.txt',\n",
       " 'D:\\\\00_Data\\\\Jupyter\\\\SSH\\\\FileTest\\\\9/1837.txt',\n",
       " 'D:\\\\00_Data\\\\Jupyter\\\\SSH\\\\FileTest\\\\9/2963.txt',\n",
       " 'D:\\\\00_Data\\\\Jupyter\\\\SSH\\\\FileTest\\\\9/3406.txt',\n",
       " 'D:\\\\00_Data\\\\Jupyter\\\\SSH\\\\FileTest\\\\9/4416.txt',\n",
       " 'D:\\\\00_Data\\\\Jupyter\\\\SSH\\\\FileTest\\\\9/5254.txt',\n",
       " 'D:\\\\00_Data\\\\Jupyter\\\\SSH\\\\FileTest\\\\9/6912.txt',\n",
       " 'D:\\\\00_Data\\\\Jupyter\\\\SSH\\\\FileTest\\\\9/7903.txt',\n",
       " 'D:\\\\00_Data\\\\Jupyter\\\\SSH\\\\FileTest\\\\9/8215.txt',\n",
       " 'D:\\\\00_Data\\\\Jupyter\\\\SSH\\\\FileTest\\\\9/9610.txt']"
      ]
     },
     "execution_count": 4,
     "metadata": {},
     "output_type": "execute_result"
    }
   ],
   "source": [
    "AF"
   ]
  },
  {
   "cell_type": "code",
   "execution_count": 5,
   "metadata": {},
   "outputs": [
    {
     "data": {
      "text/plain": [
       "'D:\\\\00_Data\\\\Jupyter\\\\SSH'"
      ]
     },
     "execution_count": 5,
     "metadata": {},
     "output_type": "execute_result"
    }
   ],
   "source": [
    "os.chdir('..')\n",
    "os.getcwd()"
   ]
  }
 ],
 "metadata": {
  "kernelspec": {
   "display_name": "Python 3",
   "language": "python",
   "name": "python3"
  },
  "language_info": {
   "codemirror_mode": {
    "name": "ipython",
    "version": 3
   },
   "file_extension": ".py",
   "mimetype": "text/x-python",
   "name": "python",
   "nbconvert_exporter": "python",
   "pygments_lexer": "ipython3",
   "version": "3.7.7"
  }
 },
 "nbformat": 4,
 "nbformat_minor": 4
}
