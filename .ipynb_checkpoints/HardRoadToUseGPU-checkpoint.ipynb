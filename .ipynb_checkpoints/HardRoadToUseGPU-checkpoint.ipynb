{
 "cells": [
  {
   "cell_type": "markdown",
   "metadata": {
    "slideshow": {
     "slide_type": "slide"
    }
   },
   "source": [
    "# 힘들었던 Tensorflow-gpu 설치\n",
    "\n",
    "https://www.tensorflow.org/install/gpu <- 결국 여기에 다 있음"
   ]
  },
  {
   "cell_type": "markdown",
   "metadata": {
    "slideshow": {
     "slide_type": "subslide"
    }
   },
   "source": [
    "# tensorflow-gpu 설치 시 고려해야할 점\n",
    "\n",
    "- 일단 **CUDA 지원 NVIDIA의 그래픽 카드**를 보유한다\n",
    "![Nvidia GTX 1060](./Misc/gtx1060.jpg)"
   ]
  },
  {
   "cell_type": "markdown",
   "metadata": {
    "slideshow": {
     "slide_type": "subslide"
    }
   },
   "source": [
    "- 보통의 tensorflow와 **충돌가능**\n",
    "- 새로운 가상 환경을 만들어 관리\n",
    "    - anaconda 이용\n",
    "    - virtualenv 패키지"
   ]
  },
  {
   "cell_type": "markdown",
   "metadata": {
    "slideshow": {
     "slide_type": "slide"
    }
   },
   "source": [
    "## Anaconda 이용 설치법\n",
    "#### https://medium.com/@devfallingstar/tensorflow-gpu-cuda-cudnn-%EC%9D%B4-%EB%AA%A8%EB%93%A0-%EA%B2%83%EC%9D%B4-%EB%82%B4-%EC%9D%B8%EC%84%B1%EC%9D%84-%EB%A7%9D%EC%B3%A4%EB%8B%A4-42c5f14bc33c\n",
    "\n",
    "- anaconda를 설치한다\n",
    "- anaconda prompt를 실행한다\n",
    "- `conda create --name tf_gpu tensorflow-gpu`를 친다"
   ]
  },
  {
   "cell_type": "markdown",
   "metadata": {
    "slideshow": {
     "slide_type": "subslide"
    }
   },
   "source": [
    "## tf_gpu 환경을 Jupyter notebook에 추가\n",
    "\n",
    "- anaconda prompt를 실행\n",
    "- `conda activate tf_gpu` 입력\n",
    "- `pip install ipykernel` 입력\n",
    "- `python -m ipykernel install --user --name tf_gpu --display-name tf_gpu` 입력\n",
    "- **tf_gpu**환경이 활성화된 상태에서 jupyter notebook을 실행하여 **tensorflow-gpu** 사용"
   ]
  },
  {
   "cell_type": "markdown",
   "metadata": {
    "slideshow": {
     "slide_type": "subslide"
    }
   },
   "source": [
    "## 장점\n",
    "\n",
    "- 설치가 아주 간편\n",
    "- 기본적인 패키지가 자동으로 설치됨\n",
    "- CUDA 패키지, cuDNN 패키지 설치 및 경로 설정에 대해 머리를 싸맬 필요가 없음\n",
    "\n",
    "## 단점\n",
    "\n",
    "- 반드시 conda 환경에서 실행되어야 함\n",
    "- 서버화의 어려움이 있음"
   ]
  },
  {
   "cell_type": "markdown",
   "metadata": {
    "slideshow": {
     "slide_type": "slide"
    }
   },
   "source": [
    "## virtualenv를 이용한 설치법\n",
    "\n",
    "1. 가상환경 구축\n",
    "    - `pip install virtualenv`\n",
    "    - `virtualenv [환경명]`으로 환경생성\n",
    "    - 이 명령을 실행한 폴더를 기준으로 `환경명` 하위폴더가 생성됨\n",
    "    - 윈10 기준으로 `환경명\\scripts\\activate`라는 명령어로 환경활성화\n",
    "    - `deactivate`라는 명령어로 환경비활성화\n",
    "    - `pip install ipykernel` 입력\n",
    "    - `python -m ipykernel install --user --name [환경명] --display-name [환경명]` 입력으로 jupyter notebook에 새로운 환경 등록"
   ]
  },
  {
   "cell_type": "markdown",
   "metadata": {
    "slideshow": {
     "slide_type": "subslide"
    }
   },
   "source": [
    "2. tensorflow-gpu 설치\n",
    "    - 가상환경이 활성화된 상태에서 `pip install tensorflow-gpu` 입력\n",
    "    - tensorflow가 필요로 하는 하위 패키지가 자동으로 설치됨"
   ]
  },
  {
   "cell_type": "markdown",
   "metadata": {
    "slideshow": {
     "slide_type": "subslide"
    }
   },
   "source": [
    "3. CUDA 및 cuDNN 설치 (윈도우 기준)\n",
    "    - 최신 nvidia 그래픽 카드 드라이버 설치\n",
    "    - CUDA 툴킷 **10.0** 설치 (현재 10.1까지 릴리즈)\n",
    "    - cuDNN SDK 다운로드하여 (기왕이면) `c:\\tools` 폴더에 압축해제"
   ]
  },
  {
   "cell_type": "markdown",
   "metadata": {
    "slideshow": {
     "slide_type": "subslide"
    }
   },
   "source": [
    "4. CUDA 및 cuDNN 경로설정 (윈도우 기준)\n",
    "    - cmd를 실행시킨 후 아래의 코드를 입력하거나 시스템 환경변수에서 해당 폴더들을 등록\n",
    "\n",
    "```\n",
    "SET PATH=C:\\Program Files\\NVIDIA GPU Computing Toolkit\\CUDA\\v10.0\\bin;%PATH%\n",
    "SET PATH=C:\\Program Files\\NVIDIA GPU Computing Toolkit\\CUDA\\v10.0\n",
    "\\extras\\CUPTI\\libx64;%PATH%\n",
    "SET PATH=C:\\Program Files\\NVIDIA GPU Computing Toolkit\\CUDA\\v10.0\n",
    "\\include;%PATH%\n",
    "SET PATH=C:\\tools\\cuda\\bin;%PATH%\n",
    "```"
   ]
  }
 ],
 "metadata": {
  "celltoolbar": "Slideshow",
  "kernelspec": {
   "display_name": "Python 3",
   "language": "python",
   "name": "python3"
  },
  "language_info": {
   "codemirror_mode": {
    "name": "ipython",
    "version": 3
   },
   "file_extension": ".py",
   "mimetype": "text/x-python",
   "name": "python",
   "nbconvert_exporter": "python",
   "pygments_lexer": "ipython3",
   "version": "3.7.1"
  }
 },
 "nbformat": 4,
 "nbformat_minor": 2
}
