{
 "cells": [
  {
   "cell_type": "code",
   "execution_count": 1,
   "metadata": {},
   "outputs": [],
   "source": [
    "import os\n",
    "import numpy as np\n",
    "import scipy as sp\n",
    "from matplotlib import pyplot as plt\n",
    "import cv2"
   ]
  },
  {
   "cell_type": "code",
   "execution_count": 2,
   "metadata": {},
   "outputs": [],
   "source": [
    "rpm = 333.333333333333 # rpm\n",
    "width = 2000 # mm\n",
    "speed = 5000 # mm/min\n",
    "BiskRadius = 130\n",
    "SiskRadius = 1.5\n",
    "\n",
    "zoom = 10"
   ]
  },
  {
   "cell_type": "code",
   "execution_count": 3,
   "metadata": {},
   "outputs": [],
   "source": [
    "rps = rpm / 60\n",
    "rpf = rps / 60\n",
    "speedps = speed / 60\n",
    "speedpf = speedps / 60"
   ]
  },
  {
   "cell_type": "code",
   "execution_count": 4,
   "metadata": {},
   "outputs": [
    {
     "data": {
      "text/plain": [
       "((136,), (136,))"
      ]
     },
     "execution_count": 4,
     "metadata": {},
     "output_type": "execute_result"
    }
   ],
   "source": [
    "A = np.arange(0, 4*np.pi, rpf) - np.pi/2\n",
    "B = np.linspace(0, 4*speedpf, len(A))\n",
    "\n",
    "A.shape, B.shape"
   ]
  },
  {
   "cell_type": "code",
   "execution_count": 5,
   "metadata": {},
   "outputs": [
    {
     "data": {
      "text/plain": [
       "[<matplotlib.lines.Line2D at 0x1f7e27fdac8>]"
      ]
     },
     "execution_count": 5,
     "metadata": {},
     "output_type": "execute_result"
    },
    {
     "data": {
      "image/png": "[encoded data removed]",
      "text/plain": [
       "<Figure size 432x288 with 1 Axes>"
      ]
     },
     "metadata": {
      "needs_background": "light"
     },
     "output_type": "display_data"
    }
   ],
   "source": [
    "plt.plot(np.cos(A)+B, -np.sin(A))"
   ]
  },
  {
   "cell_type": "raw",
   "metadata": {},
   "source": [
    "pts = np.array([[10,5], [20,30], [70,20], [50,10]], np.int32)\n",
    "img = cv2.polylines(img, [pts], False, 255, 5)"
   ]
  },
  {
   "cell_type": "raw",
   "metadata": {},
   "source": [
    "img = cv2.line(img, (50, 50), (449, 449), 255, 5)"
   ]
  },
  {
   "cell_type": "code",
   "execution_count": 6,
   "metadata": {},
   "outputs": [],
   "source": [
    "theta = - np.pi / 2\n",
    "cx, cy = 150, 250"
   ]
  },
  {
   "cell_type": "code",
   "execution_count": 7,
   "metadata": {},
   "outputs": [],
   "source": [
    "img = np.zeros(np.array([500, 2500]) * zoom, np.uint8)"
   ]
  },
  {
   "cell_type": "code",
   "execution_count": 8,
   "metadata": {},
   "outputs": [
    {
     "name": "stdout",
     "output_type": "stream",
     "text": [
      "0499\r"
     ]
    }
   ],
   "source": [
    "os.makedirs('frames', exist_ok = True)\n",
    "divs = 600\n",
    "\n",
    "for i in range(500):\n",
    "    print('{:04d}'.format(i), end = '\\r')\n",
    "    theta1 = theta + 2*np.pi*rpf\n",
    "    thetas = np.linspace(theta, theta1, divs+1)\n",
    "    \n",
    "    cx1 = cx + speedpf\n",
    "    cxs = np.linspace(cx, cx1, divs+1)\n",
    "    \n",
    "    cy1 = cy\n",
    "    for j in range(10):\n",
    "        xs = (BiskRadius * np.cos(thetas + 2*j*np.pi/10) + cxs).reshape((-1, 1))\n",
    "        ys = (BiskRadius * np.sin(thetas + 2*j*np.pi/10) + cy).reshape((-1, 1))\n",
    "        pts = np.concatenate((xs, ys), axis = 1)\n",
    "        # pts = pts.reshape((-1, 1, 2))\n",
    "        img = cv2.polylines(img, np.int32([pts * zoom]), False, 255, int(SiskRadius * zoom))\n",
    "    cv2.imwrite('frames/{:04d}.png'.format(i), img)\n",
    "    cx, cy, theta = cx1, cy1, theta1"
   ]
  },
  {
   "cell_type": "raw",
   "metadata": {},
   "source": [
    "os.makedirs('frames', exist_ok = True)\n",
    "for i in range(500):\n",
    "    print('{:04d}'.format(i), end = '\\r')\n",
    "    theta1 = theta + 2*np.pi*rpf\n",
    "    cx1 = cx + speedpf\n",
    "    cy1 = cy\n",
    "    for j in range(10):\n",
    "        xy = np.array([BiskRadius * np.cos(theta + 2*j*np.pi/10) + cx, BiskRadius * np.sin(theta + 2*j*np.pi/10) + cy])\n",
    "        xy1 = np.array([BiskRadius * np.cos(theta1 + 2*j*np.pi/10) + cx1, BiskRadius * np.sin(theta1 + 2*j*np.pi/10) + cy1])\n",
    "        img = cv2.line(img, tuple((xy * zoom).astype(np.uint32)), tuple((xy1 * zoom).astype(np.uint32)), 255, int(SiskRadius * zoom))\n",
    "    cv2.imwrite('frames/{:04d}.png'.format(i), img)\n",
    "    cx, cy, theta = cx1, cy1, theta1"
   ]
  },
  {
   "cell_type": "code",
   "execution_count": null,
   "metadata": {},
   "outputs": [],
   "source": []
  }
 ],
 "metadata": {
  "kernelspec": {
   "display_name": "Python 3",
   "language": "python",
   "name": "python3"
  },
  "language_info": {
   "codemirror_mode": {
    "name": "ipython",
    "version": 3
   },
   "file_extension": ".py",
   "mimetype": "text/x-python",
   "name": "python",
   "nbconvert_exporter": "python",
   "pygments_lexer": "ipython3",
   "version": "3.7.7"
  }
 },
 "nbformat": 4,
 "nbformat_minor": 4
}
