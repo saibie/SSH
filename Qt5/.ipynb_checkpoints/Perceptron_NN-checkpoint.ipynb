{
 "cells": [
  {
   "cell_type": "code",
   "execution_count": 1,
   "metadata": {},
   "outputs": [],
   "source": [
    "import numpy as np\n",
    "from matplotlib import pyplot as plt\n",
    "from ipywidgets import interact, interactive, fixed, interact_manual\n",
    "import ipywidgets as widgets"
   ]
  },
  {
   "cell_type": "code",
   "execution_count": 2,
   "metadata": {},
   "outputs": [],
   "source": [
    "%matplotlib inline"
   ]
  },
  {
   "cell_type": "code",
   "execution_count": 30,
   "metadata": {},
   "outputs": [],
   "source": [
    "def sigmoid(x):\n",
    "#     return 1/(1 + np.exp(-x))\n",
    "    x[x < 0] = 0\n",
    "    x[x > 0] = 1\n",
    "    return x"
   ]
  },
  {
   "cell_type": "code",
   "execution_count": 35,
   "metadata": {},
   "outputs": [],
   "source": [
    "yy = (np.random.random(3)-.5)*8\n",
    "def f(a1, a2, b1, b2, c1, c2, d1, d2):\n",
    "    x = np.arange(-10, 10, .01)\n",
    "    y1 = a1*sigmoid(a2*x+b2)+b1\n",
    "    y2 = c1*sigmoid(c2*x+d2)+d1\n",
    "    plt.plot(x, y1+y2)\n",
    "    plt.plot([-7.5, 0, 7.5], yy, 'o')\n",
    "    plt.ylim(-5, 5)"
   ]
  },
  {
   "cell_type": "code",
   "execution_count": 37,
   "metadata": {},
   "outputs": [
    {
     "data": {
      "application/vnd.jupyter.widget-view+json": {
       "model_id": "69e36d10422a4c4b9d3006645b5bc6aa",
       "version_major": 2,
       "version_minor": 0
      },
      "text/plain": [
       "interactive(children=(FloatSlider(value=0.0, description='a1', max=6.0, min=-6.0, step=0.01), FloatSlider(valu…"
      ]
     },
     "metadata": {},
     "output_type": "display_data"
    },
    {
     "data": {
      "text/plain": [
       "<function __main__.f(a1, a2, b1, b2, c1, c2, d1, d2)>"
      ]
     },
     "execution_count": 37,
     "metadata": {},
     "output_type": "execute_result"
    }
   ],
   "source": [
    "interact(f, a1 = (-6, 6, .01), b1 = (-6, 6, .01), c1 = (-6, 6, .01), d1 = (-6, 6, .01), a2 = (-6, 6, .01), b2 = (-6, 6, .01), c2 = (-6, 6, .01), d2 = (-6, 6, .01))"
   ]
  },
  {
   "cell_type": "code",
   "execution_count": 29,
   "metadata": {},
   "outputs": [
    {
     "data": {
      "text/plain": [
       "[<matplotlib.lines.Line2D at 0x1f722855898>]"
      ]
     },
     "execution_count": 29,
     "metadata": {},
     "output_type": "execute_result"
    },
    {
     "data": {
      "image/png": "[encoded data removed]",
      "text/plain": [
       "<Figure size 432x288 with 1 Axes>"
      ]
     },
     "metadata": {
      "needs_background": "light"
     },
     "output_type": "display_data"
    }
   ],
   "source": [
    "x = np.arange(-10, 10, .01)\n",
    "x[x < 0] = 0\n",
    "x[x > 0] = 1\n",
    "plt.plot(x)"
   ]
  }
 ],
 "metadata": {
  "kernelspec": {
   "display_name": "Python 3",
   "language": "python",
   "name": "python3"
  },
  "language_info": {
   "codemirror_mode": {
    "name": "ipython",
    "version": 3
   },
   "file_extension": ".py",
   "mimetype": "text/x-python",
   "name": "python",
   "nbconvert_exporter": "python",
   "pygments_lexer": "ipython3",
   "version": "3.7.1"
  }
 },
 "nbformat": 4,
 "nbformat_minor": 4
}
