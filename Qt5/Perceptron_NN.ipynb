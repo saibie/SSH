{
 "cells": [
  {
   "cell_type": "code",
   "execution_count": 1,
   "metadata": {},
   "outputs": [],
   "source": [
    "import numpy as np\n",
    "from matplotlib import pyplot as plt\n",
    "from ipywidgets import interact, interactive, fixed, interact_manual\n",
    "import ipywidgets as widgets"
   ]
  },
  {
   "cell_type": "code",
   "execution_count": 2,
   "metadata": {},
   "outputs": [],
   "source": [
    "%matplotlib inline"
   ]
  },
  {
   "cell_type": "code",
   "execution_count": 3,
   "metadata": {},
   "outputs": [
    {
     "data": {
      "application/vnd.jupyter.widget-view+json": {
       "model_id": "f34b14d4f1424659898f7512fd035287",
       "version_major": 2,
       "version_minor": 0
      },
      "text/plain": [
       "interactive(children=(Checkbox(value=False, description='estimating'), Output()), _dom_classes=('widget-intera…"
      ]
     },
     "metadata": {},
     "output_type": "display_data"
    },
    {
     "data": {
      "text/plain": [
       "<function __main__.tmp1(estimating=False)>"
      ]
     },
     "execution_count": 3,
     "metadata": {},
     "output_type": "execute_result"
    }
   ],
   "source": [
    "x = np.arange(-6, 6, .01)\n",
    "err = (np.random.random(x.shape) - .5) * .1\n",
    "\n",
    "def tmp1(estimating = False):\n",
    "    fig = plt.figure(figsize = (15, 5))\n",
    "    ax = fig.add_subplot(1, 1, 1)\n",
    "    ax.plot(x, np.sin(x) + err, '.k')\n",
    "    if estimating:\n",
    "        ax.plot(x, np.sin(x), '-r', linewidth = 3)\n",
    "        \n",
    "interact(tmp1, estimating = False)"
   ]
  },
  {
   "cell_type": "code",
   "execution_count": 4,
   "metadata": {},
   "outputs": [
    {
     "data": {
      "application/vnd.jupyter.widget-view+json": {
       "model_id": "9698145036b04ec38bb933efcbc1bf24",
       "version_major": 2,
       "version_minor": 0
      },
      "text/plain": [
       "interactive(children=(FloatSlider(value=2.0, description='pr', max=2.0, step=0.01), Checkbox(value=False, desc…"
      ]
     },
     "metadata": {},
     "output_type": "display_data"
    },
    {
     "data": {
      "text/plain": [
       "<function __main__.tmp(pr=2, red=False)>"
      ]
     },
     "execution_count": 4,
     "metadata": {},
     "output_type": "execute_result"
    }
   ],
   "source": [
    "x = np.arange(-6, 6, .01)\n",
    "err = (np.random.random(x.shape) - .5)\n",
    "def tmp(pr = 2, red = False):\n",
    "    fig = plt.figure(figsize = (10, 5))\n",
    "    ax = fig.add_subplot(1, 1, 1)\n",
    "    ax.plot(x, np.sin(5*x)/5 + (x-2)*(x-1)*(x+3)*(x-3)*(x+4)/2000 + err * pr, '.')\n",
    "    if red:\n",
    "        # ax.set_title('Loss : {}'.format((((np.sin(5*x)/5 + (x-2)*(x-1)*(x+3)*(x-3)*(x+4)/2000 + err * pr) - ((x+1)**3 /150 - .2))**2).sum() / x.shape[0]))\n",
    "        ax.plot(x, (x+1)**3 /150 - .2, '-r', linewidth = 3)\n",
    "        \n",
    "interact(tmp, pr = (0, 2, .01), red = False)"
   ]
  },
  {
   "cell_type": "code",
   "execution_count": 5,
   "metadata": {},
   "outputs": [
    {
     "data": {
      "text/plain": [
       "[<matplotlib.lines.Line2D at 0x21659c9a1d0>]"
      ]
     },
     "execution_count": 5,
     "metadata": {},
     "output_type": "execute_result"
    },
    {
     "data": {
      "image/png": "[encoded data removed]",
      "text/plain": [
       "<Figure size 432x288 with 1 Axes>"
      ]
     },
     "metadata": {
      "needs_background": "light"
     },
     "output_type": "display_data"
    }
   ],
   "source": [
    "def f(x):\n",
    "    x[x < 0] = 0\n",
    "    x[x > 0] = 1\n",
    "    return x # step function\n",
    "\n",
    "def g(x):\n",
    "    return 1/(1 + np.exp(-x)) # sigmoid\n",
    "# f test\n",
    "plt.plot(np.arange(-10, 10, .01), f(np.arange(-10, 10, .01)))"
   ]
  },
  {
   "cell_type": "code",
   "execution_count": 6,
   "metadata": {},
   "outputs": [
    {
     "data": {
      "application/vnd.jupyter.widget-view+json": {
       "model_id": "e7f85fdb58864111aa8f32e9e741b3b4",
       "version_major": 2,
       "version_minor": 0
      },
      "text/plain": [
       "interactive(children=(FloatSlider(value=0.0, description='a1', max=6.0, min=-6.0, step=0.01), FloatSlider(valu…"
      ]
     },
     "metadata": {},
     "output_type": "display_data"
    },
    {
     "data": {
      "text/plain": [
       "<function __main__.p1(a1, a2, b1, b2, c1, c2, d1, d2)>"
      ]
     },
     "execution_count": 6,
     "metadata": {},
     "output_type": "execute_result"
    }
   ],
   "source": [
    "yy = (np.random.random(3)-.5)*8\n",
    "def p1(a1, a2, b1, b2, c1, c2, d1, d2):\n",
    "    x = np.arange(-10, 10, .01)\n",
    "    y1 = a1*f(a2*x+b2)+b1\n",
    "    y2 = c1*f(c2*x+d2)+d1\n",
    "    plt.plot(x, y1+y2)\n",
    "    xx = np.array([-7.5, 0, 7.5])\n",
    "    plt.plot([-7.5, 0, 7.5], yy, 'o')\n",
    "    loss = ((yy - (a1*f(a2*xx+b2)+b1) - (c1*f(c2*xx+d2)+d1))**2).sum() / 3\n",
    "    plt.title('Loss = {}'.format(loss))\n",
    "    plt.ylim(-5, 5)\n",
    "\n",
    "interact(p1, a1 = (-6, 6, .01), b1 = (-6, 6, .01), c1 = (-6, 6, .01), d1 = (-6, 6, .01), a2 = (-6, 6, .01), b2 = (-6, 6, .01), c2 = (-6, 6, .01), d2 = (-6, 6, .01))"
   ]
  },
  {
   "cell_type": "markdown",
   "metadata": {},
   "source": [
    "### Loss function\n",
    "$$L = \\frac{1}{N}\\sum_{i}^{N} \\left(\\hat{y_{i}} - y_{i}\\right)^{2} \\\\\n",
    "= \\frac{1}{N}\\sum_{i}^{N} \\left[\\hat{y_{i}} - \\left(a_{1} f(a_{2}x_{i} + b_{2}) + b_{1} + c_{1} f(c_{2}x_{i} + d_{2}) + d_{1}\\right)\\right]^{2} $$"
   ]
  },
  {
   "cell_type": "code",
   "execution_count": 7,
   "metadata": {},
   "outputs": [
    {
     "data": {
      "application/vnd.jupyter.widget-view+json": {
       "model_id": "dcf6fb77ab5e459fa07b99367578ad2f",
       "version_major": 2,
       "version_minor": 0
      },
      "text/plain": [
       "interactive(children=(FloatSlider(value=0.0, description='a1', max=6.0, min=-6.0, step=0.01), FloatSlider(valu…"
      ]
     },
     "metadata": {},
     "output_type": "display_data"
    },
    {
     "data": {
      "text/plain": [
       "<function __main__.p2(a1, a2, b1, b2, c1, c2, d1, d2)>"
      ]
     },
     "execution_count": 7,
     "metadata": {},
     "output_type": "execute_result"
    }
   ],
   "source": [
    "zz = (np.random.random(36)-.5)\n",
    "zz[:12] += yy[0]\n",
    "zz[12:24] += yy[1]\n",
    "zz[24:36] += yy[2]\n",
    "\n",
    "def p2(a1, a2, b1, b2, c1, c2, d1, d2):\n",
    "    x = np.arange(-10, 10, .01)\n",
    "    y1 = a1*f(a2*x+b2)+b1\n",
    "    y2 = c1*f(c2*x+d2)+d1\n",
    "    plt.plot(x, y1+y2)\n",
    "    xx = np.arange(-9, 9, .5)\n",
    "    plt.plot(xx, zz, 'o')\n",
    "    loss = ((zz - (a1*f(a2*xx+b2)+b1) - (c1*f(c2*xx+d2)+d1))**2).sum() / 36\n",
    "    plt.title('Loss = {}'.format(loss))\n",
    "    plt.ylim(-5, 5)\n",
    "\n",
    "interact(p2, a1 = (-6, 6, .01), b1 = (-6, 6, .01), c1 = (-6, 6, .01), d1 = (-6, 6, .01), a2 = (-6, 6, .01), b2 = (-6, 6, .01), c2 = (-6, 6, .01), d2 = (-6, 6, .01))"
   ]
  },
  {
   "cell_type": "code",
   "execution_count": 8,
   "metadata": {},
   "outputs": [
    {
     "data": {
      "application/vnd.jupyter.widget-view+json": {
       "model_id": "9ecd6e4cde774c9a8d647f0d79ff83f4",
       "version_major": 2,
       "version_minor": 0
      },
      "text/plain": [
       "interactive(children=(FloatSlider(value=0.0, description='a1', max=6.0, min=-6.0, step=0.01), FloatSlider(valu…"
      ]
     },
     "metadata": {},
     "output_type": "display_data"
    },
    {
     "data": {
      "text/plain": [
       "<function __main__.p2(a1, a2, b1, b2, c1, c2, d1, d2)>"
      ]
     },
     "execution_count": 8,
     "metadata": {},
     "output_type": "execute_result"
    }
   ],
   "source": [
    "zz = (np.random.random(36)-.5)\n",
    "zz[:12] += yy[0]\n",
    "zz[12:24] += yy[1]\n",
    "zz[24:36] += yy[2]\n",
    "\n",
    "def p2(a1, a2, b1, b2, c1, c2, d1, d2):\n",
    "    x = np.arange(-10, 10, .01)\n",
    "    y1 = a1*g(a2*x+b2)+b1\n",
    "    y2 = c1*g(c2*x+d2)+d1\n",
    "    plt.plot(x, y1+y2)\n",
    "    xx = np.arange(-9, 9, .5)\n",
    "    plt.plot(xx, zz, 'o')\n",
    "    loss = ((zz - (a1*g(a2*xx+b2)+b1) - (c1*g(c2*xx+d2)+d1))**2).sum() / 36\n",
    "    plt.title('Loss = {}'.format(loss))\n",
    "    plt.ylim(-5, 5)\n",
    "\n",
    "interact(p2, a1 = (-6, 6, .01), b1 = (-6, 6, .01), c1 = (-6, 6, .01), d1 = (-6, 6, .01), a2 = (-6, 6, .01), b2 = (-30, 30, .01), c2 = (-6, 6, .01), d2 = (-30, 30, .01))"
   ]
  },
  {
   "cell_type": "markdown",
   "metadata": {},
   "source": [
    "### 위를 네트워크로 표현\n",
    "![''](5833a648-6709-4a63-818f-e55a33e6d919.png)"
   ]
  },
  {
   "cell_type": "code",
   "execution_count": 9,
   "metadata": {},
   "outputs": [
    {
     "data": {
      "application/vnd.jupyter.widget-view+json": {
       "model_id": "8edeca370d0042edb361fc763e998746",
       "version_major": 2,
       "version_minor": 0
      },
      "text/plain": [
       "interactive(children=(FloatSlider(value=0.0, description='a1', max=6.0, min=-6.0, step=0.01), FloatSlider(valu…"
      ]
     },
     "metadata": {},
     "output_type": "display_data"
    },
    {
     "data": {
      "text/plain": [
       "<function __main__.p2(a1, a2, b1, b2, c1, c2, d1, d2)>"
      ]
     },
     "execution_count": 9,
     "metadata": {},
     "output_type": "execute_result"
    }
   ],
   "source": [
    "zz = np.random.random(36)\n",
    "zz[:18] *= .6\n",
    "zz[18:] = 1-((1-zz[18:]) *.6)\n",
    "zz[zz >= .5] = 1\n",
    "zz[zz < .5] = 0\n",
    "\n",
    "def p2(a1, a2, b1, b2, c1, c2, d1, d2):\n",
    "    x = np.arange(-10, 10, .01)\n",
    "    y1 = a1*f(a2*x+b2)+b1\n",
    "    y2 = c1*f(c2*x+d2)+d1\n",
    "    plt.plot(x, y1+y2)\n",
    "    xx = np.arange(-9, 9, .5)\n",
    "    plt.plot(xx, zz, 'o')\n",
    "    loss = ((zz - (a1*f(a2*xx+b2)+b1) - (c1*f(c2*xx+d2)+d1))**2).sum() / 36\n",
    "    plt.title('Loss = {}'.format(loss))\n",
    "    plt.ylim(-1, 2)\n",
    "\n",
    "interact(p2, a1 = (-6, 6, .01), b1 = (-6, 6, .01), c1 = (-6, 6, .01), d1 = (-6, 6, .01), a2 = (-6, 6, .01), b2 = (-6, 6, .01), c2 = (-6, 6, .01), d2 = (-6, 6, .01))"
   ]
  },
  {
   "cell_type": "code",
   "execution_count": 10,
   "metadata": {},
   "outputs": [
    {
     "data": {
      "application/vnd.jupyter.widget-view+json": {
       "model_id": "bc04399d5dfe4ef68412acd3d6119168",
       "version_major": 2,
       "version_minor": 0
      },
      "text/plain": [
       "interactive(children=(FloatSlider(value=0.0, description='a1', max=6.0, min=-6.0, step=0.01), FloatSlider(valu…"
      ]
     },
     "metadata": {},
     "output_type": "display_data"
    },
    {
     "data": {
      "text/plain": [
       "<function __main__.p2_0(a1, a2, b1, b2, c1, c2, d1, d2)>"
      ]
     },
     "execution_count": 10,
     "metadata": {},
     "output_type": "execute_result"
    }
   ],
   "source": [
    "zz = np.random.random(36)\n",
    "zz[:18] *= .6\n",
    "zz[18:] = 1-((1-zz[18:]) *.6)\n",
    "zz[zz >= .5] = 1\n",
    "zz[zz < .5] = 0\n",
    "\n",
    "def p2_0(a1, a2, b1, b2, c1, c2, d1, d2):\n",
    "    x = np.arange(-10, 10, .01)\n",
    "    y1 = a1*g(a2*x+b2)+b1\n",
    "    y2 = c1*g(c2*x+d2)+d1\n",
    "    plt.plot(x, g(y1+y2))\n",
    "    xx = np.arange(-9, 9, .5)\n",
    "    plt.plot(xx, zz, 'o')\n",
    "    loss = ((zz - g((a1*g(a2*xx+b2)+b1) + (c1*g(c2*xx+d2)+d1)))**2).sum() / 36\n",
    "    plt.title('Loss = {}'.format(loss))\n",
    "    plt.ylim(-1, 2)\n",
    "\n",
    "interact(p2_0, a1 = (-6, 6, .01), b1 = (-6, 6, .01), c1 = (-6, 6, .01), d1 = (-6, 6, .01), a2 = (-6, 6, .01), b2 = (-6, 6, .01), c2 = (-6, 6, .01), d2 = (-6, 6, .01))"
   ]
  },
  {
   "cell_type": "markdown",
   "metadata": {},
   "source": [
    "### An example of the gradient\n",
    "![''](bdc21e4c-4a7f-4df1-bf05-82c41b6831a0.png)"
   ]
  },
  {
   "cell_type": "code",
   "execution_count": 11,
   "metadata": {},
   "outputs": [
    {
     "data": {
      "application/vnd.jupyter.widget-view+json": {
       "model_id": "64ae42c0789e4263a54a16dd4d7a0826",
       "version_major": 2,
       "version_minor": 0
      },
      "text/plain": [
       "interactive(children=(FloatSlider(value=0.0, description='a', max=6.0, min=-6.0, step=0.01), FloatSlider(value…"
      ]
     },
     "metadata": {},
     "output_type": "display_data"
    },
    {
     "data": {
      "text/plain": [
       "<function __main__.p3(a, b)>"
      ]
     },
     "execution_count": 11,
     "metadata": {},
     "output_type": "execute_result"
    }
   ],
   "source": [
    "x = np.arange(-10, 10, .01)\n",
    "err = (np.random.random(x.shape)-.5)\n",
    "yy = x/3 + 1 + err\n",
    "\n",
    "def p3(a, b):\n",
    "    y = a*x + b\n",
    "    plt.plot(x, yy, '.')\n",
    "    plt.plot(x, y, 'r-')\n",
    "    loss = ((yy - y)**2).sum() / y.shape[0]\n",
    "    plt.title('Loss = {}'.format(loss))\n",
    "    plt.ylim(-5, 5)\n",
    "\n",
    "interact(p3, a = (-6, 6, .01), b = (-6, 6, .01))"
   ]
  },
  {
   "cell_type": "code",
   "execution_count": 12,
   "metadata": {},
   "outputs": [
    {
     "name": "stdout",
     "output_type": "stream",
     "text": [
      "(119, 119)      \r"
     ]
    }
   ],
   "source": [
    "va = np.arange(-1.2, 1.2, .02)\n",
    "vb = np.arange(-6, 6, .1)\n",
    "x = np.arange(-10, 10, .01)\n",
    "\n",
    "A, B = np.meshgrid(va, vb)\n",
    "# L = np.load('Loss.npy')\n",
    "L = np.zeros(A.shape)\n",
    "for i in range(A.shape[0]):\n",
    "    for j in range(A.shape[1]):\n",
    "        a = A[i, j]\n",
    "        b = B[i, j]\n",
    "        y = a*x + b\n",
    "        L[i, j] = ((yy - y)**2).sum() / y.shape[0]\n",
    "        print('({}, {})      '.format(i, j), end = '\\r')\n",
    "np.save('Loss.npy', L)"
   ]
  },
  {
   "cell_type": "code",
   "execution_count": 13,
   "metadata": {},
   "outputs": [
    {
     "data": {
      "application/vnd.jupyter.widget-view+json": {
       "model_id": "abbf3025e0d940f2883b5890e3c96ec8",
       "version_major": 2,
       "version_minor": 0
      },
      "text/plain": [
       "interactive(children=(IntSlider(value=30, description='e', max=90, min=-90), IntSlider(value=45, description='…"
      ]
     },
     "metadata": {},
     "output_type": "display_data"
    },
    {
     "data": {
      "text/plain": [
       "<function __main__.p_tmp(e=30, a=45)>"
      ]
     },
     "execution_count": 13,
     "metadata": {},
     "output_type": "execute_result"
    }
   ],
   "source": [
    "from mpl_toolkits import mplot3d\n",
    "x = np.arange(-10, 10, .01)\n",
    "y = x/3 + 1\n",
    "\n",
    "def p_tmp(e = 30, a = 45):\n",
    "    fig = plt.figure(figsize = (15, 15))\n",
    "    ax3d = plt.axes(projection='3d')\n",
    "    ax3d.plot_surface(A, B, L, cmap = 'plasma')\n",
    "    ax3d.scatter3D(1/3, 1, ((yy - y)**2).sum() / y.shape[0], c = [0, 1, 0])\n",
    "    ax3d.view_init(elev = e, azim = a)\n",
    "interact(p_tmp, e = (-90, 90, 1), a = (-180, 180, 1))"
   ]
  },
  {
   "cell_type": "code",
   "execution_count": 19,
   "metadata": {},
   "outputs": [],
   "source": [
    "def bce(gt, data):\n",
    "    N = gt.shape[0]\n",
    "    L = -1/N * (gt * np.log(data) + (1 - gt) * np.log(1 - data)).sum()\n",
    "    return L"
   ]
  },
  {
   "cell_type": "code",
   "execution_count": 30,
   "metadata": {},
   "outputs": [
    {
     "data": {
      "application/vnd.jupyter.widget-view+json": {
       "model_id": "b1705892178742aca704f02774742ac5",
       "version_major": 2,
       "version_minor": 0
      },
      "text/plain": [
       "interactive(children=(FloatSlider(value=0.0, description='a', max=6.0, min=-6.0, step=0.01), FloatSlider(value…"
      ]
     },
     "metadata": {},
     "output_type": "display_data"
    },
    {
     "data": {
      "text/plain": [
       "<function __main__.p2_1(a, b)>"
      ]
     },
     "execution_count": 30,
     "metadata": {},
     "output_type": "execute_result"
    }
   ],
   "source": [
    "zz = np.random.random(36)\n",
    "zz[:12] *= .55\n",
    "zz[24:] = 1-((1-zz[24:]) *.55)\n",
    "zz[zz >= .5] = 1\n",
    "zz[zz < .5] = 0\n",
    "\n",
    "def p2_1(a, b):\n",
    "    x = np.arange(-10, 10, .01)\n",
    "    y1 = g(a*x+b)\n",
    "    plt.plot(x, y1)\n",
    "    xx = np.arange(-9, 9, .5)\n",
    "    plt.plot(xx, zz, 'o')\n",
    "    loss = ((zz - g(a*xx+b))**2).sum() / 36\n",
    "    plt.title('Loss = {}'.format(loss))\n",
    "    plt.ylim(-1, 2)\n",
    "\n",
    "interact(p2_1, a = (-6, 6, .01), b = (-6, 6, .01))"
   ]
  },
  {
   "cell_type": "code",
   "execution_count": 31,
   "metadata": {},
   "outputs": [
    {
     "data": {
      "application/vnd.jupyter.widget-view+json": {
       "model_id": "7cefdf2f3e9347669ca19a9d5e286adb",
       "version_major": 2,
       "version_minor": 0
      },
      "text/plain": [
       "interactive(children=(FloatSlider(value=0.0, description='a', max=6.0, min=-6.0, step=0.01), FloatSlider(value…"
      ]
     },
     "metadata": {},
     "output_type": "display_data"
    },
    {
     "data": {
      "text/plain": [
       "<function __main__.p2_2(a, b)>"
      ]
     },
     "execution_count": 31,
     "metadata": {},
     "output_type": "execute_result"
    }
   ],
   "source": [
    "def p2_2(a, b):\n",
    "    x = np.arange(-10, 10, .01)\n",
    "    y1 = g(a*x+b)\n",
    "    plt.plot(x, y1)\n",
    "    xx = np.arange(-9, 9, .5)\n",
    "    plt.plot(xx, zz, 'o')\n",
    "    loss = bce(zz, g(a*xx+b))\n",
    "    plt.title('Loss = {}'.format(loss))\n",
    "    plt.ylim(-1, 2)\n",
    "\n",
    "interact(p2_2, a = (-6, 6, .01), b = (-6, 6, .01))"
   ]
  },
  {
   "cell_type": "code",
   "execution_count": null,
   "metadata": {},
   "outputs": [],
   "source": []
  }
 ],
 "metadata": {
  "kernelspec": {
   "display_name": "Python 3",
   "language": "python",
   "name": "python3"
  },
  "language_info": {
   "codemirror_mode": {
    "name": "ipython",
    "version": 3
   },
   "file_extension": ".py",
   "mimetype": "text/x-python",
   "name": "python",
   "nbconvert_exporter": "python",
   "pygments_lexer": "ipython3",
   "version": "3.7.1"
  }
 },
 "nbformat": 4,
 "nbformat_minor": 4
}
