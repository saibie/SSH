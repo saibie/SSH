{
 "cells": [
  {
   "cell_type": "markdown",
   "metadata": {},
   "source": [
    "## Explaination for Deep Neural Network in theoritical sight"
   ]
  },
  {
   "cell_type": "code",
   "execution_count": 1,
   "metadata": {
    "tags": []
   },
   "outputs": [],
   "source": [
    "import numpy as np\n",
    "from matplotlib import pyplot as plt\n",
    "from ipywidgets import interact, interactive, fixed, interact_manual\n",
    "import ipywidgets as widgets"
   ]
  },
  {
   "cell_type": "code",
   "execution_count": 2,
   "metadata": {
    "tags": []
   },
   "outputs": [],
   "source": [
    "%matplotlib inline"
   ]
  },
  {
   "cell_type": "code",
   "execution_count": 3,
   "metadata": {
    "tags": []
   },
   "outputs": [
    {
     "data": {
      "application/vnd.jupyter.widget-view+json": {
       "model_id": "0ca229a854cc49c78af320d574a06a2c",
       "version_major": 2,
       "version_minor": 0
      },
      "text/plain": [
       "interactive(children=(Checkbox(value=False, description='estimating'), Output()), _dom_classes=('widget-intera…"
      ]
     },
     "metadata": {},
     "output_type": "display_data"
    },
    {
     "data": {
      "text/plain": [
       "<function __main__.tmp1(estimating=False)>"
      ]
     },
     "execution_count": 3,
     "metadata": {},
     "output_type": "execute_result"
    }
   ],
   "source": [
    "x = np.arange(-6, 6, .01)\n",
    "err = (np.random.random(x.shape) - .5) * .1\n",
    "\n",
    "def tmp1(estimating = False):\n",
    "    fig = plt.figure(figsize = (15, 5))\n",
    "    ax = fig.add_subplot(1, 1, 1)\n",
    "    ax.plot(x, np.sin(x) + err, '.k')\n",
    "    if estimating:\n",
    "        ax.plot(x, np.sin(x), '-r', linewidth = 3)\n",
    "        \n",
    "interact(tmp1, estimating = False)"
   ]
  },
  {
   "cell_type": "code",
   "execution_count": 4,
   "metadata": {},
   "outputs": [
    {
     "data": {
      "application/vnd.jupyter.widget-view+json": {
       "model_id": "b625bc6e32174bd5aab2f2d1766e90b3",
       "version_major": 2,
       "version_minor": 0
      },
      "text/plain": [
       "interactive(children=(FloatSlider(value=2.0, description='pr', max=2.0, step=0.01), Checkbox(value=False, desc…"
      ]
     },
     "metadata": {},
     "output_type": "display_data"
    },
    {
     "data": {
      "text/plain": [
       "<function __main__.tmp(pr=2, red=False)>"
      ]
     },
     "execution_count": 4,
     "metadata": {},
     "output_type": "execute_result"
    }
   ],
   "source": [
    "x = np.arange(-6, 6, .01)\n",
    "err = (np.random.random(x.shape) - .5)\n",
    "def tmp(pr = 2, red = False):\n",
    "    fig = plt.figure(figsize = (10, 5))\n",
    "    ax = fig.add_subplot(1, 1, 1)\n",
    "    ax.plot(x, np.sin(5*x)/5 + (x-2)*(x-1)*(x+3)*(x-3)*(x+4)/2000 + err * pr, '.')\n",
    "    if red:\n",
    "        # ax.set_title('Loss : {}'.format((((np.sin(5*x)/5 + (x-2)*(x-1)*(x+3)*(x-3)*(x+4)/2000 + err * pr) - ((x+1)**3 /150 - .2))**2).sum() / x.shape[0]))\n",
    "        ax.plot(x, (x+1)**3 /150 - .2, '-r', linewidth = 3)\n",
    "        \n",
    "interact(tmp, pr = (0, 2, .01), red = False)"
   ]
  },
  {
   "cell_type": "code",
   "execution_count": 5,
   "metadata": {},
   "outputs": [
    {
     "data": {
      "image/png": "[encoded data removed]",
      "text/plain": [
       "<Figure size 1080x180 with 3 Axes>"
      ]
     },
     "metadata": {
      "needs_background": "light"
     },
     "output_type": "display_data"
    }
   ],
   "source": [
    "def f(x):\n",
    "    x[x < 0] = 0\n",
    "    x[x > 0] = 1\n",
    "    return x # step function\n",
    "\n",
    "def g(x):\n",
    "    return 1/(1 + np.exp(-x)) # sigmoid\n",
    "# f test\n",
    "fig = plt.figure(figsize = (15, 2.5))\n",
    "ax1 = fig.add_subplot(1, 3, 1)\n",
    "ax1.plot(np.arange(-10, 10, .01), f(np.arange(-10, 10, .01)))\n",
    "ax1.set_title('Step')\n",
    "ax2 = fig.add_subplot(1, 3, 2)\n",
    "ax2.plot(np.arange(-10, 10, .01), g(np.arange(-10, 10, .01)))\n",
    "ax2.set_title('Sigmoid')\n",
    "ax3 = fig.add_subplot(1, 3, 3)\n",
    "ax3.plot(np.arange(-10, 10, .01), np.max(np.concatenate((np.arange(-10, 10, .01).reshape((1, 2000)), np.zeros((1, 2000))), axis = 0), axis = 0))\n",
    "ax3.set_title('ReLu')\n",
    "print('', end = '')"
   ]
  },
  {
   "cell_type": "code",
   "execution_count": 6,
   "metadata": {},
   "outputs": [
    {
     "data": {
      "application/vnd.jupyter.widget-view+json": {
       "model_id": "847108bf788d4446ae99f5debd608a4f",
       "version_major": 2,
       "version_minor": 0
      },
      "text/plain": [
       "interactive(children=(FloatSlider(value=0.0, description='a1', max=6.0, min=-6.0, step=0.01), FloatSlider(valu…"
      ]
     },
     "metadata": {},
     "output_type": "display_data"
    },
    {
     "data": {
      "text/plain": [
       "<function __main__.p1(a1, a2, b1, b2, c1, c2, d1, d2)>"
      ]
     },
     "execution_count": 6,
     "metadata": {},
     "output_type": "execute_result"
    }
   ],
   "source": [
    "yy = (np.random.random(3)-.5)*8\n",
    "def p1(a1, a2, b1, b2, c1, c2, d1, d2):\n",
    "    x = np.arange(-10, 10, .01)\n",
    "    y1 = a1*f(a2*x+b2)+b1\n",
    "    y2 = c1*f(c2*x+d2)+d1\n",
    "    plt.plot(x, y1+y2)\n",
    "    xx = np.array([-7.5, 0, 7.5])\n",
    "    plt.plot([-7.5, 0, 7.5], yy, 'o')\n",
    "    loss = ((yy - (a1*f(a2*xx+b2)+b1) - (c1*f(c2*xx+d2)+d1))**2).sum() / 3\n",
    "    plt.title('Loss = {}'.format(loss))\n",
    "    plt.ylim(-5, 5)\n",
    "\n",
    "interact(p1, a1 = (-6, 6, .01), b1 = (-6, 6, .01), c1 = (-6, 6, .01), d1 = (-6, 6, .01), a2 = (-6, 6, .01), b2 = (-6, 6, .01), c2 = (-6, 6, .01), d2 = (-6, 6, .01))"
   ]
  },
  {
   "cell_type": "markdown",
   "metadata": {},
   "source": [
    "### Loss function\n",
    "$$L = \\frac{1}{N}\\sum_{i}^{N} \\left({y_{i}} - \\bar{y_{i}}\\right)^{2} \\\\\n",
    "= \\frac{1}{N}\\sum_{i}^{N} \\left[{y_{i}} - \\left(a_{1} f(a_{2}x_{i} + b_{2}) + b_{1} + c_{1} f(c_{2}x_{i} + d_{2}) + d_{1}\\right)\\right] ^{2} $$"
   ]
  },
  {
   "cell_type": "code",
   "execution_count": 8,
   "metadata": {},
   "outputs": [
    {
     "data": {
      "application/vnd.jupyter.widget-view+json": {
       "model_id": "331a43ad74fb4c59892d369590338b0c",
       "version_major": 2,
       "version_minor": 0
      },
      "text/plain": [
       "interactive(children=(FloatSlider(value=0.0, description='a1', max=6.0, min=-6.0, step=0.01), FloatSlider(valu…"
      ]
     },
     "metadata": {},
     "output_type": "display_data"
    },
    {
     "data": {
      "text/plain": [
       "<function __main__.p2(a1, a2, b1, b2, c1, c2, d1, d2)>"
      ]
     },
     "execution_count": 8,
     "metadata": {},
     "output_type": "execute_result"
    }
   ],
   "source": [
    "zz = (np.random.random(36)-.5)\n",
    "zz[:12] += yy[0]\n",
    "zz[12:24] += yy[1]\n",
    "zz[24:36] += yy[2]\n",
    "\n",
    "def p2(a1, a2, b1, b2, c1, c2, d1, d2):\n",
    "    x = np.arange(-10, 10, .01)\n",
    "    y1 = a1*f(a2*x+b2)+b1\n",
    "    y2 = c1*f(c2*x+d2)+d1\n",
    "    plt.plot(x, y1+y2)\n",
    "    xx = np.arange(-9, 9, .5)\n",
    "    plt.plot(xx, zz, 'o')\n",
    "    loss = ((zz - (a1*f(a2*xx+b2)+b1) - (c1*f(c2*xx+d2)+d1))**2).sum() / 36\n",
    "    plt.title('Loss = {}'.format(loss))\n",
    "    plt.ylim(-5, 5)\n",
    "\n",
    "interact(p2, a1 = (-6, 6, .01), b1 = (-6, 6, .01), c1 = (-6, 6, .01), d1 = (-6, 6, .01), a2 = (-6, 6, .01), b2 = (-6, 6, .01), c2 = (-6, 6, .01), d2 = (-6, 6, .01))"
   ]
  },
  {
   "cell_type": "code",
   "execution_count": 9,
   "metadata": {},
   "outputs": [
    {
     "data": {
      "application/vnd.jupyter.widget-view+json": {
       "model_id": "653fb3ed51c04b6fb7b326eeabee6074",
       "version_major": 2,
       "version_minor": 0
      },
      "text/plain": [
       "interactive(children=(FloatSlider(value=0.0, description='a1', max=6.0, min=-6.0, step=0.01), FloatSlider(valu…"
      ]
     },
     "metadata": {},
     "output_type": "display_data"
    },
    {
     "data": {
      "text/plain": [
       "<function __main__.p2(a1, a2, b1, b2, c1, c2, d1, d2)>"
      ]
     },
     "execution_count": 9,
     "metadata": {},
     "output_type": "execute_result"
    }
   ],
   "source": [
    "zz = (np.random.random(36)-.5)\n",
    "zz[:12] += yy[0]\n",
    "zz[12:24] += yy[1]\n",
    "zz[24:36] += yy[2]\n",
    "\n",
    "def p2(a1, a2, b1, b2, c1, c2, d1, d2):\n",
    "    x = np.arange(-10, 10, .01)\n",
    "    y1 = a1*g(a2*x+b2)+b1\n",
    "    y2 = c1*g(c2*x+d2)+d1\n",
    "    plt.plot(x, y1+y2)\n",
    "    xx = np.arange(-9, 9, .5)\n",
    "    plt.plot(xx, zz, 'o')\n",
    "    loss = ((zz - (a1*g(a2*xx+b2)+b1) - (c1*g(c2*xx+d2)+d1))**2).sum() / 36\n",
    "    plt.title('Loss = {}'.format(loss))\n",
    "    plt.ylim(-5, 5)\n",
    "\n",
    "interact(p2, a1 = (-6, 6, .01), b1 = (-6, 6, .01), c1 = (-6, 6, .01), d1 = (-6, 6, .01), a2 = (-6, 6, .01), b2 = (-30, 30, .01), c2 = (-6, 6, .01), d2 = (-30, 30, .01))"
   ]
  },
  {
   "cell_type": "markdown",
   "metadata": {},
   "source": [
    "### 위를 네트워크로 표현\n",
    "![''](5833a648-6709-4a63-818f-e55a33e6d919.png)"
   ]
  },
  {
   "cell_type": "code",
   "execution_count": 10,
   "metadata": {},
   "outputs": [
    {
     "data": {
      "application/vnd.jupyter.widget-view+json": {
       "model_id": "6d62950ad4a142889447f444de51e71c",
       "version_major": 2,
       "version_minor": 0
      },
      "text/plain": [
       "interactive(children=(FloatSlider(value=0.0, description='a1', max=6.0, min=-6.0, step=0.01), FloatSlider(valu…"
      ]
     },
     "metadata": {},
     "output_type": "display_data"
    },
    {
     "data": {
      "text/plain": [
       "<function __main__.p2(a1, a2, b1, b2, c1, c2, d1, d2)>"
      ]
     },
     "execution_count": 10,
     "metadata": {},
     "output_type": "execute_result"
    }
   ],
   "source": [
    "zz = np.random.random(36)\n",
    "zz[:18] *= .6\n",
    "zz[18:] = 1-((1-zz[18:]) *.6)\n",
    "zz[zz >= .5] = 1\n",
    "zz[zz < .5] = 0\n",
    "\n",
    "def p2(a1, a2, b1, b2, c1, c2, d1, d2):\n",
    "    x = np.arange(-10, 10, .01)\n",
    "    y1 = a1*f(a2*x+b2)+b1\n",
    "    y2 = c1*f(c2*x+d2)+d1\n",
    "    plt.plot(x, y1+y2)\n",
    "    xx = np.arange(-9, 9, .5)\n",
    "    plt.plot(xx, zz, 'o')\n",
    "    loss = ((zz - (a1*f(a2*xx+b2)+b1) - (c1*f(c2*xx+d2)+d1))**2).sum() / 36\n",
    "    plt.title('Loss = {}'.format(loss))\n",
    "    plt.ylim(-1, 2)\n",
    "\n",
    "interact(p2, a1 = (-6, 6, .01), b1 = (-6, 6, .01), c1 = (-6, 6, .01), d1 = (-6, 6, .01), a2 = (-6, 6, .01), b2 = (-6, 6, .01), c2 = (-6, 6, .01), d2 = (-6, 6, .01))"
   ]
  },
  {
   "cell_type": "code",
   "execution_count": 11,
   "metadata": {},
   "outputs": [
    {
     "data": {
      "application/vnd.jupyter.widget-view+json": {
       "model_id": "1dca48479ca04340aa3a1bd0d8fe9cf5",
       "version_major": 2,
       "version_minor": 0
      },
      "text/plain": [
       "interactive(children=(FloatSlider(value=0.0, description='a1', max=6.0, min=-6.0, step=0.01), FloatSlider(valu…"
      ]
     },
     "metadata": {},
     "output_type": "display_data"
    },
    {
     "data": {
      "text/plain": [
       "<function __main__.p2_0(a1, a2, b1, b2, c1, c2, d1, d2)>"
      ]
     },
     "execution_count": 11,
     "metadata": {},
     "output_type": "execute_result"
    }
   ],
   "source": [
    "zz = np.random.random(36)\n",
    "zz[:18] *= .6\n",
    "zz[18:] = 1-((1-zz[18:]) *.6)\n",
    "zz[zz >= .5] = 1\n",
    "zz[zz < .5] = 0\n",
    "\n",
    "def p2_0(a1, a2, b1, b2, c1, c2, d1, d2):\n",
    "    x = np.arange(-10, 10, .01)\n",
    "    y1 = a1*g(a2*x+b2)+b1\n",
    "    y2 = c1*g(c2*x+d2)+d1\n",
    "    plt.plot(x, g(y1+y2))\n",
    "    xx = np.arange(-9, 9, .5)\n",
    "    plt.plot(xx, zz, 'o')\n",
    "    loss = ((zz - g((a1*g(a2*xx+b2)+b1) + (c1*g(c2*xx+d2)+d1)))**2).sum() / 36\n",
    "    plt.title('Loss = {}'.format(loss))\n",
    "    plt.ylim(-1, 2)\n",
    "\n",
    "interact(p2_0, a1 = (-6, 6, .01), b1 = (-6, 6, .01), c1 = (-6, 6, .01), d1 = (-6, 6, .01), a2 = (-6, 6, .01), b2 = (-6, 6, .01), c2 = (-6, 6, .01), d2 = (-6, 6, .01))"
   ]
  },
  {
   "cell_type": "markdown",
   "metadata": {},
   "source": [
    "### An example of the gradient\n",
    "![''](bdc21e4c-4a7f-4df1-bf05-82c41b6831a0.png)"
   ]
  },
  {
   "cell_type": "code",
   "execution_count": 12,
   "metadata": {},
   "outputs": [
    {
     "data": {
      "application/vnd.jupyter.widget-view+json": {
       "model_id": "79a28bc9414249918e628d408e9b5fd2",
       "version_major": 2,
       "version_minor": 0
      },
      "text/plain": [
       "interactive(children=(FloatSlider(value=0.0, description='a', max=6.0, min=-6.0, step=0.01), FloatSlider(value…"
      ]
     },
     "metadata": {},
     "output_type": "display_data"
    },
    {
     "data": {
      "text/plain": [
       "<function __main__.p3(a, b)>"
      ]
     },
     "execution_count": 12,
     "metadata": {},
     "output_type": "execute_result"
    }
   ],
   "source": [
    "x = np.arange(-10, 10, .01)\n",
    "err = (np.random.random(x.shape)-.5)\n",
    "yy = x/3 + 1 + err\n",
    "\n",
    "def p3(a, b):\n",
    "    y = a*x + b\n",
    "    plt.plot(x, yy, '.')\n",
    "    plt.plot(x, y, 'r-')\n",
    "    loss = ((yy - y)**2).sum() / y.shape[0]\n",
    "    plt.title('Loss = {}'.format(loss))\n",
    "    plt.ylim(-5, 5)\n",
    "\n",
    "interact(p3, a = (-6, 6, .01), b = (-6, 6, .01))"
   ]
  },
  {
   "cell_type": "code",
   "execution_count": 13,
   "metadata": {},
   "outputs": [
    {
     "name": "stdout",
     "output_type": "stream",
     "text": [
      "(119, 119)      \r"
     ]
    }
   ],
   "source": [
    "va = np.arange(-1.2, 1.2, .02)\n",
    "vb = np.arange(-6, 6, .1)\n",
    "x = np.arange(-10, 10, .01)\n",
    "\n",
    "A, B = np.meshgrid(va, vb)\n",
    "# L = np.load('Loss.npy')\n",
    "L = np.zeros(A.shape)\n",
    "for i in range(A.shape[0]):\n",
    "    for j in range(A.shape[1]):\n",
    "        a = A[i, j]\n",
    "        b = B[i, j]\n",
    "        y = a*x + b\n",
    "        L[i, j] = ((yy - y)**2).sum() / y.shape[0]\n",
    "        print('({}, {})      '.format(i, j), end = '\\r')\n",
    "np.save('Loss.npy', L)"
   ]
  },
  {
   "cell_type": "code",
   "execution_count": 14,
   "metadata": {},
   "outputs": [
    {
     "data": {
      "application/vnd.jupyter.widget-view+json": {
       "model_id": "d402f7eead4f44ebad5974c5d407a7c5",
       "version_major": 2,
       "version_minor": 0
      },
      "text/plain": [
       "interactive(children=(IntSlider(value=30, description='e', max=90, min=-90), IntSlider(value=45, description='…"
      ]
     },
     "metadata": {},
     "output_type": "display_data"
    },
    {
     "data": {
      "text/plain": [
       "<function __main__.p_tmp(e=30, a=45)>"
      ]
     },
     "execution_count": 14,
     "metadata": {},
     "output_type": "execute_result"
    }
   ],
   "source": [
    "from mpl_toolkits import mplot3d\n",
    "x = np.arange(-10, 10, .01)\n",
    "y = x/3 + 1\n",
    "\n",
    "def p_tmp(e = 30, a = 45):\n",
    "    fig = plt.figure(figsize = (15, 15))\n",
    "    ax3d = plt.axes(projection='3d')\n",
    "    ax3d.plot_surface(A, B, L, cmap = 'plasma')\n",
    "    ax3d.scatter3D(1/3, 1, ((yy - y)**2).sum() / y.shape[0], c = [[0, 1, 0]])\n",
    "    ax3d.view_init(elev = e, azim = a)\n",
    "interact(p_tmp, e = (-90, 90, 1), a = (-180, 180, 1))"
   ]
  },
  {
   "cell_type": "code",
   "execution_count": 15,
   "metadata": {},
   "outputs": [],
   "source": [
    "def bce(gt, data):\n",
    "    N = gt.shape[0]\n",
    "    L = -1/N * (gt * np.log(data) + (1 - gt) * np.log(1 - data)).sum()\n",
    "    return L"
   ]
  },
  {
   "cell_type": "markdown",
   "metadata": {},
   "source": [
    "## Binary Classification : 긴가민가 모델\n",
    "---\n",
    "### Loss Function : Mean Squared Error\n",
    "$$L = \\frac{1}{N}\\sum_{i} (y_{i} - \\bar{y_{i}})^2$$"
   ]
  },
  {
   "cell_type": "code",
   "execution_count": 16,
   "metadata": {},
   "outputs": [
    {
     "data": {
      "text/plain": [
       "Text(0.5, 1.0, 'y = 1')"
      ]
     },
     "execution_count": 16,
     "metadata": {},
     "output_type": "execute_result"
    },
    {
     "data": {
      "image/png": "[encoded data removed]",
      "text/plain": [
       "<Figure size 720x360 with 2 Axes>"
      ]
     },
     "metadata": {
      "needs_background": "light"
     },
     "output_type": "display_data"
    }
   ],
   "source": [
    "tx = np.arange(.01, 1, .01)\n",
    "t0 = tx**2\n",
    "t1 = (1 - tx)**2\n",
    "fig = plt.figure(figsize = (10, 5))\n",
    "ax0 = fig.add_subplot(1, 2, 1)\n",
    "ax1 = fig.add_subplot(1, 2, 2)\n",
    "ax0.plot(tx, t0)\n",
    "ax0.set_title('y = 0')\n",
    "ax1.plot(tx, t1)\n",
    "ax1.set_title('y = 1')"
   ]
  },
  {
   "cell_type": "code",
   "execution_count": 17,
   "metadata": {},
   "outputs": [
    {
     "data": {
      "application/vnd.jupyter.widget-view+json": {
       "model_id": "f751c73b3fe44048ace89649a2cdd220",
       "version_major": 2,
       "version_minor": 0
      },
      "text/plain": [
       "interactive(children=(FloatSlider(value=0.0, description='a', max=6.0, min=-6.0, step=0.01), FloatSlider(value…"
      ]
     },
     "metadata": {},
     "output_type": "display_data"
    },
    {
     "data": {
      "text/plain": [
       "<function __main__.p2_1(a, b)>"
      ]
     },
     "execution_count": 17,
     "metadata": {},
     "output_type": "execute_result"
    }
   ],
   "source": [
    "zz = np.random.random(36)\n",
    "zz[:12] *= .53\n",
    "zz[24:] = 1-((1-zz[24:]) *.53)\n",
    "zz[zz >= .5] = 1\n",
    "zz[zz < .5] = 0\n",
    "\n",
    "def p2_1(a, b):\n",
    "    x = np.arange(-10, 10, .01)\n",
    "    y1 = g(a*x+b)\n",
    "    plt.plot(x, y1)\n",
    "    xx = np.arange(-9, 9, .5)\n",
    "    plt.plot(xx, zz, 'o')\n",
    "    loss = ((zz - g(a*xx+b))**2).sum() / 36\n",
    "    plt.title('Loss = {}'.format(loss))\n",
    "    plt.ylim(-1, 2)\n",
    "\n",
    "interact(p2_1, a = (-6, 6, .01), b = (-6, 6, .01))"
   ]
  },
  {
   "cell_type": "markdown",
   "metadata": {},
   "source": [
    "### Loss Function : Binary Cross Entropy\n",
    "$$L = -\\frac{1}{N}\\sum_{i} \\left[ y_{i}{\\rm log}\\bar{y_{i}} + (1 - y_{i}){\\rm log}(1 - \\bar{y_{i}})\\right] $$"
   ]
  },
  {
   "cell_type": "code",
   "execution_count": 18,
   "metadata": {},
   "outputs": [
    {
     "data": {
      "text/plain": [
       "Text(0.5, 1.0, 'y = 1')"
      ]
     },
     "execution_count": 18,
     "metadata": {},
     "output_type": "execute_result"
    },
    {
     "data": {
      "image/png": "[encoded data removed]",
      "text/plain": [
       "<Figure size 720x360 with 2 Axes>"
      ]
     },
     "metadata": {
      "needs_background": "light"
     },
     "output_type": "display_data"
    }
   ],
   "source": [
    "tx = np.arange(.01, 1, .01)\n",
    "t0 = -np.log(1 - tx)\n",
    "t1 = -np.log(tx)\n",
    "fig = plt.figure(figsize = (10, 5))\n",
    "ax0 = fig.add_subplot(1, 2, 1)\n",
    "ax1 = fig.add_subplot(1, 2, 2)\n",
    "ax0.plot(tx, t0)\n",
    "ax0.set_title('y = 0')\n",
    "ax1.plot(tx, t1)\n",
    "ax1.set_title('y = 1')"
   ]
  },
  {
   "cell_type": "code",
   "execution_count": 19,
   "metadata": {},
   "outputs": [
    {
     "data": {
      "application/vnd.jupyter.widget-view+json": {
       "model_id": "d24ec6bf0fc84faeaa0ea42c7f9bd1d0",
       "version_major": 2,
       "version_minor": 0
      },
      "text/plain": [
       "interactive(children=(FloatSlider(value=0.0, description='a', max=6.0, min=-6.0, step=0.01), FloatSlider(value…"
      ]
     },
     "metadata": {},
     "output_type": "display_data"
    },
    {
     "data": {
      "text/plain": [
       "<function __main__.p2_2(a, b)>"
      ]
     },
     "execution_count": 19,
     "metadata": {},
     "output_type": "execute_result"
    }
   ],
   "source": [
    "def p2_2(a, b):\n",
    "    x = np.arange(-10, 10, .01)\n",
    "    y1 = g(a*x+b)\n",
    "    plt.plot(x, y1)\n",
    "    xx = np.arange(-9, 9, .5)\n",
    "    plt.plot(xx, zz, 'o')\n",
    "    loss = bce(zz, g(a*xx+b))\n",
    "    plt.title('Loss = {}'.format(loss))\n",
    "    plt.ylim(-1, 2)\n",
    "\n",
    "interact(p2_2, a = (-6, 6, .01), b = (-6, 6, .01))"
   ]
  },
  {
   "cell_type": "markdown",
   "metadata": {},
   "source": [
    "### Summary\n",
    "- DNN란 특정 모델의 coefficients를 변수로 놓고 주어진 data에 가장 fit한 변수를 찾는 과정. 보통, 변수화된 coefficients를 weights라 지칭.\n",
    "- Loss function은 값이 작을 수록 모델의 예측값이 fit함을 나타낼 수 있는 함수\n",
    "- Loss function의 minimization을 위해, 일반적으로, 모델은 미분이 잘 알려진 함수들의 합성 함수로 구성"
   ]
  }
 ],
 "metadata": {
  "kernelspec": {
   "display_name": "Python 3",
   "language": "python",
   "name": "python3"
  },
  "language_info": {
   "codemirror_mode": {
    "name": "ipython",
    "version": 3
   },
   "file_extension": ".py",
   "mimetype": "text/x-python",
   "name": "python",
   "nbconvert_exporter": "python",
   "pygments_lexer": "ipython3",
   "version": "3.7.1"
  }
 },
 "nbformat": 4,
 "nbformat_minor": 4
}
