{
 "cells": [
  {
   "cell_type": "code",
   "execution_count": 1,
   "metadata": {},
   "outputs": [],
   "source": [
    "import os, shutil\n",
    "import itertools\n",
    "import numpy as np\n",
    "from scipy.special import factorial\n",
    "from matplotlib import pyplot as plt"
   ]
  },
  {
   "cell_type": "code",
   "execution_count": 16,
   "metadata": {},
   "outputs": [],
   "source": [
    "buff1 = 7\n",
    "buff2 = 7\n",
    "buffs = 14\n",
    "debuff = 4"
   ]
  },
  {
   "cell_type": "code",
   "execution_count": 17,
   "metadata": {},
   "outputs": [],
   "source": [
    "cases = np.zeros((11, 11, 11, 11, 11, 11, 6))"
   ]
  },
  {
   "cell_type": "code",
   "execution_count": 52,
   "metadata": {},
   "outputs": [],
   "source": [
    "for b1d in range(10, -1, -1):\n",
    "    for b1u in range(b1d, -1, -1):\n",
    "        for b2d in range(10, -1, -1):\n",
    "            for b2u in range(b2d, -1, -1):\n",
    "                for dd in range(10, -1, -1):\n",
    "                    for du in range(dd, -1, -1):\n",
    "                        for prob in range(6):\n",
    "                            if b1d == 10 and b2d == 10 and dd == 10:\n",
    "                                if b1u >= buff1 and b2u >= buff2 and (b1u+b2u) >= buffs and du <= debuff:\n",
    "                                    cases[b1u, b1d, b2u, b2d, du, dd, prob] = 1\n",
    "                                else:\n",
    "                                    cases[b1u, b1d, b2u, b2d, du, dd, prob] = 0\n",
    "                            else:\n",
    "                                R = (prob*2+5)/20\n",
    "                                prob_sum1, prob_sum2, prob_sum3 = 0, 0, 0\n",
    "                                if b1d != 10:\n",
    "                                    prob_sum1 = R*cases[b1u+1, b1d+1, b2u, b2d, du, dd, max(prob-1, 0)] + (1-R)*cases[b1u, b1d+1, b2u, b2d, du, dd, min(prob+1, 5)]\n",
    "                                if b2d != 10:\n",
    "                                    prob_sum2 = R*cases[b1u, b1d, b2u+1, b2d+1, du, dd, max(prob-1, 0)] + (1-R)*cases[b1u, b1d, b2u, b2d+1, du, dd, min(prob+1, 5)]\n",
    "                                if dd != 10:\n",
    "                                    prob_sum3 = R*cases[b1u, b1d, b2u, b2d, du+1, dd+1, max(prob-1, 0)] + (1-R)*cases[b1u, b1d, b2u, b2d, du, dd+1, min(prob+1, 5)]\n",
    "                                cases[b1u, b1d, b2u, b2d, du, dd, prob] = max(prob_sum1, prob_sum2, prob_sum3)"
   ]
  },
  {
   "cell_type": "code",
   "execution_count": 53,
   "metadata": {},
   "outputs": [
    {
     "data": {
      "text/plain": [
       "0.0"
      ]
     },
     "execution_count": 53,
     "metadata": {},
     "output_type": "execute_result"
    }
   ],
   "source": [
    "cases[10, 10, 9, 9, 0, 10, 5]"
   ]
  },
  {
   "cell_type": "code",
   "execution_count": null,
   "metadata": {},
   "outputs": [],
   "source": []
  }
 ],
 "metadata": {
  "kernelspec": {
   "display_name": "Python 3",
   "language": "python",
   "name": "python3"
  },
  "language_info": {
   "codemirror_mode": {
    "name": "ipython",
    "version": 3
   },
   "file_extension": ".py",
   "mimetype": "text/x-python",
   "name": "python",
   "nbconvert_exporter": "python",
   "pygments_lexer": "ipython3",
   "version": "3.7.7"
  }
 },
 "nbformat": 4,
 "nbformat_minor": 4
}
