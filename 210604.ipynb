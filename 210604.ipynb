{
 "cells": [
  {
   "cell_type": "markdown",
   "metadata": {
    "tags": []
   },
   "source": [
    "# (주)에이아이인사이트 : 안저사진을 통한 안과질환 판독 정확도 향상을 위한 AI 알고리즘 개선 방법 제시\n",
    "## 프로젝트의 역사\n",
    "### 배경 : 안과질환 진단플랫폼 서비스 개발 사업\n",
    "- 진행기간 : 2019 ~ 2021년\n",
    "- 참여기관 : 부산대학교병원, (주)에이아이인사이트, ~국가수리과학연구소~\n",
    "- 과제 지원기관의 일방적인 프로젝트 중단 통보에 대해, 예산규모 축소와 수리연의 탈퇴를 통하여 사업은 존속\n",
    "\n",
    "### 이후 : 산업문제화\n",
    "- 사업 진행 2년차에 AI 알고리즘 개발은 거의 완료 - 학습이미지 약 10K\n",
    "- 3년차 사업은 직접 개발한 안저카메라를 통해, 데이터 수집 및 실질 검증하는 성격이 강함\n",
    "- 안저카메라 개발과 알고리즘 개발의 병행으로 인해 학습이미지는 **타사**의 **다양한** 카메라로 촬영된 것\n",
    "- 촬영환경과 하드웨어의 차이로 인하여, 현장에서 새로 수집된 이미지에 대한 질병 판독률이 떨어짐\n",
    "- 이미지를 재학습하기 어려운 환경으로 기존 학습 상황을 반영한 알고리즘의 개선이 필요\n",
    "\n",
    "## 당면과제\n",
    "- 기업 입장에서는 오판독보다 판독 포기가 합리적일 수 있음\n",
    "- 판독 포기 알고리즘 개발을 위한 열화이미지 생성 프로그램 제작 필요"
   ]
  },
  {
   "cell_type": "markdown",
   "metadata": {
    "tags": []
   },
   "source": [
    "<img src = \"../Optic_Images/Fundus_Squared/AMD_dry/1.jpg\" width = \"300\">"
   ]
  },
  {
   "cell_type": "markdown",
   "metadata": {
    "tags": []
   },
   "source": [
    "# 부산대병원 : 흉부 CT 기반, 폐좌상 용적 계산 알고리즘 개발\n",
    "## 배경\n",
    "- 외상환자(교통사고 등)의 CT상 폐좌상의 크기는 흉부손상환자의 **입원 중 폐렴, 급성 호흡곤란증후군**과의 높은 연관성\n",
    "- 즉, 외상 부위의 수술이 효과적이었다 하더라도 입원 회복 중 환자가 다시 위험해질 수 있음\n",
    "- 폐좌상의 정량화로 조기위험 계층화와 합병증 발생 예방조치 및 관리용 지표 개발을 추구\n",
    "\n",
    "## 어려운 점\n",
    "- 폐와 관련된 많은 CT open data는 **깨끗함** : CT 촬영 중 환자의 의식이 정상이며 협조도 잘 됨\n",
    "- 외상환자는 CT 촬영 중 의식이 없거나 체력 부족으로 환자의 협조를 기대하기 어렵고, 환자별로 협조도의 차이가 있음 (ex> '숨을 크게 마시세요')\n",
    "- 그로 인해, 다양한 연구결과를 부산대병원 외상환자에게 적용하기 힘든 점이 있음\n",
    "\n",
    "## 진행 및 시도 사항\n",
    "- 논문에서 기본적인 정상폐포의 Hounsfiled Unit(HU)의 범위는 -950 ~ -700이라는 내용을 확인\n",
    "- 흉부 CT에서 폐영역만 segmentation 해 주는 AI 알고리즘 확인\n",
    "- 흉부 영역 내에서의 HU에 따른 분포 histogram 확인\n",
    "- 위 histogram을 기반으로, Gaussian Mixed Model을 이용해 환자별 적정 HU 범위를 구하려 했으나, 전문의의 의견으로는 적합하지 않다 판명"
   ]
  },
  {
   "cell_type": "raw",
   "metadata": {},
   "source": [
    "import os"
   ]
  },
  {
   "cell_type": "raw",
   "metadata": {},
   "source": [
    "path = '..'\n",
    "[x for x in os.listdir(path) if os.path.isdir('/'.join([path, x]))]"
   ]
  }
 ],
 "metadata": {
  "kernelspec": {
   "display_name": "Python 3",
   "language": "python",
   "name": "python3"
  },
  "language_info": {
   "codemirror_mode": {
    "name": "ipython",
    "version": 3
   },
   "file_extension": ".py",
   "mimetype": "text/x-python",
   "name": "python",
   "nbconvert_exporter": "python",
   "pygments_lexer": "ipython3",
   "version": "3.7.1"
  },
  "toc-autonumbering": true,
  "toc-showcode": false,
  "toc-showmarkdowntxt": false,
  "toc-showtags": false
 },
 "nbformat": 4,
 "nbformat_minor": 4
}
